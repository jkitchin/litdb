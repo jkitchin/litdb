{
 "cells": [
  {
   "cell_type": "markdown",
   "id": "e34dd62c-941b-42d4-9406-c59e9a68c934",
   "metadata": {},
   "source": [
    "Litdb + Jupyter Lab!\n",
    "--------------------\n",
    "\n",
    "This notebook shows several ways to use litdb inside a Jupyter notebook."
   ]
  },
  {
   "cell_type": "code",
   "execution_count": 1,
   "id": "0c84bd12-d88f-4efa-b691-7a1d3b7d9bf4",
   "metadata": {},
   "outputs": [],
   "source": [
    "# Start clean\n",
    "! rm -f litdb.toml litdb.libsql litdb.libsql-shm"
   ]
  },
  {
   "cell_type": "code",
   "execution_count": 1,
   "id": "e63a1465-73e4-466d-9f72-d84afba9ca54",
   "metadata": {},
   "outputs": [],
   "source": [
    "import litdb  # noqa: F401"
   ]
  },
  {
   "cell_type": "markdown",
   "id": "50d07442-01a8-424f-995e-5b520174f8e2",
   "metadata": {},
   "source": [
    "Most of these commands should work. I have not tested them all though."
   ]
  },
  {
   "cell_type": "code",
   "execution_count": 2,
   "id": "e056ed36-259b-4cea-8183-09714b5fc931",
   "metadata": {},
   "outputs": [
    {
     "name": "stdout",
     "output_type": "stream",
     "text": [
      "Usage: ipykernel_launcher.py [OPTIONS] COMMAND [ARGS]...\n",
      "\n",
      "  Group command for litdb.\n",
      "\n",
      "Options:\n",
      "  --help  Show this message and exit.\n",
      "\n",
      "Commands:\n",
      "  about              Summary statistics of your db.\n",
      "  add                Add WIDS to the db.\n",
      "  add-filter         Add an OpenAlex FILTER.\n",
      "  add-tag            Add tags to sources.\n",
      "  audio              Record audio, convert it to text, and do a vector...\n",
      "  author-search      Search OpenAlex for name.\n",
      "  bibtex             Generate bibtex entries for sources.\n",
      "  citation           Generate citation strings for sources.\n",
      "  citing             Create a watch for articles that cite doi.\n",
      "  coa                Generate Table 4 of Collaborators and Other...\n",
      "  crossref           Add entries to litdb from a crossref query.\n",
      "  delete-tag         Delete each tag.\n",
      "  follow             Add a filter to follow orcid.\n",
      "  fulltext           Perform a fulltext search on litdb.\n",
      "  gpt                Run an ollama query with PROMPT.\n",
      "  hybrid-search      Perform a hybrid vector and full text search.\n",
      "  index              Index the directories in SOURCES.\n",
      "  init               Initialize a litdb directory in the current working...\n",
      "  list-filters       List the filters.\n",
      "  list-tags          Print defined tags.\n",
      "  open               Open source.\n",
      "  openalex           Run an openalex query on FILTER.\n",
      "  reindex            Reindex saved directories.\n",
      "  related            Create a watch for articles that are related to doi.\n",
      "  review             Review new entries added SINCE.\n",
      "  rm-filter          Remove an OpenAlex FILTER.\n",
      "  rm-tag             Remove tags from sources.\n",
      "  screenshot         Do vector search from text in a screenshot.\n",
      "  show               Show the source.\n",
      "  show-tag           Show entries with tags.\n",
      "  similar            Find N sources similar to SOURCE by vector similarity.\n",
      "  sql                Run the SQL command on the db.\n",
      "  suggest-reviewers  Suggest reviewers for QUERY.\n",
      "  unpaywall          Use unpaywall to find PDFs for doi.\n",
      "  update-embeddings  Update all the embeddings in your db.\n",
      "  update-filters     Update litdb using a filter with works from a...\n",
      "  vsearch            Do a vector search on QUERY.\n",
      "  watch              Create a watch on query.\n",
      "  web                Open a web search for QUERY.\n"
     ]
    }
   ],
   "source": [
    "%litdb --help"
   ]
  },
  {
   "cell_type": "markdown",
   "id": "c6b45c54-8d9c-471a-97c2-71282514b0b9",
   "metadata": {},
   "source": [
    "We want to make a new litdb here."
   ]
  },
  {
   "cell_type": "code",
   "execution_count": 4,
   "id": "ec127192-9803-4df5-a8fd-24c9165f2abe",
   "metadata": {},
   "outputs": [
    {
     "name": "stdin",
     "output_type": "stream",
     "text": [
      "Email address:  jkitchin@andrew.cmu.edu\n",
      "OpenAlex API key (Enter if None):  \n"
     ]
    },
    {
     "name": "stdout",
     "output_type": "stream",
     "text": [
      "Initialized in /Users/jkitchin/Dropbox/emacs/projects/projects/litdb\n"
     ]
    }
   ],
   "source": [
    "%litdb init"
   ]
  },
  {
   "cell_type": "code",
   "execution_count": 5,
   "id": "b9d7e678-f0ba-490d-b1af-c660c1dce7c8",
   "metadata": {},
   "outputs": [
    {
     "data": {
      "text/html": [
       "<pre style=\"white-space:pre;overflow-x:auto;line-height:normal;font-family:Menlo,'DejaVu Sans Mono',consolas,'Courier New',monospace\">Your database is located at <span style=\"color: #800080; text-decoration-color: #800080\">/Users/jkitchin/Dropbox/emacs/projects/projects/litdb/</span><span style=\"color: #ff00ff; text-decoration-color: #ff00ff\">litdb.libsql</span>\n",
       "</pre>\n"
      ],
      "text/plain": [
       "Your database is located at \u001b[35m/Users/jkitchin/Dropbox/emacs/projects/projects/litdb/\u001b[0m\u001b[95mlitdb.libsql\u001b[0m\n"
      ]
     },
     "metadata": {},
     "output_type": "display_data"
    },
    {
     "data": {
      "text/html": [
       "<pre style=\"white-space:pre;overflow-x:auto;line-height:normal;font-family:Menlo,'DejaVu Sans Mono',consolas,'Courier New',monospace\">Database size: <span style=\"color: #008080; text-decoration-color: #008080; font-weight: bold\">0.00</span> GB\n",
       "</pre>\n"
      ],
      "text/plain": [
       "Database size: \u001b[1;36m0.00\u001b[0m GB\n"
      ]
     },
     "metadata": {},
     "output_type": "display_data"
    },
    {
     "data": {
      "text/html": [
       "<pre style=\"white-space:pre;overflow-x:auto;line-height:normal;font-family:Menlo,'DejaVu Sans Mono',consolas,'Courier New',monospace\">You have <span style=\"color: #008080; text-decoration-color: #008080; font-weight: bold\">0</span> sources\n",
       "</pre>\n"
      ],
      "text/plain": [
       "You have \u001b[1;36m0\u001b[0m sources\n"
      ]
     },
     "metadata": {},
     "output_type": "display_data"
    }
   ],
   "source": [
    "%litdb about"
   ]
  },
  {
   "cell_type": "code",
   "execution_count": 6,
   "id": "17999bfa-0c1b-4581-8231-912bfcbe9fcb",
   "metadata": {},
   "outputs": [
    {
     "data": {
      "text/html": [
       "<pre style=\"white-space:pre;overflow-x:auto;line-height:normal;font-family:Menlo,'DejaVu Sans Mono',consolas,'Courier New',monospace\">- John R. Kitchin\n",
       "  Carnegie Mellon University, USA <span style=\"color: #0000ff; text-decoration-color: #0000ff; text-decoration: underline\">https://orcid.org/0000-0003-2625-9232</span>\n",
       "\n",
       "\n",
       "</pre>\n"
      ],
      "text/plain": [
       "- John R. Kitchin\n",
       "  Carnegie Mellon University, USA \u001b[4;94mhttps://orcid.org/0000-0003-2625-9232\u001b[0m\n",
       "\n",
       "\n"
      ]
     },
     "metadata": {},
     "output_type": "display_data"
    }
   ],
   "source": [
    "%litdb author-search john r kitchin"
   ]
  },
  {
   "cell_type": "code",
   "execution_count": 7,
   "id": "e01040c7-e265-4c01-936f-d5e165e0312c",
   "metadata": {},
   "outputs": [
    {
     "name": "stderr",
     "output_type": "stream",
     "text": [
      "100%|█████████████████████████████████████████| 200/200 [05:00<00:00,  1.50s/it]\n",
      "100%|███████████████████████████████████████████| 24/24 [00:32<00:00,  1.36s/it]\n",
      "0it [00:00, ?it/s]\n"
     ]
    },
    {
     "data": {
      "text/html": [
       "<pre style=\"white-space:pre;overflow-x:auto;line-height:normal;font-family:Menlo,'DejaVu Sans Mono',consolas,'Courier New',monospace\">Following John R. Kitchin: <span style=\"color: #0000ff; text-decoration-color: #0000ff; text-decoration: underline\">https://orcid.org/0000-0003-2625-9232</span>\n",
       "</pre>\n"
      ],
      "text/plain": [
       "Following John R. Kitchin: \u001b[4;94mhttps://orcid.org/0000-0003-2625-9232\u001b[0m\n"
      ]
     },
     "metadata": {},
     "output_type": "display_data"
    }
   ],
   "source": [
    "%litdb follow https://orcid.org/0000-0003-2625-9232"
   ]
  },
  {
   "cell_type": "code",
   "execution_count": 3,
   "id": "36b64c45-002e-4dbe-943b-3f1e5e95d53e",
   "metadata": {},
   "outputs": [
    {
     "data": {
      "text/html": [
       "<pre style=\"white-space:pre;overflow-x:auto;line-height:normal;font-family:Menlo,'DejaVu Sans Mono',consolas,'Courier New',monospace\">Your database is located at <span style=\"color: #800080; text-decoration-color: #800080\">/Users/jkitchin/Dropbox/emacs/projects/projects/litdb/</span><span style=\"color: #ff00ff; text-decoration-color: #ff00ff\">litdb.libsql</span>\n",
       "</pre>\n"
      ],
      "text/plain": [
       "Your database is located at \u001b[35m/Users/jkitchin/Dropbox/emacs/projects/projects/litdb/\u001b[0m\u001b[95mlitdb.libsql\u001b[0m\n"
      ]
     },
     "metadata": {},
     "output_type": "display_data"
    },
    {
     "data": {
      "text/html": [
       "<pre style=\"white-space:pre;overflow-x:auto;line-height:normal;font-family:Menlo,'DejaVu Sans Mono',consolas,'Courier New',monospace\">Database size: <span style=\"color: #008080; text-decoration-color: #008080; font-weight: bold\">0.02</span> GB\n",
       "</pre>\n"
      ],
      "text/plain": [
       "Database size: \u001b[1;36m0.02\u001b[0m GB\n"
      ]
     },
     "metadata": {},
     "output_type": "display_data"
    },
    {
     "data": {
      "text/html": [
       "<pre style=\"white-space:pre;overflow-x:auto;line-height:normal;font-family:Menlo,'DejaVu Sans Mono',consolas,'Courier New',monospace\">You have <span style=\"color: #008080; text-decoration-color: #008080; font-weight: bold\">224</span> sources\n",
       "</pre>\n"
      ],
      "text/plain": [
       "You have \u001b[1;36m224\u001b[0m sources\n"
      ]
     },
     "metadata": {},
     "output_type": "display_data"
    }
   ],
   "source": [
    "%litdb about"
   ]
  },
  {
   "cell_type": "code",
   "execution_count": 3,
   "id": "adec735f-f105-4b89-b7e8-7ff88a1a50d8",
   "metadata": {},
   "outputs": [
    {
     "data": {
      "text/html": [
       "<pre style=\"white-space:pre;overflow-x:auto;line-height:normal;font-family:Menlo,'DejaVu Sans Mono',consolas,'Courier New',monospace\"> <span style=\"color: #008080; text-decoration-color: #008080; font-weight: bold\">1</span>. <span style=\"font-weight: bold\">(</span><span style=\"color: #008080; text-decoration-color: #008080; font-weight: bold\">0.432</span><span style=\"font-weight: bold\">)</span> Investigating the Reactivity of Single Atom Alloys Using Density Functional Theory, Hari Thirumalai, \n",
       "John R. Kitchin, Topics in Catalysis <span style=\"font-weight: bold\">(</span><span style=\"color: #008080; text-decoration-color: #008080; font-weight: bold\">2018</span><span style=\"font-weight: bold\">)</span> <span style=\"color: #0000ff; text-decoration-color: #0000ff; text-decoration: underline\">https://doi.org/10.1007/s11244-018-0899-0</span>\n",
       "\n",
       "No abstract\n",
       "\n",
       "</pre>\n"
      ],
      "text/plain": [
       " \u001b[1;36m1\u001b[0m. \u001b[1m(\u001b[0m\u001b[1;36m0.432\u001b[0m\u001b[1m)\u001b[0m Investigating the Reactivity of Single Atom Alloys Using Density Functional Theory, Hari Thirumalai, \n",
       "John R. Kitchin, Topics in Catalysis \u001b[1m(\u001b[0m\u001b[1;36m2018\u001b[0m\u001b[1m)\u001b[0m \u001b[4;94mhttps://doi.org/10.1007/s11244-018-0899-0\u001b[0m\n",
       "\n",
       "No abstract\n",
       "\n"
      ]
     },
     "metadata": {},
     "output_type": "display_data"
    },
    {
     "data": {
      "text/html": [
       "<pre style=\"white-space:pre;overflow-x:auto;line-height:normal;font-family:Menlo,'DejaVu Sans Mono',consolas,'Courier New',monospace\"> <span style=\"color: #008080; text-decoration-color: #008080; font-weight: bold\">2</span>. <span style=\"font-weight: bold\">(</span><span style=\"color: #008080; text-decoration-color: #008080; font-weight: bold\">0.527</span><span style=\"font-weight: bold\">)</span> Alloy surface segregation in reactive environments via density functional theory and atomistic \n",
       "thermodyanamics, John R. Kitchin, Karsten Reuter, Matthias Scheffler, Bulletin of the American Physical Society \n",
       "<span style=\"font-weight: bold\">(</span><span style=\"color: #008080; text-decoration-color: #008080; font-weight: bold\">2005</span><span style=\"font-weight: bold\">)</span> <span style=\"color: #0000ff; text-decoration-color: #0000ff; text-decoration: underline\">https://openalex.org/W1931953664</span>\n",
       "\n",
       "No abstract\n",
       "\n",
       "</pre>\n"
      ],
      "text/plain": [
       " \u001b[1;36m2\u001b[0m. \u001b[1m(\u001b[0m\u001b[1;36m0.527\u001b[0m\u001b[1m)\u001b[0m Alloy surface segregation in reactive environments via density functional theory and atomistic \n",
       "thermodyanamics, John R. Kitchin, Karsten Reuter, Matthias Scheffler, Bulletin of the American Physical Society \n",
       "\u001b[1m(\u001b[0m\u001b[1;36m2005\u001b[0m\u001b[1m)\u001b[0m \u001b[4;94mhttps://openalex.org/W1931953664\u001b[0m\n",
       "\n",
       "No abstract\n",
       "\n"
      ]
     },
     "metadata": {},
     "output_type": "display_data"
    },
    {
     "data": {
      "text/html": [
       "<pre style=\"white-space:pre;overflow-x:auto;line-height:normal;font-family:Menlo,'DejaVu Sans Mono',consolas,'Courier New',monospace\"> <span style=\"color: #008080; text-decoration-color: #008080; font-weight: bold\">3</span>. <span style=\"font-weight: bold\">(</span><span style=\"color: #008080; text-decoration-color: #008080; font-weight: bold\">0.548</span><span style=\"font-weight: bold\">)</span> SingleNN: Modified Behler–Parrinello Neural Network with Shared Weights for Atomistic Simulations with \n",
       "Transferability, Mingjie Liu, John R. Kitchin, The Journal of Physical Chemistry C <span style=\"font-weight: bold\">(</span><span style=\"color: #008080; text-decoration-color: #008080; font-weight: bold\">2020</span><span style=\"font-weight: bold\">)</span> \n",
       "<span style=\"color: #0000ff; text-decoration-color: #0000ff; text-decoration: underline\">https://doi.org/10.1021/acs.jpcc.0c04225</span>\n",
       "\n",
       "In this article, we introduce the SingleNN, which is a modified version of the Behler–Parrinello Neural Network \n",
       "<span style=\"font-weight: bold\">(</span>BPNN<span style=\"font-weight: bold\">)</span> where the neural networks for the prediction of atomic energy for different elements are combined into a \n",
       "single network with shared weights. Using a data set containing Cu, Ge, Li, Mo, Ni, and Si, we demonstrate that \n",
       "SingleNN could achieve an accuracy that is on a par with BPNN for energy and force predictions. Furthermore, we \n",
       "demonstrate that SingleNN could learn a common transformation for the fingerprints of atoms to a latent space in \n",
       "which the atomic energies of the atoms are nearly linear. Using the common transformation, we could fit the data \n",
       "with new elements by changing only weights in the output layer in the neural network. In this way, with a moderate \n",
       "compromise in accuracy, we can speed up the training process significantly and potentially reduce the amount of \n",
       "training data needed.\n",
       "\n",
       "</pre>\n"
      ],
      "text/plain": [
       " \u001b[1;36m3\u001b[0m. \u001b[1m(\u001b[0m\u001b[1;36m0.548\u001b[0m\u001b[1m)\u001b[0m SingleNN: Modified Behler–Parrinello Neural Network with Shared Weights for Atomistic Simulations with \n",
       "Transferability, Mingjie Liu, John R. Kitchin, The Journal of Physical Chemistry C \u001b[1m(\u001b[0m\u001b[1;36m2020\u001b[0m\u001b[1m)\u001b[0m \n",
       "\u001b[4;94mhttps://doi.org/10.1021/acs.jpcc.0c04225\u001b[0m\n",
       "\n",
       "In this article, we introduce the SingleNN, which is a modified version of the Behler–Parrinello Neural Network \n",
       "\u001b[1m(\u001b[0mBPNN\u001b[1m)\u001b[0m where the neural networks for the prediction of atomic energy for different elements are combined into a \n",
       "single network with shared weights. Using a data set containing Cu, Ge, Li, Mo, Ni, and Si, we demonstrate that \n",
       "SingleNN could achieve an accuracy that is on a par with BPNN for energy and force predictions. Furthermore, we \n",
       "demonstrate that SingleNN could learn a common transformation for the fingerprints of atoms to a latent space in \n",
       "which the atomic energies of the atoms are nearly linear. Using the common transformation, we could fit the data \n",
       "with new elements by changing only weights in the output layer in the neural network. In this way, with a moderate \n",
       "compromise in accuracy, we can speed up the training process significantly and potentially reduce the amount of \n",
       "training data needed.\n",
       "\n"
      ]
     },
     "metadata": {},
     "output_type": "display_data"
    }
   ],
   "source": [
    "%litdb vsearch single atom alloy"
   ]
  },
  {
   "cell_type": "code",
   "execution_count": 4,
   "id": "d160ca4d-8ec9-4417-8c94-f432a2c5f2ca",
   "metadata": {},
   "outputs": [
    {
     "data": {
      "text/html": [
       "<pre style=\"white-space:pre;overflow-x:auto;line-height:normal;font-family:Menlo,'DejaVu Sans Mono',consolas,'Courier New',monospace\"> <span style=\"color: #008080; text-decoration-color: #008080; font-weight: bold\">1</span>. <span style=\"font-weight: bold\">(</span><span style=\"color: #008080; text-decoration-color: #008080; font-weight: bold\">0.432</span><span style=\"font-weight: bold\">)</span> Investigating the Reactivity of Single Atom Alloys Using Density Functional Theory, Hari Thirumalai, \n",
       "John R. Kitchin, Topics in Catalysis <span style=\"font-weight: bold\">(</span><span style=\"color: #008080; text-decoration-color: #008080; font-weight: bold\">2018</span><span style=\"font-weight: bold\">)</span> <span style=\"color: #0000ff; text-decoration-color: #0000ff; text-decoration: underline\">https://doi.org/10.1007/s11244-018-0899-0</span>\n",
       "\n",
       "No abstract\n",
       "\n",
       "</pre>\n"
      ],
      "text/plain": [
       " \u001b[1;36m1\u001b[0m. \u001b[1m(\u001b[0m\u001b[1;36m0.432\u001b[0m\u001b[1m)\u001b[0m Investigating the Reactivity of Single Atom Alloys Using Density Functional Theory, Hari Thirumalai, \n",
       "John R. Kitchin, Topics in Catalysis \u001b[1m(\u001b[0m\u001b[1;36m2018\u001b[0m\u001b[1m)\u001b[0m \u001b[4;94mhttps://doi.org/10.1007/s11244-018-0899-0\u001b[0m\n",
       "\n",
       "No abstract\n",
       "\n"
      ]
     },
     "metadata": {},
     "output_type": "display_data"
    },
    {
     "data": {
      "text/html": [
       "<pre style=\"white-space:pre;overflow-x:auto;line-height:normal;font-family:Menlo,'DejaVu Sans Mono',consolas,'Courier New',monospace\"> <span style=\"color: #008080; text-decoration-color: #008080; font-weight: bold\">2</span>. <span style=\"font-weight: bold\">(</span><span style=\"color: #008080; text-decoration-color: #008080; font-weight: bold\">0.527</span><span style=\"font-weight: bold\">)</span> Alloy surface segregation in reactive environments via density functional theory and atomistic \n",
       "thermodyanamics, John R. Kitchin, Karsten Reuter, Matthias Scheffler, Bulletin of the American Physical Society \n",
       "<span style=\"font-weight: bold\">(</span><span style=\"color: #008080; text-decoration-color: #008080; font-weight: bold\">2005</span><span style=\"font-weight: bold\">)</span> <span style=\"color: #0000ff; text-decoration-color: #0000ff; text-decoration: underline\">https://openalex.org/W1931953664</span>\n",
       "\n",
       "No abstract\n",
       "\n",
       "</pre>\n"
      ],
      "text/plain": [
       " \u001b[1;36m2\u001b[0m. \u001b[1m(\u001b[0m\u001b[1;36m0.527\u001b[0m\u001b[1m)\u001b[0m Alloy surface segregation in reactive environments via density functional theory and atomistic \n",
       "thermodyanamics, John R. Kitchin, Karsten Reuter, Matthias Scheffler, Bulletin of the American Physical Society \n",
       "\u001b[1m(\u001b[0m\u001b[1;36m2005\u001b[0m\u001b[1m)\u001b[0m \u001b[4;94mhttps://openalex.org/W1931953664\u001b[0m\n",
       "\n",
       "No abstract\n",
       "\n"
      ]
     },
     "metadata": {},
     "output_type": "display_data"
    },
    {
     "data": {
      "text/html": [
       "<pre style=\"white-space:pre;overflow-x:auto;line-height:normal;font-family:Menlo,'DejaVu Sans Mono',consolas,'Courier New',monospace\"> <span style=\"color: #008080; text-decoration-color: #008080; font-weight: bold\">3</span>. <span style=\"font-weight: bold\">(</span><span style=\"color: #008080; text-decoration-color: #008080; font-weight: bold\">0.548</span><span style=\"font-weight: bold\">)</span> SingleNN: Modified Behler–Parrinello Neural Network with Shared Weights for Atomistic Simulations with \n",
       "Transferability, Mingjie Liu, John R. Kitchin, The Journal of Physical Chemistry C <span style=\"font-weight: bold\">(</span><span style=\"color: #008080; text-decoration-color: #008080; font-weight: bold\">2020</span><span style=\"font-weight: bold\">)</span> \n",
       "<span style=\"color: #0000ff; text-decoration-color: #0000ff; text-decoration: underline\">https://doi.org/10.1021/acs.jpcc.0c04225</span>\n",
       "\n",
       "In this article, we introduce the SingleNN, which is a modified version of the Behler–Parrinello Neural Network \n",
       "<span style=\"font-weight: bold\">(</span>BPNN<span style=\"font-weight: bold\">)</span> where the neural networks for the prediction of atomic energy for different elements are combined into a \n",
       "single network with shared weights. Using a data set containing Cu, Ge, Li, Mo, Ni, and Si, we demonstrate that \n",
       "SingleNN could achieve an accuracy that is on a par with BPNN for energy and force predictions. Furthermore, we \n",
       "demonstrate that SingleNN could learn a common transformation for the fingerprints of atoms to a latent space in \n",
       "which the atomic energies of the atoms are nearly linear. Using the common transformation, we could fit the data \n",
       "with new elements by changing only weights in the output layer in the neural network. In this way, with a moderate \n",
       "compromise in accuracy, we can speed up the training process significantly and potentially reduce the amount of \n",
       "training data needed.\n",
       "\n",
       "</pre>\n"
      ],
      "text/plain": [
       " \u001b[1;36m3\u001b[0m. \u001b[1m(\u001b[0m\u001b[1;36m0.548\u001b[0m\u001b[1m)\u001b[0m SingleNN: Modified Behler–Parrinello Neural Network with Shared Weights for Atomistic Simulations with \n",
       "Transferability, Mingjie Liu, John R. Kitchin, The Journal of Physical Chemistry C \u001b[1m(\u001b[0m\u001b[1;36m2020\u001b[0m\u001b[1m)\u001b[0m \n",
       "\u001b[4;94mhttps://doi.org/10.1021/acs.jpcc.0c04225\u001b[0m\n",
       "\n",
       "In this article, we introduce the SingleNN, which is a modified version of the Behler–Parrinello Neural Network \n",
       "\u001b[1m(\u001b[0mBPNN\u001b[1m)\u001b[0m where the neural networks for the prediction of atomic energy for different elements are combined into a \n",
       "single network with shared weights. Using a data set containing Cu, Ge, Li, Mo, Ni, and Si, we demonstrate that \n",
       "SingleNN could achieve an accuracy that is on a par with BPNN for energy and force predictions. Furthermore, we \n",
       "demonstrate that SingleNN could learn a common transformation for the fingerprints of atoms to a latent space in \n",
       "which the atomic energies of the atoms are nearly linear. Using the common transformation, we could fit the data \n",
       "with new elements by changing only weights in the output layer in the neural network. In this way, with a moderate \n",
       "compromise in accuracy, we can speed up the training process significantly and potentially reduce the amount of \n",
       "training data needed.\n",
       "\n"
      ]
     },
     "metadata": {},
     "output_type": "display_data"
    }
   ],
   "source": [
    "%%litdb vsearch \n",
    "single atom alloy"
   ]
  },
  {
   "cell_type": "code",
   "execution_count": 5,
   "id": "0bc160dd-99f7-434b-828f-5138471a4aba",
   "metadata": {},
   "outputs": [
    {
     "data": {
      "text/html": [
       "<pre style=\"white-space:pre;overflow-x:auto;line-height:normal;font-family:Menlo,'DejaVu Sans Mono',consolas,'Courier New',monospace\"> <span style=\"color: #008080; text-decoration-color: #008080; font-weight: bold\">1</span>. Thirumalai, H., &amp; Kitchin, J. R. <span style=\"font-weight: bold\">(</span><span style=\"color: #008080; text-decoration-color: #008080; font-weight: bold\">2018</span>, January <span style=\"color: #008080; text-decoration-color: #008080; font-weight: bold\">25</span><span style=\"font-weight: bold\">)</span>. Investigating the Reactivity of Single Atom Alloys Using \n",
       "Density Functional Theory. <span style=\"font-weight: bold\">&lt;</span><span style=\"color: #ff00ff; text-decoration-color: #ff00ff; font-weight: bold\">i</span><span style=\"color: #000000; text-decoration-color: #000000\">&gt;Topics in Catalysis&lt;</span><span style=\"color: #800080; text-decoration-color: #800080\">/</span><span style=\"color: #ff00ff; text-decoration-color: #ff00ff\">i</span><span style=\"font-weight: bold\">&gt;</span>. Springer Science and Business Media LLC. \n",
       "<span style=\"color: #0000ff; text-decoration-color: #0000ff; text-decoration: underline\">http://doi.org/10.1007/s11244-018-0899-0</span>\n",
       "</pre>\n"
      ],
      "text/plain": [
       " \u001b[1;36m1\u001b[0m. Thirumalai, H., & Kitchin, J. R. \u001b[1m(\u001b[0m\u001b[1;36m2018\u001b[0m, January \u001b[1;36m25\u001b[0m\u001b[1m)\u001b[0m. Investigating the Reactivity of Single Atom Alloys Using \n",
       "Density Functional Theory. \u001b[1m<\u001b[0m\u001b[1;95mi\u001b[0m\u001b[39m>Topics in Catalysis<\u001b[0m\u001b[35m/\u001b[0m\u001b[95mi\u001b[0m\u001b[1m>\u001b[0m. Springer Science and Business Media LLC. \n",
       "\u001b[4;94mhttp://doi.org/10.1007/s11244-018-0899-0\u001b[0m\n"
      ]
     },
     "metadata": {},
     "output_type": "display_data"
    }
   ],
   "source": [
    "%litdb citation https://doi.org/10.1007/s11244-018-0899-0"
   ]
  },
  {
   "cell_type": "code",
   "execution_count": 2,
   "id": "83951038-e76d-4f4f-8cd8-2c83f532c7a5",
   "metadata": {},
   "outputs": [
    {
     "data": {
      "text/html": [
       "<pre style=\"white-space:pre;overflow-x:auto;line-height:normal;font-family:Menlo,'DejaVu Sans Mono',consolas,'Courier New',monospace\">@article<span style=\"font-weight: bold\">{</span><span style=\"color: #0000ff; text-decoration-color: #0000ff; text-decoration: underline\">https://doi.org/10.1007/s11244-018-0899-0,</span>\n",
       " author = <span style=\"font-weight: bold\">{</span>Hari Thirumalai and John R. Kitchin<span style=\"font-weight: bold\">}</span>,\n",
       " biburl = <span style=\"font-weight: bold\">{</span><span style=\"color: #0000ff; text-decoration-color: #0000ff; text-decoration: underline\">https://doi.org/10.1007/s11244-018-0899-0.bib</span><span style=\"font-weight: bold\">}</span>,\n",
       " doi = <span style=\"font-weight: bold\">{</span><span style=\"color: #008080; text-decoration-color: #008080; font-weight: bold\">10.1007</span>/s11244-<span style=\"color: #008080; text-decoration-color: #008080; font-weight: bold\">018</span>-<span style=\"color: #008080; text-decoration-color: #008080; font-weight: bold\">0899</span>-<span style=\"color: #008080; text-decoration-color: #008080; font-weight: bold\">0</span><span style=\"font-weight: bold\">}</span>,\n",
       " number = <span style=\"font-weight: bold\">{</span><span style=\"color: #008080; text-decoration-color: #008080; font-weight: bold\">5</span>-<span style=\"color: #008080; text-decoration-color: #008080; font-weight: bold\">6</span><span style=\"font-weight: bold\">}</span>,\n",
       " pages = <span style=\"font-weight: bold\">{</span><span style=\"color: #008080; text-decoration-color: #008080; font-weight: bold\">462</span>-<span style=\"color: #008080; text-decoration-color: #008080; font-weight: bold\">-474</span><span style=\"font-weight: bold\">}</span>,\n",
       " title = <span style=\"font-weight: bold\">{</span>Investigating the Reactivity of Single Atom Alloys Using Density Functional Theory<span style=\"font-weight: bold\">}</span>,\n",
       " volume = <span style=\"font-weight: bold\">{</span><span style=\"color: #008080; text-decoration-color: #008080; font-weight: bold\">61</span><span style=\"font-weight: bold\">}</span>,\n",
       " year = <span style=\"font-weight: bold\">{</span><span style=\"color: #008080; text-decoration-color: #008080; font-weight: bold\">2018</span><span style=\"font-weight: bold\">}</span>\n",
       "<span style=\"font-weight: bold\">}</span>\n",
       "\n",
       "</pre>\n"
      ],
      "text/plain": [
       "@article\u001b[1m{\u001b[0m\u001b[4;94mhttps://doi.org/10.1007/s11244-018-0899-0,\u001b[0m\n",
       " author = \u001b[1m{\u001b[0mHari Thirumalai and John R. Kitchin\u001b[1m}\u001b[0m,\n",
       " biburl = \u001b[1m{\u001b[0m\u001b[4;94mhttps://doi.org/10.1007/s11244-018-0899-0.bib\u001b[0m\u001b[1m}\u001b[0m,\n",
       " doi = \u001b[1m{\u001b[0m\u001b[1;36m10.1007\u001b[0m/s11244-\u001b[1;36m018\u001b[0m-\u001b[1;36m0899\u001b[0m-\u001b[1;36m0\u001b[0m\u001b[1m}\u001b[0m,\n",
       " number = \u001b[1m{\u001b[0m\u001b[1;36m5\u001b[0m-\u001b[1;36m6\u001b[0m\u001b[1m}\u001b[0m,\n",
       " pages = \u001b[1m{\u001b[0m\u001b[1;36m462\u001b[0m-\u001b[1;36m-474\u001b[0m\u001b[1m}\u001b[0m,\n",
       " title = \u001b[1m{\u001b[0mInvestigating the Reactivity of Single Atom Alloys Using Density Functional Theory\u001b[1m}\u001b[0m,\n",
       " volume = \u001b[1m{\u001b[0m\u001b[1;36m61\u001b[0m\u001b[1m}\u001b[0m,\n",
       " year = \u001b[1m{\u001b[0m\u001b[1;36m2018\u001b[0m\u001b[1m}\u001b[0m\n",
       "\u001b[1m}\u001b[0m\n",
       "\n"
      ]
     },
     "metadata": {},
     "output_type": "display_data"
    }
   ],
   "source": [
    "%litdb bibtex https://doi.org/10.1007/s11244-018-0899-0"
   ]
  },
  {
   "cell_type": "code",
   "execution_count": 6,
   "id": "273bdcb6-b8db-4c69-b64a-0b906f5c37ca",
   "metadata": {},
   "outputs": [
    {
     "data": {
      "text/html": [
       "<pre style=\"white-space:pre;overflow-x:auto;line-height:normal;font-family:Menlo,'DejaVu Sans Mono',consolas,'Courier New',monospace\"><span style=\"color: #0000ff; text-decoration-color: #0000ff; text-decoration: underline\">https://doi.org/10.1002/aic.15294</span> <span style=\"font-weight: bold\">(</span><span style=\"color: #008080; text-decoration-color: #008080; font-weight: bold\">-0.0</span><span style=\"font-weight: bold\">)</span>\n",
       "structure spread libraries John R. Kitchin, Corresponding Author John R. Kitchin jkitchin@andrew.cmu.edu Dept\n",
       "</pre>\n"
      ],
      "text/plain": [
       "\u001b[4;94mhttps://doi.org/10.1002/aic.15294\u001b[0m \u001b[1m(\u001b[0m\u001b[1;36m-0.0\u001b[0m\u001b[1m)\u001b[0m\n",
       "structure spread libraries John R. Kitchin, Corresponding Author John R. Kitchin jkitchin@andrew.cmu.edu Dept\n"
      ]
     },
     "metadata": {},
     "output_type": "display_data"
    },
    {
     "data": {
      "text/html": [
       "<pre style=\"white-space:pre;overflow-x:auto;line-height:normal;font-family:Menlo,'DejaVu Sans Mono',consolas,'Courier New',monospace\"><span style=\"color: #0000ff; text-decoration-color: #0000ff; text-decoration: underline\">https://doi.org/10.5281/zenodo.7600475</span> <span style=\"font-weight: bold\">(</span><span style=\"color: #008080; text-decoration-color: #008080; font-weight: bold\">-0.0</span><span style=\"font-weight: bold\">)</span>\n",
       "Yuri Sanspeur, Javier Heras‐Domingo, John R. Kitchin, Zachary W. Ulissi, Zenodo <span style=\"font-weight: bold\">(</span>CERN European Organization for\n",
       "</pre>\n"
      ],
      "text/plain": [
       "\u001b[4;94mhttps://doi.org/10.5281/zenodo.7600475\u001b[0m \u001b[1m(\u001b[0m\u001b[1;36m-0.0\u001b[0m\u001b[1m)\u001b[0m\n",
       "Yuri Sanspeur, Javier Heras‐Domingo, John R. Kitchin, Zachary W. Ulissi, Zenodo \u001b[1m(\u001b[0mCERN European Organization for\n"
      ]
     },
     "metadata": {},
     "output_type": "display_data"
    }
   ],
   "source": [
    "%litdb fulltext kitchin -n 2"
   ]
  },
  {
   "cell_type": "code",
   "execution_count": 8,
   "id": "137b08d4-a2cc-41a9-89e0-645d91ace0a6",
   "metadata": {},
   "outputs": [
    {
     "data": {
      "text/html": [
       "<pre style=\"white-space:pre;overflow-x:auto;line-height:normal;font-family:Menlo,'DejaVu Sans Mono',consolas,'Courier New',monospace\"><span style=\"color: #0000ff; text-decoration-color: #0000ff; text-decoration: underline\">https://doi.org/10.1002/aic.15294</span> <span style=\"font-weight: bold\">(</span><span style=\"color: #008080; text-decoration-color: #008080; font-weight: bold\">-0.0</span><span style=\"font-weight: bold\">)</span>\n",
       "structure spread libraries John R. Kitchin, Corresponding Author John R. Kitchin jkitchin@andrew.cmu.edu Dept\n",
       "</pre>\n"
      ],
      "text/plain": [
       "\u001b[4;94mhttps://doi.org/10.1002/aic.15294\u001b[0m \u001b[1m(\u001b[0m\u001b[1;36m-0.0\u001b[0m\u001b[1m)\u001b[0m\n",
       "structure spread libraries John R. Kitchin, Corresponding Author John R. Kitchin jkitchin@andrew.cmu.edu Dept\n"
      ]
     },
     "metadata": {},
     "output_type": "display_data"
    },
    {
     "data": {
      "text/html": [
       "<pre style=\"white-space:pre;overflow-x:auto;line-height:normal;font-family:Menlo,'DejaVu Sans Mono',consolas,'Courier New',monospace\"><span style=\"color: #0000ff; text-decoration-color: #0000ff; text-decoration: underline\">https://doi.org/10.5281/zenodo.7600475</span> <span style=\"font-weight: bold\">(</span><span style=\"color: #008080; text-decoration-color: #008080; font-weight: bold\">-0.0</span><span style=\"font-weight: bold\">)</span>\n",
       "Yuri Sanspeur, Javier Heras‐Domingo, John R. Kitchin, Zachary W. Ulissi, Zenodo <span style=\"font-weight: bold\">(</span>CERN European Organization for\n",
       "</pre>\n"
      ],
      "text/plain": [
       "\u001b[4;94mhttps://doi.org/10.5281/zenodo.7600475\u001b[0m \u001b[1m(\u001b[0m\u001b[1;36m-0.0\u001b[0m\u001b[1m)\u001b[0m\n",
       "Yuri Sanspeur, Javier Heras‐Domingo, John R. Kitchin, Zachary W. Ulissi, Zenodo \u001b[1m(\u001b[0mCERN European Organization for\n"
      ]
     },
     "metadata": {},
     "output_type": "display_data"
    }
   ],
   "source": [
    "%%litdb fulltext -n 2\n",
    "kitchin"
   ]
  },
  {
   "cell_type": "code",
   "execution_count": 9,
   "id": "4a0548b3-3894-49a3-a290-92c74ba3d7dc",
   "metadata": {},
   "outputs": [
    {
     "data": {
      "text/html": [
       "<pre style=\"white-space:pre;overflow-x:auto;line-height:normal;font-family:Menlo,'DejaVu Sans Mono',consolas,'Courier New',monospace\">It took <span style=\"color: #008080; text-decoration-color: #008080; font-weight: bold\">0.7</span> sec to embed the prompt\n",
       "</pre>\n"
      ],
      "text/plain": [
       "It took \u001b[1;36m0.7\u001b[0m sec to embed the prompt\n"
      ]
     },
     "metadata": {},
     "output_type": "display_data"
    },
    {
     "data": {
      "text/html": [
       "<pre style=\"white-space:pre;overflow-x:auto;line-height:normal;font-family:Menlo,'DejaVu Sans Mono',consolas,'Courier New',monospace\">It took  <span style=\"color: #008080; text-decoration-color: #008080; font-weight: bold\">0.0</span> sec to get the top three docs\n",
       "</pre>\n"
      ],
      "text/plain": [
       "It took  \u001b[1;36m0.0\u001b[0m sec to get the top three docs\n"
      ]
     },
     "metadata": {},
     "output_type": "display_data"
    },
    {
     "data": {
      "text/html": [
       "<pre style=\"white-space:pre;overflow-x:auto;line-height:normal;font-family:Menlo,'DejaVu Sans Mono',consolas,'Courier New',monospace\">Generating text for <span style=\"color: #008000; text-decoration-color: #008000\">\"What factors determine the reactivity of a single atom alloy?\"</span> with llama2\n",
       "\n",
       "\n",
       "</pre>\n"
      ],
      "text/plain": [
       "Generating text for \u001b[32m\"What factors determine the reactivity of a single atom alloy?\"\u001b[0m with llama2\n",
       "\n",
       "\n"
      ]
     },
     "metadata": {},
     "output_type": "display_data"
    },
    {
     "data": {
      "text/html": [
       "<pre style=\"white-space:pre;overflow-x:auto;line-height:normal;font-family:Menlo,'DejaVu Sans Mono',consolas,'Courier New',monospace\">\n",
       "Based on the provided scientific literature, there are several factors that determine the reactivity of a single \n",
       "atom alloy. Here are some key findings from the studies mentioned:\n",
       "\n",
       "<span style=\"color: #008080; text-decoration-color: #008080; font-weight: bold\">1</span>. Atomic composition: The reactivity of a single atom alloy can be influenced by the specific elements present in \n",
       "the alloy. For example, Hari Thirumalai et al. <span style=\"font-weight: bold\">(</span><span style=\"color: #008080; text-decoration-color: #008080; font-weight: bold\">2018</span><span style=\"font-weight: bold\">)</span> investigated the reactivity of single atom alloys composed of\n",
       "transition metals and found that the reactivity depended on the specific combination of elements used.\n",
       "<span style=\"color: #008080; text-decoration-color: #008080; font-weight: bold\">2</span>. Surface composition: The surface composition of a single atom alloy can also affect its reactivity. John R. \n",
       "Kitchin et al. <span style=\"font-weight: bold\">(</span><span style=\"color: #008080; text-decoration-color: #008080; font-weight: bold\">2005</span><span style=\"font-weight: bold\">)</span> used density functional theory and atomistic thermodynamics to study the segregation of atoms\n",
       "on the surface of an alloy and found that this could have a significant impact on its reactivity.\n",
       "<span style=\"color: #008080; text-decoration-color: #008080; font-weight: bold\">3</span>. Crystal structure: The crystal structure of a single atom alloy can also influence its reactivity. For example, \n",
       "Kitchin et al. <span style=\"font-weight: bold\">(</span><span style=\"color: #008080; text-decoration-color: #008080; font-weight: bold\">2004</span><span style=\"font-weight: bold\">)</span> investigated the electronic and chemical properties of bimetallics and transition metal \n",
       "carbides and found that the crystal structure could affect their reactivity.\n",
       "<span style=\"color: #008080; text-decoration-color: #008080; font-weight: bold\">4</span>. Temperature: The temperature at which a single atom alloy is exposed can also impact its reactivity. For \n",
       "example, Thirumalai et al. <span style=\"font-weight: bold\">(</span><span style=\"color: #008080; text-decoration-color: #008080; font-weight: bold\">2018</span><span style=\"font-weight: bold\">)</span> found that the reactivity of some transition metal alloys increased with \n",
       "increasing temperature.\n",
       "<span style=\"color: #008080; text-decoration-color: #008080; font-weight: bold\">5</span>. Presence of defects or impurities: The presence of defects or impurities in a single atom alloy can also affect \n",
       "its reactivity. For example, Kitchin et al. <span style=\"font-weight: bold\">(</span><span style=\"color: #008080; text-decoration-color: #008080; font-weight: bold\">2005</span><span style=\"font-weight: bold\">)</span> found that the segregation of atoms on the surface of an alloy \n",
       "could lead to the formation of defects or impurities, which could in turn affect its reactivity.\n",
       "\n",
       "In summary, the reactivity of a single atom alloy can be influenced by a range of factors, including the atomic \n",
       "composition, surface composition, crystal structure, temperature, and the presence of defects or impurities. \n",
       "Understanding these factors is important for optimizing the design and properties of single atom alloys for various\n",
       "applications.\n",
       "</pre>\n"
      ],
      "text/plain": [
       "\n",
       "Based on the provided scientific literature, there are several factors that determine the reactivity of a single \n",
       "atom alloy. Here are some key findings from the studies mentioned:\n",
       "\n",
       "\u001b[1;36m1\u001b[0m. Atomic composition: The reactivity of a single atom alloy can be influenced by the specific elements present in \n",
       "the alloy. For example, Hari Thirumalai et al. \u001b[1m(\u001b[0m\u001b[1;36m2018\u001b[0m\u001b[1m)\u001b[0m investigated the reactivity of single atom alloys composed of\n",
       "transition metals and found that the reactivity depended on the specific combination of elements used.\n",
       "\u001b[1;36m2\u001b[0m. Surface composition: The surface composition of a single atom alloy can also affect its reactivity. John R. \n",
       "Kitchin et al. \u001b[1m(\u001b[0m\u001b[1;36m2005\u001b[0m\u001b[1m)\u001b[0m used density functional theory and atomistic thermodynamics to study the segregation of atoms\n",
       "on the surface of an alloy and found that this could have a significant impact on its reactivity.\n",
       "\u001b[1;36m3\u001b[0m. Crystal structure: The crystal structure of a single atom alloy can also influence its reactivity. For example, \n",
       "Kitchin et al. \u001b[1m(\u001b[0m\u001b[1;36m2004\u001b[0m\u001b[1m)\u001b[0m investigated the electronic and chemical properties of bimetallics and transition metal \n",
       "carbides and found that the crystal structure could affect their reactivity.\n",
       "\u001b[1;36m4\u001b[0m. Temperature: The temperature at which a single atom alloy is exposed can also impact its reactivity. For \n",
       "example, Thirumalai et al. \u001b[1m(\u001b[0m\u001b[1;36m2018\u001b[0m\u001b[1m)\u001b[0m found that the reactivity of some transition metal alloys increased with \n",
       "increasing temperature.\n",
       "\u001b[1;36m5\u001b[0m. Presence of defects or impurities: The presence of defects or impurities in a single atom alloy can also affect \n",
       "its reactivity. For example, Kitchin et al. \u001b[1m(\u001b[0m\u001b[1;36m2005\u001b[0m\u001b[1m)\u001b[0m found that the segregation of atoms on the surface of an alloy \n",
       "could lead to the formation of defects or impurities, which could in turn affect its reactivity.\n",
       "\n",
       "In summary, the reactivity of a single atom alloy can be influenced by a range of factors, including the atomic \n",
       "composition, surface composition, crystal structure, temperature, and the presence of defects or impurities. \n",
       "Understanding these factors is important for optimizing the design and properties of single atom alloys for various\n",
       "applications.\n"
      ]
     },
     "metadata": {},
     "output_type": "display_data"
    },
    {
     "data": {
      "text/html": [
       "<pre style=\"white-space:pre;overflow-x:auto;line-height:normal;font-family:Menlo,'DejaVu Sans Mono',consolas,'Courier New',monospace\">\n",
       "It took  <span style=\"color: #008080; text-decoration-color: #008080; font-weight: bold\">11.6</span> sec to generate the response.\n",
       "\n",
       "</pre>\n"
      ],
      "text/plain": [
       "\n",
       "It took  \u001b[1;36m11.6\u001b[0m sec to generate the response.\n",
       "\n"
      ]
     },
     "metadata": {},
     "output_type": "display_data"
    },
    {
     "data": {
      "text/html": [
       "<pre style=\"white-space:pre;overflow-x:auto;line-height:normal;font-family:Menlo,'DejaVu Sans Mono',consolas,'Courier New',monospace\">The text was generated using these references:\n",
       "\n",
       "</pre>\n"
      ],
      "text/plain": [
       "The text was generated using these references:\n",
       "\n"
      ]
     },
     "metadata": {},
     "output_type": "display_data"
    },
    {
     "data": {
      "text/html": [
       "<pre style=\"white-space:pre;overflow-x:auto;line-height:normal;font-family:Menlo,'DejaVu Sans Mono',consolas,'Courier New',monospace\"> <span style=\"color: #008080; text-decoration-color: #008080; font-weight: bold\">1</span>. Investigating the Reactivity of Single Atom Alloys Using Density Functional Theory, Hari Thirumalai, John R. \n",
       "Kitchin, Topics in Catalysis <span style=\"font-weight: bold\">(</span><span style=\"color: #008080; text-decoration-color: #008080; font-weight: bold\">2018</span><span style=\"font-weight: bold\">)</span> <span style=\"color: #0000ff; text-decoration-color: #0000ff; text-decoration: underline\">https://doi.org/10.1007/s11244-018-0899-0</span>\n",
       "\n",
       "No abstract\n",
       "\n",
       "</pre>\n"
      ],
      "text/plain": [
       " \u001b[1;36m1\u001b[0m. Investigating the Reactivity of Single Atom Alloys Using Density Functional Theory, Hari Thirumalai, John R. \n",
       "Kitchin, Topics in Catalysis \u001b[1m(\u001b[0m\u001b[1;36m2018\u001b[0m\u001b[1m)\u001b[0m \u001b[4;94mhttps://doi.org/10.1007/s11244-018-0899-0\u001b[0m\n",
       "\n",
       "No abstract\n",
       "\n"
      ]
     },
     "metadata": {},
     "output_type": "display_data"
    },
    {
     "data": {
      "text/html": [
       "<pre style=\"white-space:pre;overflow-x:auto;line-height:normal;font-family:Menlo,'DejaVu Sans Mono',consolas,'Courier New',monospace\"> <span style=\"color: #008080; text-decoration-color: #008080; font-weight: bold\">2</span>. Alloy surface segregation in reactive environments via density functional theory and atomistic thermodyanamics,\n",
       "John R. Kitchin, Karsten Reuter, Matthias Scheffler, Bulletin of the American Physical Society <span style=\"font-weight: bold\">(</span><span style=\"color: #008080; text-decoration-color: #008080; font-weight: bold\">2005</span><span style=\"font-weight: bold\">)</span> \n",
       "<span style=\"color: #0000ff; text-decoration-color: #0000ff; text-decoration: underline\">https://openalex.org/W1931953664</span>\n",
       "\n",
       "No abstract\n",
       "\n",
       "</pre>\n"
      ],
      "text/plain": [
       " \u001b[1;36m2\u001b[0m. Alloy surface segregation in reactive environments via density functional theory and atomistic thermodyanamics,\n",
       "John R. Kitchin, Karsten Reuter, Matthias Scheffler, Bulletin of the American Physical Society \u001b[1m(\u001b[0m\u001b[1;36m2005\u001b[0m\u001b[1m)\u001b[0m \n",
       "\u001b[4;94mhttps://openalex.org/W1931953664\u001b[0m\n",
       "\n",
       "No abstract\n",
       "\n"
      ]
     },
     "metadata": {},
     "output_type": "display_data"
    },
    {
     "data": {
      "text/html": [
       "<pre style=\"white-space:pre;overflow-x:auto;line-height:normal;font-family:Menlo,'DejaVu Sans Mono',consolas,'Courier New',monospace\"> <span style=\"color: #008080; text-decoration-color: #008080; font-weight: bold\">3</span>. Tuning the electronic and chemical properties of metals: Bimetallics and transition metal carbides, John R. \n",
       "Kitchin, PhDT <span style=\"font-weight: bold\">(</span><span style=\"color: #008080; text-decoration-color: #008080; font-weight: bold\">2004</span><span style=\"font-weight: bold\">)</span> <span style=\"color: #0000ff; text-decoration-color: #0000ff; text-decoration: underline\">https://openalex.org/W3040748958</span>\n",
       "\n",
       "No abstract\n",
       "\n",
       "</pre>\n"
      ],
      "text/plain": [
       " \u001b[1;36m3\u001b[0m. Tuning the electronic and chemical properties of metals: Bimetallics and transition metal carbides, John R. \n",
       "Kitchin, PhDT \u001b[1m(\u001b[0m\u001b[1;36m2004\u001b[0m\u001b[1m)\u001b[0m \u001b[4;94mhttps://openalex.org/W3040748958\u001b[0m\n",
       "\n",
       "No abstract\n",
       "\n"
      ]
     },
     "metadata": {},
     "output_type": "display_data"
    }
   ],
   "source": [
    "%litdb gpt \"What factors determine the reactivity of a single atom alloy?\""
   ]
  },
  {
   "cell_type": "code",
   "execution_count": 11,
   "id": "f429576e-d3fe-4e55-9c49-0a0d2b8a4be4",
   "metadata": {},
   "outputs": [
    {
     "data": {
      "text/html": [
       "<pre style=\"white-space:pre;overflow-x:auto;line-height:normal;font-family:Menlo,'DejaVu Sans Mono',consolas,'Courier New',monospace\"><span style=\"color: #008080; text-decoration-color: #008080; font-weight: bold\">1</span>. <span style=\"color: #0000ff; text-decoration-color: #0000ff; text-decoration: underline\">https://doi.org/10.1039/b608782p</span>\n",
       " Density functional theory studies of alloys in heterogeneous catalysis, John R. Kitchin, Spencer D. Miller, David \n",
       "S. Sholl, Chemical modelling <span style=\"font-weight: bold\">(</span><span style=\"color: #008080; text-decoration-color: #008080; font-weight: bold\">2009</span><span style=\"font-weight: bold\">)</span> <span style=\"color: #0000ff; text-decoration-color: #0000ff; text-decoration: underline\">https://doi.org/10.1039/b608782p</span>\n",
       "\n",
       "Heterogeneous catalysis is used broadly today in industry. Catalysts crack crude oils into the fuels we use daily. \n",
       "They are used in catalytic converters to minimize dangerous gas emissions from internal combustion engines. Many \n",
       "chemicals are made in large quantities using heterogeneous catalysts. Et<span style=\"color: #808000; text-decoration-color: #808000\">...</span>\n",
       "\n",
       "</pre>\n"
      ],
      "text/plain": [
       "\u001b[1;36m1\u001b[0m. \u001b[4;94mhttps://doi.org/10.1039/b608782p\u001b[0m\n",
       " Density functional theory studies of alloys in heterogeneous catalysis, John R. Kitchin, Spencer D. Miller, David \n",
       "S. Sholl, Chemical modelling \u001b[1m(\u001b[0m\u001b[1;36m2009\u001b[0m\u001b[1m)\u001b[0m \u001b[4;94mhttps://doi.org/10.1039/b608782p\u001b[0m\n",
       "\n",
       "Heterogeneous catalysis is used broadly today in industry. Catalysts crack crude oils into the fuels we use daily. \n",
       "They are used in catalytic converters to minimize dangerous gas emissions from internal combustion engines. Many \n",
       "chemicals are made in large quantities using heterogeneous catalysts. Et\u001b[33m...\u001b[0m\n",
       "\n"
      ]
     },
     "metadata": {},
     "output_type": "display_data"
    },
    {
     "data": {
      "text/html": [
       "<pre style=\"white-space:pre;overflow-x:auto;line-height:normal;font-family:Menlo,'DejaVu Sans Mono',consolas,'Courier New',monospace\"><span style=\"color: #008080; text-decoration-color: #008080; font-weight: bold\">2</span>. <span style=\"color: #0000ff; text-decoration-color: #0000ff; text-decoration: underline\">https://openalex.org/W1931953664</span>\n",
       " Alloy surface segregation in reactive environments via density functional theory and atomistic thermodyanamics, \n",
       "John R. Kitchin, Karsten Reuter, Matthias Scheffler, Bulletin of the American Physical Society <span style=\"font-weight: bold\">(</span><span style=\"color: #008080; text-decoration-color: #008080; font-weight: bold\">2005</span><span style=\"font-weight: bold\">)</span> \n",
       "<span style=\"color: #0000ff; text-decoration-color: #0000ff; text-decoration: underline\">https://openalex.org/W1931953664</span>\n",
       "\n",
       "No abstract\n",
       "\n",
       "</pre>\n"
      ],
      "text/plain": [
       "\u001b[1;36m2\u001b[0m. \u001b[4;94mhttps://openalex.org/W1931953664\u001b[0m\n",
       " Alloy surface segregation in reactive environments via density functional theory and atomistic thermodyanamics, \n",
       "John R. Kitchin, Karsten Reuter, Matthias Scheffler, Bulletin of the American Physical Society \u001b[1m(\u001b[0m\u001b[1;36m2005\u001b[0m\u001b[1m)\u001b[0m \n",
       "\u001b[4;94mhttps://openalex.org/W1931953664\u001b[0m\n",
       "\n",
       "No abstract\n",
       "\n"
      ]
     },
     "metadata": {},
     "output_type": "display_data"
    },
    {
     "data": {
      "text/html": [
       "<pre style=\"white-space:pre;overflow-x:auto;line-height:normal;font-family:Menlo,'DejaVu Sans Mono',consolas,'Courier New',monospace\"><span style=\"color: #008080; text-decoration-color: #008080; font-weight: bold\">3</span>. <span style=\"color: #0000ff; text-decoration-color: #0000ff; text-decoration: underline\">https://doi.org/10.1016/j.cattod.2005.04.008</span>\n",
       " Trends in the chemical properties of early transition metal carbide surfaces: A density functional study, John R. \n",
       "Kitchin, Jens K. Nørskov, Mark A. Barteau, Jingguang G. Chen, Catalysis Today <span style=\"font-weight: bold\">(</span><span style=\"color: #008080; text-decoration-color: #008080; font-weight: bold\">2005</span><span style=\"font-weight: bold\">)</span> \n",
       "<span style=\"color: #0000ff; text-decoration-color: #0000ff; text-decoration: underline\">https://doi.org/10.1016/j.cattod.2005.04.008</span>\n",
       "\n",
       "No abstract\n",
       "\n",
       "</pre>\n"
      ],
      "text/plain": [
       "\u001b[1;36m3\u001b[0m. \u001b[4;94mhttps://doi.org/10.1016/j.cattod.2005.04.008\u001b[0m\n",
       " Trends in the chemical properties of early transition metal carbide surfaces: A density functional study, John R. \n",
       "Kitchin, Jens K. Nørskov, Mark A. Barteau, Jingguang G. Chen, Catalysis Today \u001b[1m(\u001b[0m\u001b[1;36m2005\u001b[0m\u001b[1m)\u001b[0m \n",
       "\u001b[4;94mhttps://doi.org/10.1016/j.cattod.2005.04.008\u001b[0m\n",
       "\n",
       "No abstract\n",
       "\n"
      ]
     },
     "metadata": {},
     "output_type": "display_data"
    }
   ],
   "source": [
    "%litdb similar https://doi.org/10.1007/s11244-018-0899-0"
   ]
  },
  {
   "cell_type": "code",
   "execution_count": 2,
   "id": "f9c7e4d4-a572-46ba-b921-d7f495df4d37",
   "metadata": {},
   "outputs": [
    {
     "data": {
      "text/html": [
       "<pre style=\"white-space:pre;overflow-x:auto;line-height:normal;font-family:Menlo,'DejaVu Sans Mono',consolas,'Courier New',monospace\"><span style=\"color: #008080; text-decoration-color: #008080; font-weight: bold\">0.226</span>: <span style=\"color: #0000ff; text-decoration-color: #0000ff; text-decoration: underline\">https://doi.org/10.1039/9781849734776-00083</span>\n",
       "</pre>\n"
      ],
      "text/plain": [
       "\u001b[1;36m0.226\u001b[0m: \u001b[4;94mhttps://doi.org/10.1039/9781849734776-00083\u001b[0m\n"
      ]
     },
     "metadata": {},
     "output_type": "display_data"
    },
    {
     "data": {
      "text/html": [
       "<pre style=\"white-space:pre;overflow-x:auto;line-height:normal;font-family:Menlo,'DejaVu Sans Mono',consolas,'Courier New',monospace\"><span style=\"color: #008080; text-decoration-color: #008080; font-weight: bold\">0.244</span>: <span style=\"color: #0000ff; text-decoration-color: #0000ff; text-decoration: underline\">https://doi.org/10.1002/chin.201301170</span>\n",
       "</pre>\n"
      ],
      "text/plain": [
       "\u001b[1;36m0.244\u001b[0m: \u001b[4;94mhttps://doi.org/10.1002/chin.201301170\u001b[0m\n"
      ]
     },
     "metadata": {},
     "output_type": "display_data"
    },
    {
     "data": {
      "text/html": [
       "<pre style=\"white-space:pre;overflow-x:auto;line-height:normal;font-family:Menlo,'DejaVu Sans Mono',consolas,'Courier New',monospace\"><span style=\"color: #008080; text-decoration-color: #008080; font-weight: bold\">0.262</span>: <span style=\"color: #0000ff; text-decoration-color: #0000ff; text-decoration: underline\">https://doi.org/10.1021/jp508805h</span>\n",
       "</pre>\n"
      ],
      "text/plain": [
       "\u001b[1;36m0.262\u001b[0m: \u001b[4;94mhttps://doi.org/10.1021/jp508805h\u001b[0m\n"
      ]
     },
     "metadata": {},
     "output_type": "display_data"
    },
    {
     "data": {
      "text/html": [
       "<pre style=\"white-space:pre;overflow-x:auto;line-height:normal;font-family:Menlo,'DejaVu Sans Mono',consolas,'Courier New',monospace\"><span style=\"color: #008080; text-decoration-color: #008080; font-weight: bold\">0.269</span>: <span style=\"color: #0000ff; text-decoration-color: #0000ff; text-decoration: underline\">https://doi.org/10.1063/1.3561287</span>\n",
       "</pre>\n"
      ],
      "text/plain": [
       "\u001b[1;36m0.269\u001b[0m: \u001b[4;94mhttps://doi.org/10.1063/1.3561287\u001b[0m\n"
      ]
     },
     "metadata": {},
     "output_type": "display_data"
    },
    {
     "data": {
      "text/html": [
       "<pre style=\"white-space:pre;overflow-x:auto;line-height:normal;font-family:Menlo,'DejaVu Sans Mono',consolas,'Courier New',monospace\"><span style=\"color: #008080; text-decoration-color: #008080; font-weight: bold\">0.271</span>: <span style=\"color: #0000ff; text-decoration-color: #0000ff; text-decoration: underline\">https://doi.org/10.1103/physrevb.82.045414</span>\n",
       "</pre>\n"
      ],
      "text/plain": [
       "\u001b[1;36m0.271\u001b[0m: \u001b[4;94mhttps://doi.org/10.1103/physrevb.82.045414\u001b[0m\n"
      ]
     },
     "metadata": {},
     "output_type": "display_data"
    },
    {
     "name": "stdin",
     "output_type": "stream",
     "text": [
      "Search for better matches? ([y]/n) n\n"
     ]
    },
    {
     "data": {
      "text/html": [
       "<pre style=\"white-space:pre;overflow-x:auto;line-height:normal;font-family:Menlo,'DejaVu Sans Mono',consolas,'Courier New',monospace\">\n",
       "</pre>\n"
      ],
      "text/plain": [
       "\n"
      ]
     },
     "metadata": {},
     "output_type": "display_data"
    },
    {
     "data": {
      "text/html": [
       "<pre style=\"white-space:pre;overflow-x:auto;line-height:normal;font-family:Menlo,'DejaVu Sans Mono',consolas,'Courier New',monospace\">\n",
       "</pre>\n"
      ],
      "text/plain": [
       "\n"
      ]
     },
     "metadata": {},
     "output_type": "display_data"
    },
    {
     "data": {
      "text/html": [
       "<pre style=\"white-space:pre;overflow-x:auto;line-height:normal;font-family:Menlo,'DejaVu Sans Mono',consolas,'Courier New',monospace\">\n",
       "</pre>\n"
      ],
      "text/plain": [
       "\n"
      ]
     },
     "metadata": {},
     "output_type": "display_data"
    },
    {
     "data": {
      "text/html": [
       "<pre style=\"white-space:pre;overflow-x:auto;line-height:normal;font-family:Menlo,'DejaVu Sans Mono',consolas,'Courier New',monospace\">\n",
       "</pre>\n"
      ],
      "text/plain": [
       "\n"
      ]
     },
     "metadata": {},
     "output_type": "display_data"
    },
    {
     "data": {
      "text/html": [
       "<pre style=\"white-space:pre;overflow-x:auto;line-height:normal;font-family:Menlo,'DejaVu Sans Mono',consolas,'Courier New',monospace\">\n",
       "</pre>\n"
      ],
      "text/plain": [
       "\n"
      ]
     },
     "metadata": {},
     "output_type": "display_data"
    },
    {
     "data": {
      "text/html": [
       "<table>\n",
       "<thead>\n",
       "<tr><th>name             </th><th style=\"text-align: right;\">  # papers</th><th style=\"text-align: right;\">  h-index</th><th>oaid                            </th><th>institution               </th></tr>\n",
       "</thead>\n",
       "<tbody>\n",
       "<tr><td>John R. Kitchin  </td><td style=\"text-align: right;\">         5</td><td style=\"text-align: right;\">       43</td><td>https://openalex.org/A5003442464</td><td>Carnegie Mellon University</td></tr>\n",
       "<tr><td>Zhongnan Xu      </td><td style=\"text-align: right;\">         1</td><td style=\"text-align: right;\">       17</td><td>https://openalex.org/A5088695316</td><td>Jinan University          </td></tr>\n",
       "<tr><td>Nilay İnoğlu     </td><td style=\"text-align: right;\">         2</td><td style=\"text-align: right;\">        9</td><td>https://openalex.org/A5021893887</td><td>Carnegie Mellon University</td></tr>\n",
       "<tr><td>Spencer D. Miller</td><td style=\"text-align: right;\">         3</td><td style=\"text-align: right;\">        6</td><td>https://openalex.org/A5045515862</td><td>Carnegie Mellon University</td></tr>\n",
       "<tr><td>Carmeline Dsilva </td><td style=\"text-align: right;\">         2</td><td style=\"text-align: right;\">        1</td><td>https://openalex.org/A5077095106</td><td>Carnegie Mellon University</td></tr>\n",
       "</tbody>\n",
       "</table>"
      ],
      "text/plain": [
       "<IPython.core.display.HTML object>"
      ]
     },
     "metadata": {},
     "output_type": "display_data"
    },
    {
     "data": {
      "text/html": [
       "<pre style=\"white-space:pre;overflow-x:auto;line-height:normal;font-family:Menlo,'DejaVu Sans Mono',consolas,'Courier New',monospace\"> <span style=\"color: #008080; text-decoration-color: #008080; font-weight: bold\">1</span>. Coverage dependent adsorption properties of atomic adsorbates on late transition metal surfaces, Spencer D. \n",
       "Miller, Carmeline Dsilva, John R. Kitchin, Catalysis <span style=\"font-weight: bold\">(</span><span style=\"color: #008080; text-decoration-color: #008080; font-weight: bold\">2012</span><span style=\"font-weight: bold\">)</span> <span style=\"color: #0000ff; text-decoration-color: #0000ff; text-decoration: underline\">https://doi.org/10.1039/9781849734776-00083</span>\n",
       "\n",
       "No abstract <span style=\"font-weight: bold\">(</span>source<span style=\"font-weight: bold\">)</span>\n",
       "\n",
       "\n",
       "</pre>\n"
      ],
      "text/plain": [
       " \u001b[1;36m1\u001b[0m. Coverage dependent adsorption properties of atomic adsorbates on late transition metal surfaces, Spencer D. \n",
       "Miller, Carmeline Dsilva, John R. Kitchin, Catalysis \u001b[1m(\u001b[0m\u001b[1;36m2012\u001b[0m\u001b[1m)\u001b[0m \u001b[4;94mhttps://doi.org/10.1039/9781849734776-00083\u001b[0m\n",
       "\n",
       "No abstract \u001b[1m(\u001b[0msource\u001b[1m)\u001b[0m\n",
       "\n",
       "\n"
      ]
     },
     "metadata": {},
     "output_type": "display_data"
    },
    {
     "data": {
      "text/html": [
       "<pre style=\"white-space:pre;overflow-x:auto;line-height:normal;font-family:Menlo,'DejaVu Sans Mono',consolas,'Courier New',monospace\"> <span style=\"color: #008080; text-decoration-color: #008080; font-weight: bold\">2</span>. ChemInform Abstract: Coverage Dependent Adsorption Properties of Atomic Adsorbates on Late Transition Metal \n",
       "Surfaces, Spencer D. Miller, Carmeline Dsilva, John R. Kitchin, ChemInform <span style=\"font-weight: bold\">(</span><span style=\"color: #008080; text-decoration-color: #008080; font-weight: bold\">2013</span><span style=\"font-weight: bold\">)</span> \n",
       "<span style=\"color: #0000ff; text-decoration-color: #0000ff; text-decoration: underline\">https://doi.org/10.1002/chin.201301170</span>\n",
       "\n",
       "Abstract Review: <span style=\"color: #008080; text-decoration-color: #008080; font-weight: bold\">124</span> refs. <span style=\"font-weight: bold\">(</span>source<span style=\"font-weight: bold\">)</span>\n",
       "\n",
       "\n",
       "</pre>\n"
      ],
      "text/plain": [
       " \u001b[1;36m2\u001b[0m. ChemInform Abstract: Coverage Dependent Adsorption Properties of Atomic Adsorbates on Late Transition Metal \n",
       "Surfaces, Spencer D. Miller, Carmeline Dsilva, John R. Kitchin, ChemInform \u001b[1m(\u001b[0m\u001b[1;36m2013\u001b[0m\u001b[1m)\u001b[0m \n",
       "\u001b[4;94mhttps://doi.org/10.1002/chin.201301170\u001b[0m\n",
       "\n",
       "Abstract Review: \u001b[1;36m124\u001b[0m refs. \u001b[1m(\u001b[0msource\u001b[1m)\u001b[0m\n",
       "\n",
       "\n"
      ]
     },
     "metadata": {},
     "output_type": "display_data"
    },
    {
     "data": {
      "text/html": [
       "<pre style=\"white-space:pre;overflow-x:auto;line-height:normal;font-family:Menlo,'DejaVu Sans Mono',consolas,'Courier New',monospace\"> <span style=\"color: #008080; text-decoration-color: #008080; font-weight: bold\">3</span>. Probing the Coverage Dependence of Site and Adsorbate Configurational Correlations on <span style=\"font-weight: bold\">(</span><span style=\"color: #008080; text-decoration-color: #008080; font-weight: bold\">111</span><span style=\"font-weight: bold\">)</span> Surfaces of Late \n",
       "Transition Metals, Zhongnan Xu, John R. Kitchin, The Journal of Physical Chemistry C <span style=\"font-weight: bold\">(</span><span style=\"color: #008080; text-decoration-color: #008080; font-weight: bold\">2014</span><span style=\"font-weight: bold\">)</span> \n",
       "<span style=\"color: #0000ff; text-decoration-color: #0000ff; text-decoration: underline\">https://doi.org/10.1021/jp508805h</span>\n",
       "\n",
       "Correlations between adsorption energies allow for the prediction of a large set of adsorption energies from a few \n",
       "quantum-chemical calculations, enabling quick evaluations of the catalytic activity of surfaces for multistep \n",
       "reactions. A critical question is whether these correlations—initially established at low coverage on geometrically\n",
       "similar surfaces—are useful at high coverage and in various geometric environments, which are the relevant \n",
       "industrial conditions of real catalysts. To answer this question, we use density functional theory to calculate \n",
       "almost <span style=\"color: #008080; text-decoration-color: #008080; font-weight: bold\">900</span> adsorption energies of several atomic adsorbates on late transition metal fcc <span style=\"font-weight: bold\">(</span><span style=\"color: #008080; text-decoration-color: #008080; font-weight: bold\">111</span><span style=\"font-weight: bold\">)</span> surfaces at a \n",
       "variety of coverages and configurations. We observe strict requirements of the geometric similarity between \n",
       "adsorption sites for the existence of correlations in adsorption energies. We also find that the introduction of \n",
       "higher coverages generally weakens and changes the correlations. We use our results to assess a simple model \n",
       "constructed from previously discovered scaling relationships and discuss their ramifications on catalyst discovery \n",
       "as well as strategies to incorporate this coverage dependence. <span style=\"font-weight: bold\">(</span>source<span style=\"font-weight: bold\">)</span>\n",
       "\n",
       "\n",
       "</pre>\n"
      ],
      "text/plain": [
       " \u001b[1;36m3\u001b[0m. Probing the Coverage Dependence of Site and Adsorbate Configurational Correlations on \u001b[1m(\u001b[0m\u001b[1;36m111\u001b[0m\u001b[1m)\u001b[0m Surfaces of Late \n",
       "Transition Metals, Zhongnan Xu, John R. Kitchin, The Journal of Physical Chemistry C \u001b[1m(\u001b[0m\u001b[1;36m2014\u001b[0m\u001b[1m)\u001b[0m \n",
       "\u001b[4;94mhttps://doi.org/10.1021/jp508805h\u001b[0m\n",
       "\n",
       "Correlations between adsorption energies allow for the prediction of a large set of adsorption energies from a few \n",
       "quantum-chemical calculations, enabling quick evaluations of the catalytic activity of surfaces for multistep \n",
       "reactions. A critical question is whether these correlations—initially established at low coverage on geometrically\n",
       "similar surfaces—are useful at high coverage and in various geometric environments, which are the relevant \n",
       "industrial conditions of real catalysts. To answer this question, we use density functional theory to calculate \n",
       "almost \u001b[1;36m900\u001b[0m adsorption energies of several atomic adsorbates on late transition metal fcc \u001b[1m(\u001b[0m\u001b[1;36m111\u001b[0m\u001b[1m)\u001b[0m surfaces at a \n",
       "variety of coverages and configurations. We observe strict requirements of the geometric similarity between \n",
       "adsorption sites for the existence of correlations in adsorption energies. We also find that the introduction of \n",
       "higher coverages generally weakens and changes the correlations. We use our results to assess a simple model \n",
       "constructed from previously discovered scaling relationships and discuss their ramifications on catalyst discovery \n",
       "as well as strategies to incorporate this coverage dependence. \u001b[1m(\u001b[0msource\u001b[1m)\u001b[0m\n",
       "\n",
       "\n"
      ]
     },
     "metadata": {},
     "output_type": "display_data"
    },
    {
     "data": {
      "text/html": [
       "<pre style=\"white-space:pre;overflow-x:auto;line-height:normal;font-family:Menlo,'DejaVu Sans Mono',consolas,'Courier New',monospace\"> <span style=\"color: #008080; text-decoration-color: #008080; font-weight: bold\">4</span>. Configurational correlations in the coverage dependent adsorption energies of oxygen atoms on late transition \n",
       "metal <span style=\"color: #800080; text-decoration-color: #800080; font-weight: bold\">fcc</span><span style=\"font-weight: bold\">(</span><span style=\"color: #008080; text-decoration-color: #008080; font-weight: bold\">111</span><span style=\"font-weight: bold\">)</span> surfaces, Spencer D. Miller, Nilay İnoğlu, John R. Kitchin, The Journal of Chemical Physics <span style=\"font-weight: bold\">(</span><span style=\"color: #008080; text-decoration-color: #008080; font-weight: bold\">2011</span><span style=\"font-weight: bold\">)</span> \n",
       "<span style=\"color: #0000ff; text-decoration-color: #0000ff; text-decoration: underline\">https://doi.org/10.1063/1.3561287</span>\n",
       "\n",
       "The coverage dependence of oxygen adsorption energies on the <span style=\"color: #800080; text-decoration-color: #800080; font-weight: bold\">fcc</span><span style=\"font-weight: bold\">(</span><span style=\"color: #008080; text-decoration-color: #008080; font-weight: bold\">111</span><span style=\"font-weight: bold\">)</span> surfaces of seven different transition metals\n",
       "<span style=\"font-weight: bold\">(</span>Rh, Ir, Pd, Pt, Cu, Au, and Ag<span style=\"font-weight: bold\">)</span> is demonstrated through density functional theory calculations on <span style=\"color: #008080; text-decoration-color: #008080; font-weight: bold\">20</span> \n",
       "configurations ranging from one to five adsorption sites and coverages up to <span style=\"color: #008080; text-decoration-color: #008080; font-weight: bold\">1</span> ML. Atom projected densities of \n",
       "states are used to demonstrate that the d-band mediated adsorption mechanism is responsible for the coverage \n",
       "dependence of the adsorption energies. This common bonding mechanism results in a linear correlation that relates \n",
       "the adsorption energies of each adsorbate configuration across different metal surfaces to each other. The slope of\n",
       "this correlation is shown to be related to the characteristics of the valence d-orbitals and band structure of the \n",
       "surface metal atoms. Additionally, it is shown that geometric similarity of the configurations is essential to \n",
       "observe the configurational correlations. <span style=\"font-weight: bold\">(</span>source<span style=\"font-weight: bold\">)</span>\n",
       "\n",
       "\n",
       "</pre>\n"
      ],
      "text/plain": [
       " \u001b[1;36m4\u001b[0m. Configurational correlations in the coverage dependent adsorption energies of oxygen atoms on late transition \n",
       "metal \u001b[1;35mfcc\u001b[0m\u001b[1m(\u001b[0m\u001b[1;36m111\u001b[0m\u001b[1m)\u001b[0m surfaces, Spencer D. Miller, Nilay İnoğlu, John R. Kitchin, The Journal of Chemical Physics \u001b[1m(\u001b[0m\u001b[1;36m2011\u001b[0m\u001b[1m)\u001b[0m \n",
       "\u001b[4;94mhttps://doi.org/10.1063/1.3561287\u001b[0m\n",
       "\n",
       "The coverage dependence of oxygen adsorption energies on the \u001b[1;35mfcc\u001b[0m\u001b[1m(\u001b[0m\u001b[1;36m111\u001b[0m\u001b[1m)\u001b[0m surfaces of seven different transition metals\n",
       "\u001b[1m(\u001b[0mRh, Ir, Pd, Pt, Cu, Au, and Ag\u001b[1m)\u001b[0m is demonstrated through density functional theory calculations on \u001b[1;36m20\u001b[0m \n",
       "configurations ranging from one to five adsorption sites and coverages up to \u001b[1;36m1\u001b[0m ML. Atom projected densities of \n",
       "states are used to demonstrate that the d-band mediated adsorption mechanism is responsible for the coverage \n",
       "dependence of the adsorption energies. This common bonding mechanism results in a linear correlation that relates \n",
       "the adsorption energies of each adsorbate configuration across different metal surfaces to each other. The slope of\n",
       "this correlation is shown to be related to the characteristics of the valence d-orbitals and band structure of the \n",
       "surface metal atoms. Additionally, it is shown that geometric similarity of the configurations is essential to \n",
       "observe the configurational correlations. \u001b[1m(\u001b[0msource\u001b[1m)\u001b[0m\n",
       "\n",
       "\n"
      ]
     },
     "metadata": {},
     "output_type": "display_data"
    },
    {
     "data": {
      "text/html": [
       "<pre style=\"white-space:pre;overflow-x:auto;line-height:normal;font-family:Menlo,'DejaVu Sans Mono',consolas,'Courier New',monospace\"> <span style=\"color: #008080; text-decoration-color: #008080; font-weight: bold\">5</span>. Simple model explaining and predicting coverage-dependent atomic adsorption energies on transition metal \n",
       "surfaces, Nilay İnoğlu, John R. Kitchin, Physical Review B <span style=\"font-weight: bold\">(</span><span style=\"color: #008080; text-decoration-color: #008080; font-weight: bold\">2010</span><span style=\"font-weight: bold\">)</span> <span style=\"color: #0000ff; text-decoration-color: #0000ff; text-decoration: underline\">https://doi.org/10.1103/physrevb.82.045414</span>\n",
       "\n",
       "The adsorption energies of simple atomic adsorbates are coverage dependent. We use density-functional theory to \n",
       "show that the coverage dependence is due to an adsorbate-induced modification of the surface $d$-band structure. We\n",
       "developed a simple model for predicting the $d$-band widths of clean and adsorbate-covered metallic surfaces using \n",
       "a tight-binding formalism. The new model can be used in conjunction with the $d$-band adsorption model to estimate \n",
       "adsorption energies as a function of coverage. <span style=\"font-weight: bold\">(</span>source<span style=\"font-weight: bold\">)</span>\n",
       "\n",
       "\n",
       "</pre>\n"
      ],
      "text/plain": [
       " \u001b[1;36m5\u001b[0m. Simple model explaining and predicting coverage-dependent atomic adsorption energies on transition metal \n",
       "surfaces, Nilay İnoğlu, John R. Kitchin, Physical Review B \u001b[1m(\u001b[0m\u001b[1;36m2010\u001b[0m\u001b[1m)\u001b[0m \u001b[4;94mhttps://doi.org/10.1103/physrevb.82.045414\u001b[0m\n",
       "\n",
       "The adsorption energies of simple atomic adsorbates are coverage dependent. We use density-functional theory to \n",
       "show that the coverage dependence is due to an adsorbate-induced modification of the surface $d$-band structure. We\n",
       "developed a simple model for predicting the $d$-band widths of clean and adsorbate-covered metallic surfaces using \n",
       "a tight-binding formalism. The new model can be used in conjunction with the $d$-band adsorption model to estimate \n",
       "adsorption energies as a function of coverage. \u001b[1m(\u001b[0msource\u001b[1m)\u001b[0m\n",
       "\n",
       "\n"
      ]
     },
     "metadata": {},
     "output_type": "display_data"
    }
   ],
   "source": [
    "%litdb suggest-reviewers \"coverage dependent adsorption energies on transition metals\""
   ]
  },
  {
   "cell_type": "code",
   "execution_count": 3,
   "id": "1d343877-b214-4416-a012-68708e7f66b4",
   "metadata": {},
   "outputs": [
    {
     "data": {
      "text/html": [
       "<pre style=\"white-space:pre;overflow-x:auto;line-height:normal;font-family:Menlo,'DejaVu Sans Mono',consolas,'Courier New',monospace\">Generalization of graph-based active learning relaxation strategies across materials, Machine Learning: Science and\n",
       "Technology\n",
       "</pre>\n"
      ],
      "text/plain": [
       "Generalization of graph-based active learning relaxation strategies across materials, Machine Learning: Science and\n",
       "Technology\n"
      ]
     },
     "metadata": {},
     "output_type": "display_data"
    },
    {
     "data": {
      "text/html": [
       "<pre style=\"white-space:pre;overflow-x:auto;line-height:normal;font-family:Menlo,'DejaVu Sans Mono',consolas,'Courier New',monospace\">Is open access: <span style=\"color: #00ff00; text-decoration-color: #00ff00; font-style: italic\">True</span>\n",
       "</pre>\n"
      ],
      "text/plain": [
       "Is open access: \u001b[3;92mTrue\u001b[0m\n"
      ]
     },
     "metadata": {},
     "output_type": "display_data"
    },
    {
     "data": {
      "text/html": [
       "<pre style=\"white-space:pre;overflow-x:auto;line-height:normal;font-family:Menlo,'DejaVu Sans Mono',consolas,'Courier New',monospace\"><span style=\"color: #0000ff; text-decoration-color: #0000ff; text-decoration: underline\">https://iopscience.iop.org/article/10.1088/2632-2153/ad37f0/pdf</span>\n",
       "</pre>\n"
      ],
      "text/plain": [
       "\u001b[4;94mhttps://iopscience.iop.org/article/10.1088/2632-2153/ad37f0/pdf\u001b[0m\n"
      ]
     },
     "metadata": {},
     "output_type": "display_data"
    },
    {
     "data": {
      "text/html": [
       "<pre style=\"white-space:pre;overflow-x:auto;line-height:normal;font-family:Menlo,'DejaVu Sans Mono',consolas,'Courier New',monospace\"><span style=\"color: #0000ff; text-decoration-color: #0000ff; text-decoration: underline\">http://arxiv.org/pdf/2311.01987</span>\n",
       "</pre>\n"
      ],
      "text/plain": [
       "\u001b[4;94mhttp://arxiv.org/pdf/2311.01987\u001b[0m\n"
      ]
     },
     "metadata": {},
     "output_type": "display_data"
    }
   ],
   "source": [
    "%litdb unpaywall https://doi.org/10.1088/2632-2153/ad37f0"
   ]
  },
  {
   "cell_type": "code",
   "execution_count": 7,
   "id": "a6cbb03f-c9bc-4d16-8950-19f123e5bf22",
   "metadata": {},
   "outputs": [
    {
     "data": {
      "text/html": [
       "<pre style=\"white-space:pre;overflow-x:auto;line-height:normal;font-family:Menlo,'DejaVu Sans Mono',consolas,'Courier New',monospace\">Thermal Transport and Thermal Diffusivity by Laser Flash Technique: A Review, R. Sundar, C. Sudha, International \n",
       "Journal of Thermophysics <span style=\"font-weight: bold\">(</span><span style=\"color: #008080; text-decoration-color: #008080; font-weight: bold\">2024</span><span style=\"font-weight: bold\">)</span> <span style=\"color: #0000ff; text-decoration-color: #0000ff; text-decoration: underline\">https://doi.org/10.1007/s10765-024-03479-0</span>\n",
       "\n",
       "Abstract Thermophysical properties encompassing specific heat, thermal conductivity, thermal diffusivity and \n",
       "thermal expansion and their temperature dependence is most sought after during selection of materials for various \n",
       "engineering applications. In this review a broad perspective on the thermal transport in metals and alloys, thermal\n",
       "energy carriers and factors affecting their mean free path is presented. Following the discussion on thermal \n",
       "transport, various techniques available for measuring thermal diffusivity, their principle of detection, merits and\n",
       "demerits are deliberated with an emphasis on laser flash analyzer. Theory of laser flash analysis, possible causes \n",
       "for deviation in the theoretical assumptions that affect the accuracy of measured diffusivity and ways and means of\n",
       "improving the same is dwelt upon. Finally, few typical case studies on thermal diffusivity measurements covering \n",
       "broad spectrum of materials differing in chemistry, degree of deformation, and heat treatment conditions are \n",
       "presented to demonstrate the sensitivity of thermal diffusivity to microstructural changes in materials.\n",
       "</pre>\n"
      ],
      "text/plain": [
       "Thermal Transport and Thermal Diffusivity by Laser Flash Technique: A Review, R. Sundar, C. Sudha, International \n",
       "Journal of Thermophysics \u001b[1m(\u001b[0m\u001b[1;36m2024\u001b[0m\u001b[1m)\u001b[0m \u001b[4;94mhttps://doi.org/10.1007/s10765-024-03479-0\u001b[0m\n",
       "\n",
       "Abstract Thermophysical properties encompassing specific heat, thermal conductivity, thermal diffusivity and \n",
       "thermal expansion and their temperature dependence is most sought after during selection of materials for various \n",
       "engineering applications. In this review a broad perspective on the thermal transport in metals and alloys, thermal\n",
       "energy carriers and factors affecting their mean free path is presented. Following the discussion on thermal \n",
       "transport, various techniques available for measuring thermal diffusivity, their principle of detection, merits and\n",
       "demerits are deliberated with an emphasis on laser flash analyzer. Theory of laser flash analysis, possible causes \n",
       "for deviation in the theoretical assumptions that affect the accuracy of measured diffusivity and ways and means of\n",
       "improving the same is dwelt upon. Finally, few typical case studies on thermal diffusivity measurements covering \n",
       "broad spectrum of materials differing in chemistry, degree of deformation, and heat treatment conditions are \n",
       "presented to demonstrate the sensitivity of thermal diffusivity to microstructural changes in materials.\n"
      ]
     },
     "metadata": {},
     "output_type": "display_data"
    },
    {
     "name": "stdout",
     "output_type": "stream",
     "text": [
      "\n"
     ]
    },
    {
     "data": {
      "text/html": [
       "<pre style=\"white-space:pre;overflow-x:auto;line-height:normal;font-family:Menlo,'DejaVu Sans Mono',consolas,'Courier New',monospace\">Ferrotoroidicity in Cs2FeCl5·D2O, J. Alberto Rodríguez Velamazán, Óscar Fabelo, N. Qureshi, Scientific Reports \n",
       "<span style=\"font-weight: bold\">(</span><span style=\"color: #008080; text-decoration-color: #008080; font-weight: bold\">2024</span><span style=\"font-weight: bold\">)</span> <span style=\"color: #0000ff; text-decoration-color: #0000ff; text-decoration: underline\">https://doi.org/10.1038/s41598-024-82505-5</span>\n",
       "\n",
       "No abstract\n",
       "</pre>\n"
      ],
      "text/plain": [
       "Ferrotoroidicity in Cs2FeCl5·D2O, J. Alberto Rodríguez Velamazán, Óscar Fabelo, N. Qureshi, Scientific Reports \n",
       "\u001b[1m(\u001b[0m\u001b[1;36m2024\u001b[0m\u001b[1m)\u001b[0m \u001b[4;94mhttps://doi.org/10.1038/s41598-024-82505-5\u001b[0m\n",
       "\n",
       "No abstract\n"
      ]
     },
     "metadata": {},
     "output_type": "display_data"
    },
    {
     "name": "stdout",
     "output_type": "stream",
     "text": [
      "\n"
     ]
    },
    {
     "data": {
      "text/html": [
       "<pre style=\"white-space:pre;overflow-x:auto;line-height:normal;font-family:Menlo,'DejaVu Sans Mono',consolas,'Courier New',monospace\">Dual-fluorescent starch biopolymer films containing <span style=\"color: #008080; text-decoration-color: #008080; font-weight: bold\">5</span>-<span style=\"font-weight: bold\">(</span><span style=\"color: #008080; text-decoration-color: #008080; font-weight: bold\">4</span>-nitrophenyl<span style=\"font-weight: bold\">)</span><span style=\"color: #008080; text-decoration-color: #008080; font-weight: bold\">-1</span>,<span style=\"color: #008080; text-decoration-color: #008080; font-weight: bold\">3</span>,<span style=\"color: #008080; text-decoration-color: #008080; font-weight: bold\">4</span>-thiadiazol-<span style=\"color: #008080; text-decoration-color: #008080; font-weight: bold\">2</span>-amine powder as a \n",
       "functional nanofiller, Anita Kwaśniewska, Katarzyna Orzechowska, Klaudia Rząd, Luca Ceresa, Małgorzata Figiel, Anna\n",
       "A. Hoser, Maciej J. Nowak, Dariusz Karcz, Bożena Gładyszewska, G. Gładyszewski, Monika Srebro‐Hooper, Arkadiusz \n",
       "Matwijczuk, Scientific Reports <span style=\"font-weight: bold\">(</span><span style=\"color: #008080; text-decoration-color: #008080; font-weight: bold\">2024</span><span style=\"font-weight: bold\">)</span> <span style=\"color: #0000ff; text-decoration-color: #0000ff; text-decoration: underline\">https://doi.org/10.1038/s41598-024-82853-2</span>\n",
       "\n",
       "Physical and photophysical properties of starch-based biopolymer films containing \n",
       "<span style=\"color: #008080; text-decoration-color: #008080; font-weight: bold\">5</span>-<span style=\"font-weight: bold\">(</span><span style=\"color: #008080; text-decoration-color: #008080; font-weight: bold\">4</span>-nitrophenyl<span style=\"font-weight: bold\">)</span><span style=\"color: #008080; text-decoration-color: #008080; font-weight: bold\">-1</span>,<span style=\"color: #008080; text-decoration-color: #008080; font-weight: bold\">3</span>,<span style=\"color: #008080; text-decoration-color: #008080; font-weight: bold\">4</span>-thiadiazol-<span style=\"color: #008080; text-decoration-color: #008080; font-weight: bold\">2</span>-amine <span style=\"font-weight: bold\">(</span>NTA<span style=\"font-weight: bold\">)</span> powder as a nanofiller were examined using atomic force microscopy\n",
       "<span style=\"font-weight: bold\">(</span>AFM<span style=\"font-weight: bold\">)</span>, Fourier-transform infrared spectroscopy <span style=\"font-weight: bold\">(</span>FTIR<span style=\"font-weight: bold\">)</span>, stationary UV-Vis and fluorescence spectroscopy as well as \n",
       "resonance light scattering <span style=\"font-weight: bold\">(</span>RLS<span style=\"font-weight: bold\">)</span> and time-resolved measurements, and where possible, analyzed with reference to \n",
       "pristine NTA solutions. AFM studies revealed that the addition of NTA into the starch biopolymer did not \n",
       "significantly affect surface roughness, with all examined films displaying similar Sq values ranging from <span style=\"color: #008080; text-decoration-color: #008080; font-weight: bold\">70.7</span> nm \n",
       "to <span style=\"color: #008080; text-decoration-color: #008080; font-weight: bold\">79.7</span> nm. Similarly, Young's modulus measurements showed no significant changes after incorporating the \n",
       "<span style=\"color: #008080; text-decoration-color: #008080; font-weight: bold\">1</span>,<span style=\"color: #008080; text-decoration-color: #008080; font-weight: bold\">3</span>,<span style=\"color: #008080; text-decoration-color: #008080; font-weight: bold\">4</span>-thiadiazole. Adhesion force and water contact angle assessments demonstrated that the films maintained high \n",
       "hydrophilicity <span style=\"font-weight: bold\">(</span>water wetting<span style=\"font-weight: bold\">)</span> across all examined films. Color analysis corroborated the anticipated trend, \n",
       "showing that increasing additive content resulted in decreased lightness and increased yellowness. Interestingly, \n",
       "however, while in polar isopropanol solvent at low concentration, NTA shows a typical single-band emission, \n",
       "centered at <span style=\"color: #008080; text-decoration-color: #008080; font-weight: bold\">410</span> nm and a slight enhancement of the band on the long-wavelength side around <span style=\"color: #008080; text-decoration-color: #008080; font-weight: bold\">530</span> nm, its \n",
       "incorporation into the biopolymer matrices results in the appearance of dual fluorescence signal with maxima at <span style=\"color: #008080; text-decoration-color: #008080; font-weight: bold\">430</span>\n",
       "and <span style=\"color: #008080; text-decoration-color: #008080; font-weight: bold\">530</span> nm. Concentration-dependence emission experiments, demonstrating that with even a slight increase of the \n",
       "amount of NTA in solution, an additional, weak long-wavelength emission band emerged within the spectral range \n",
       "corresponding to the intensive band in the biopolymer film, along with results of the performed quantum-chemical \n",
       "studies, including both the monomeric and aggregated <span style=\"font-weight: bold\">(</span>dimer and trimer<span style=\"font-weight: bold\">)</span> models, conclusively unveil that the dual \n",
       "fluorescence observed in starch/NTA films is due to molecular aggregation effects resulting in aggregation-induced \n",
       "emission. This study underscores the potential of NTA as an additive in biobased polymer films, furnishing them \n",
       "with new photophysical features without substantially altering their surface properties and thus enabling their \n",
       "extended applications.\n",
       "</pre>\n"
      ],
      "text/plain": [
       "Dual-fluorescent starch biopolymer films containing \u001b[1;36m5\u001b[0m-\u001b[1m(\u001b[0m\u001b[1;36m4\u001b[0m-nitrophenyl\u001b[1m)\u001b[0m\u001b[1;36m-1\u001b[0m,\u001b[1;36m3\u001b[0m,\u001b[1;36m4\u001b[0m-thiadiazol-\u001b[1;36m2\u001b[0m-amine powder as a \n",
       "functional nanofiller, Anita Kwaśniewska, Katarzyna Orzechowska, Klaudia Rząd, Luca Ceresa, Małgorzata Figiel, Anna\n",
       "A. Hoser, Maciej J. Nowak, Dariusz Karcz, Bożena Gładyszewska, G. Gładyszewski, Monika Srebro‐Hooper, Arkadiusz \n",
       "Matwijczuk, Scientific Reports \u001b[1m(\u001b[0m\u001b[1;36m2024\u001b[0m\u001b[1m)\u001b[0m \u001b[4;94mhttps://doi.org/10.1038/s41598-024-82853-2\u001b[0m\n",
       "\n",
       "Physical and photophysical properties of starch-based biopolymer films containing \n",
       "\u001b[1;36m5\u001b[0m-\u001b[1m(\u001b[0m\u001b[1;36m4\u001b[0m-nitrophenyl\u001b[1m)\u001b[0m\u001b[1;36m-1\u001b[0m,\u001b[1;36m3\u001b[0m,\u001b[1;36m4\u001b[0m-thiadiazol-\u001b[1;36m2\u001b[0m-amine \u001b[1m(\u001b[0mNTA\u001b[1m)\u001b[0m powder as a nanofiller were examined using atomic force microscopy\n",
       "\u001b[1m(\u001b[0mAFM\u001b[1m)\u001b[0m, Fourier-transform infrared spectroscopy \u001b[1m(\u001b[0mFTIR\u001b[1m)\u001b[0m, stationary UV-Vis and fluorescence spectroscopy as well as \n",
       "resonance light scattering \u001b[1m(\u001b[0mRLS\u001b[1m)\u001b[0m and time-resolved measurements, and where possible, analyzed with reference to \n",
       "pristine NTA solutions. AFM studies revealed that the addition of NTA into the starch biopolymer did not \n",
       "significantly affect surface roughness, with all examined films displaying similar Sq values ranging from \u001b[1;36m70.7\u001b[0m nm \n",
       "to \u001b[1;36m79.7\u001b[0m nm. Similarly, Young's modulus measurements showed no significant changes after incorporating the \n",
       "\u001b[1;36m1\u001b[0m,\u001b[1;36m3\u001b[0m,\u001b[1;36m4\u001b[0m-thiadiazole. Adhesion force and water contact angle assessments demonstrated that the films maintained high \n",
       "hydrophilicity \u001b[1m(\u001b[0mwater wetting\u001b[1m)\u001b[0m across all examined films. Color analysis corroborated the anticipated trend, \n",
       "showing that increasing additive content resulted in decreased lightness and increased yellowness. Interestingly, \n",
       "however, while in polar isopropanol solvent at low concentration, NTA shows a typical single-band emission, \n",
       "centered at \u001b[1;36m410\u001b[0m nm and a slight enhancement of the band on the long-wavelength side around \u001b[1;36m530\u001b[0m nm, its \n",
       "incorporation into the biopolymer matrices results in the appearance of dual fluorescence signal with maxima at \u001b[1;36m430\u001b[0m\n",
       "and \u001b[1;36m530\u001b[0m nm. Concentration-dependence emission experiments, demonstrating that with even a slight increase of the \n",
       "amount of NTA in solution, an additional, weak long-wavelength emission band emerged within the spectral range \n",
       "corresponding to the intensive band in the biopolymer film, along with results of the performed quantum-chemical \n",
       "studies, including both the monomeric and aggregated \u001b[1m(\u001b[0mdimer and trimer\u001b[1m)\u001b[0m models, conclusively unveil that the dual \n",
       "fluorescence observed in starch/NTA films is due to molecular aggregation effects resulting in aggregation-induced \n",
       "emission. This study underscores the potential of NTA as an additive in biobased polymer films, furnishing them \n",
       "with new photophysical features without substantially altering their surface properties and thus enabling their \n",
       "extended applications.\n"
      ]
     },
     "metadata": {},
     "output_type": "display_data"
    },
    {
     "name": "stdout",
     "output_type": "stream",
     "text": [
      "\n"
     ]
    },
    {
     "data": {
      "text/html": [
       "<pre style=\"white-space:pre;overflow-x:auto;line-height:normal;font-family:Menlo,'DejaVu Sans Mono',consolas,'Courier New',monospace\">Neutral 4π-electron tetrasilacyclobutadiene contains unusual features of a Möbius-type aromatic ring, Mohd Nazish, \n",
       "Tim Patten, Yuqing Huang, Saroj Kumar Kushvaha, Lili Zhao, Anna Krawczuk, Gernot Frenking, Herbert W. Roesky, \n",
       "Communications Chemistry <span style=\"font-weight: bold\">(</span><span style=\"color: #008080; text-decoration-color: #008080; font-weight: bold\">2024</span><span style=\"font-weight: bold\">)</span> <span style=\"color: #0000ff; text-decoration-color: #0000ff; text-decoration: underline\">https://doi.org/10.1038/s42004-024-01396-9</span>\n",
       "\n",
       "The search for stable compounds containing an antiaromatic cyclic 4π system is a challenge for inventive chemists \n",
       "that can look back on a long history. Here we report the isolation and characterization of the novel 4π-electron \n",
       "tetrasilacyclobutadiene, an analogue of a 4π neutral cyclobutadiene that exhibits surprising features of a \n",
       "Möbius-type aromatic ring. Reduction of RSiCl3 <span style=\"font-weight: bold\">(</span>R = <span style=\"font-weight: bold\">(</span>iPr<span style=\"font-weight: bold\">)</span>2PC6H4<span style=\"font-weight: bold\">)</span> with KC8 in the presence of cycloalkyl \n",
       "amino-carbene <span style=\"font-weight: bold\">(</span>cAAC<span style=\"font-weight: bold\">)</span> led to the formation of corresponding silylene <span style=\"color: #008080; text-decoration-color: #008080; font-weight: bold\">1</span>. Compound <span style=\"color: #008080; text-decoration-color: #008080; font-weight: bold\">1</span> shows further reactivity when \n",
       "treated with RSiCl3 under reducing conditions resulting in the formation of unsymmetrical bis-silylene <span style=\"color: #008080; text-decoration-color: #008080; font-weight: bold\">2</span>, which was\n",
       "isolated as a dark red crystalline solid. Compound <span style=\"color: #008080; text-decoration-color: #008080; font-weight: bold\">3</span> was obtained when chlorosilylene was reduced with potassium \n",
       "graphite in the presence of <span style=\"color: #008080; text-decoration-color: #008080; font-weight: bold\">2</span>. Although <span style=\"color: #008080; text-decoration-color: #008080; font-weight: bold\">3</span> is, according to Hückel's rule an antiaromatic system it possesses \n",
       "significant aromatic character due to the unusual delocalization of the HOMO-<span style=\"color: #008080; text-decoration-color: #008080; font-weight: bold\">1</span> and the loss of degeneracy of the \n",
       "higher-lying π MOs. The aromatic character of <span style=\"color: #008080; text-decoration-color: #008080; font-weight: bold\">3</span> is indicated by the structural stability of the compound by the \n",
       "very similar Si-Si bond lengths and by the NICS values. There is an unusual π conjugation between the <span style=\"color: #008080; text-decoration-color: #008080; font-weight: bold\">4</span> π electrons\n",
       "in the nearly square-planar Si4 ring where the delocalization of the HOMO-<span style=\"color: #008080; text-decoration-color: #008080; font-weight: bold\">1</span> occurs at two opposite sides of the \n",
       "ring. The reversal of the π conjugation resembles the twisting of the π conjugation in Möbius aromatic systems and \n",
       "it contributes to the stability of the compound. Introducing main group elements into neutral and charged \n",
       "cyclobutadienes enables the fine-tuning of their stability and electronic structures by disrupting their aromatic \n",
       "and antiaromatic character. Here, the authors report the isolation and characterization of a 4π-electron \n",
       "tetrasilacyclobutadiene, an analogue of a 4π neutral cyclobutadiene that exhibits features of a Möbius-type \n",
       "aromatic ring.\n",
       "</pre>\n"
      ],
      "text/plain": [
       "Neutral 4π-electron tetrasilacyclobutadiene contains unusual features of a Möbius-type aromatic ring, Mohd Nazish, \n",
       "Tim Patten, Yuqing Huang, Saroj Kumar Kushvaha, Lili Zhao, Anna Krawczuk, Gernot Frenking, Herbert W. Roesky, \n",
       "Communications Chemistry \u001b[1m(\u001b[0m\u001b[1;36m2024\u001b[0m\u001b[1m)\u001b[0m \u001b[4;94mhttps://doi.org/10.1038/s42004-024-01396-9\u001b[0m\n",
       "\n",
       "The search for stable compounds containing an antiaromatic cyclic 4π system is a challenge for inventive chemists \n",
       "that can look back on a long history. Here we report the isolation and characterization of the novel 4π-electron \n",
       "tetrasilacyclobutadiene, an analogue of a 4π neutral cyclobutadiene that exhibits surprising features of a \n",
       "Möbius-type aromatic ring. Reduction of RSiCl3 \u001b[1m(\u001b[0mR = \u001b[1m(\u001b[0miPr\u001b[1m)\u001b[0m2PC6H4\u001b[1m)\u001b[0m with KC8 in the presence of cycloalkyl \n",
       "amino-carbene \u001b[1m(\u001b[0mcAAC\u001b[1m)\u001b[0m led to the formation of corresponding silylene \u001b[1;36m1\u001b[0m. Compound \u001b[1;36m1\u001b[0m shows further reactivity when \n",
       "treated with RSiCl3 under reducing conditions resulting in the formation of unsymmetrical bis-silylene \u001b[1;36m2\u001b[0m, which was\n",
       "isolated as a dark red crystalline solid. Compound \u001b[1;36m3\u001b[0m was obtained when chlorosilylene was reduced with potassium \n",
       "graphite in the presence of \u001b[1;36m2\u001b[0m. Although \u001b[1;36m3\u001b[0m is, according to Hückel's rule an antiaromatic system it possesses \n",
       "significant aromatic character due to the unusual delocalization of the HOMO-\u001b[1;36m1\u001b[0m and the loss of degeneracy of the \n",
       "higher-lying π MOs. The aromatic character of \u001b[1;36m3\u001b[0m is indicated by the structural stability of the compound by the \n",
       "very similar Si-Si bond lengths and by the NICS values. There is an unusual π conjugation between the \u001b[1;36m4\u001b[0m π electrons\n",
       "in the nearly square-planar Si4 ring where the delocalization of the HOMO-\u001b[1;36m1\u001b[0m occurs at two opposite sides of the \n",
       "ring. The reversal of the π conjugation resembles the twisting of the π conjugation in Möbius aromatic systems and \n",
       "it contributes to the stability of the compound. Introducing main group elements into neutral and charged \n",
       "cyclobutadienes enables the fine-tuning of their stability and electronic structures by disrupting their aromatic \n",
       "and antiaromatic character. Here, the authors report the isolation and characterization of a 4π-electron \n",
       "tetrasilacyclobutadiene, an analogue of a 4π neutral cyclobutadiene that exhibits features of a Möbius-type \n",
       "aromatic ring.\n"
      ]
     },
     "metadata": {},
     "output_type": "display_data"
    },
    {
     "name": "stdout",
     "output_type": "stream",
     "text": [
      "\n"
     ]
    },
    {
     "data": {
      "text/html": [
       "<pre style=\"white-space:pre;overflow-x:auto;line-height:normal;font-family:Menlo,'DejaVu Sans Mono',consolas,'Courier New',monospace\">Non-catalytic glycerol dehydrogenation to dihydroxyacetone using needle-in-tube dielectric barrier discharge \n",
       "plasma, Grittima Kongprawes, Doonyapong Wongsawaeng, Peter Hosemann, Kanokwan Ngaosuwan, Worapon Kiatkittipong, \n",
       "Suttichai Assabumrungrat, Scientific Reports <span style=\"font-weight: bold\">(</span><span style=\"color: #008080; text-decoration-color: #008080; font-weight: bold\">2024</span><span style=\"font-weight: bold\">)</span> <span style=\"color: #0000ff; text-decoration-color: #0000ff; text-decoration: underline\">https://doi.org/10.1038/s41598-024-82691-2</span>\n",
       "\n",
       "Glycerol, a by-product of biodiesel production, could be converted into various value-added products. This work \n",
       "focuses on its dehydrogenation to dihydroxyacetone <span style=\"font-weight: bold\">(</span>DHA<span style=\"font-weight: bold\">)</span>, which is mainly used in the cosmetics industry. While \n",
       "several methods have been employed for DHA production, some necessitate catalysts and involve harsh reaction \n",
       "conditions as well as long reaction times. A needle-in-tube type dielectric barrier discharge <span style=\"font-weight: bold\">(</span>DBD<span style=\"font-weight: bold\">)</span> plasma \n",
       "technique for catalyst-free and environmentally-friendly glycerol conversion into DHA via dehydrogenation process \n",
       "was investigated using <span style=\"color: #008080; text-decoration-color: #008080; font-weight: bold\">0.1</span> M glycerol dissolved in deionized <span style=\"font-weight: bold\">(</span>DI<span style=\"font-weight: bold\">)</span> water at ambient temperature and pressure. The \n",
       "optimal condition was <span style=\"color: #008080; text-decoration-color: #008080; font-weight: bold\">60</span> W input power, <span style=\"color: #008080; text-decoration-color: #008080; font-weight: bold\">5</span> mm gap distance between the end of the needle and the liquid surface, and\n",
       "<span style=\"color: #008080; text-decoration-color: #008080; font-weight: bold\">0.5</span> L/min He flow rate. The highest DHA yield of <span style=\"color: #008080; text-decoration-color: #008080; font-weight: bold\">29.3</span>% was obtained at <span style=\"color: #008080; text-decoration-color: #008080; font-weight: bold\">3</span> h with a DHA selectivity of <span style=\"color: #008080; text-decoration-color: #008080; font-weight: bold\">51.6</span>% and \n",
       "glycerol conversion of <span style=\"color: #008080; text-decoration-color: #008080; font-weight: bold\">56.9</span>%. Although the system allowed over <span style=\"color: #008080; text-decoration-color: #008080; font-weight: bold\">80</span>% of glycerol to transform after <span style=\"color: #008080; text-decoration-color: #008080; font-weight: bold\">5</span> h, the DHA \n",
       "yield decreased after <span style=\"color: #008080; text-decoration-color: #008080; font-weight: bold\">3</span> h because the DHA product could further react with the reactive species in the plasma. The \n",
       "catalyst-free DBD plasma technique offers a simple and environmentally conscious method for DHA production via the \n",
       "dehydrogenation of glycerol.\n",
       "</pre>\n"
      ],
      "text/plain": [
       "Non-catalytic glycerol dehydrogenation to dihydroxyacetone using needle-in-tube dielectric barrier discharge \n",
       "plasma, Grittima Kongprawes, Doonyapong Wongsawaeng, Peter Hosemann, Kanokwan Ngaosuwan, Worapon Kiatkittipong, \n",
       "Suttichai Assabumrungrat, Scientific Reports \u001b[1m(\u001b[0m\u001b[1;36m2024\u001b[0m\u001b[1m)\u001b[0m \u001b[4;94mhttps://doi.org/10.1038/s41598-024-82691-2\u001b[0m\n",
       "\n",
       "Glycerol, a by-product of biodiesel production, could be converted into various value-added products. This work \n",
       "focuses on its dehydrogenation to dihydroxyacetone \u001b[1m(\u001b[0mDHA\u001b[1m)\u001b[0m, which is mainly used in the cosmetics industry. While \n",
       "several methods have been employed for DHA production, some necessitate catalysts and involve harsh reaction \n",
       "conditions as well as long reaction times. A needle-in-tube type dielectric barrier discharge \u001b[1m(\u001b[0mDBD\u001b[1m)\u001b[0m plasma \n",
       "technique for catalyst-free and environmentally-friendly glycerol conversion into DHA via dehydrogenation process \n",
       "was investigated using \u001b[1;36m0.1\u001b[0m M glycerol dissolved in deionized \u001b[1m(\u001b[0mDI\u001b[1m)\u001b[0m water at ambient temperature and pressure. The \n",
       "optimal condition was \u001b[1;36m60\u001b[0m W input power, \u001b[1;36m5\u001b[0m mm gap distance between the end of the needle and the liquid surface, and\n",
       "\u001b[1;36m0.5\u001b[0m L/min He flow rate. The highest DHA yield of \u001b[1;36m29.3\u001b[0m% was obtained at \u001b[1;36m3\u001b[0m h with a DHA selectivity of \u001b[1;36m51.6\u001b[0m% and \n",
       "glycerol conversion of \u001b[1;36m56.9\u001b[0m%. Although the system allowed over \u001b[1;36m80\u001b[0m% of glycerol to transform after \u001b[1;36m5\u001b[0m h, the DHA \n",
       "yield decreased after \u001b[1;36m3\u001b[0m h because the DHA product could further react with the reactive species in the plasma. The \n",
       "catalyst-free DBD plasma technique offers a simple and environmentally conscious method for DHA production via the \n",
       "dehydrogenation of glycerol.\n"
      ]
     },
     "metadata": {},
     "output_type": "display_data"
    },
    {
     "name": "stdout",
     "output_type": "stream",
     "text": [
      "\n"
     ]
    },
    {
     "name": "stdin",
     "output_type": "stream",
     "text": [
      "Continue? (y/n) n\n"
     ]
    }
   ],
   "source": [
    "%litdb openalex single atom alloys"
   ]
  },
  {
   "cell_type": "code",
   "execution_count": 18,
   "id": "d81dc56e-0b85-462d-aef5-b397ed6fb269",
   "metadata": {},
   "outputs": [],
   "source": [
    "%litdb web --all single atom alloys"
   ]
  },
  {
   "cell_type": "code",
   "execution_count": null,
   "id": "1b44d8f6-49a8-4760-a331-710c8ada6923",
   "metadata": {},
   "outputs": [],
   "source": [
    "%litdb coa https://orcid.org/0000-0003-2625-9232"
   ]
  }
 ],
 "metadata": {
  "kernelspec": {
   "display_name": "Python 3 (ipykernel)",
   "language": "python",
   "name": "python3"
  },
  "language_info": {
   "codemirror_mode": {
    "name": "ipython",
    "version": 3
   },
   "file_extension": ".py",
   "mimetype": "text/x-python",
   "name": "python",
   "nbconvert_exporter": "python",
   "pygments_lexer": "ipython3",
   "version": "3.12.7"
  }
 },
 "nbformat": 4,
 "nbformat_minor": 5
}
