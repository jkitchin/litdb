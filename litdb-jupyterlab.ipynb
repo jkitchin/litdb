{
 "cells": [
  {
   "cell_type": "markdown",
   "id": "e34dd62c-941b-42d4-9406-c59e9a68c934",
   "metadata": {},
   "source": [
    "Litdb + Jupyter Lab!\n",
    "--------------------\n",
    "\n",
    "This notebook shows several ways to use litdb inside a Jupyter notebook."
   ]
  },
  {
   "cell_type": "code",
   "execution_count": 1,
   "id": "0c84bd12-d88f-4efa-b691-7a1d3b7d9bf4",
   "metadata": {},
   "outputs": [],
   "source": [
    "# Start clean\n",
    "! rm -f litdb.toml litdb.libsql litdb.libsql-shm"
   ]
  },
  {
   "cell_type": "code",
   "execution_count": 2,
   "id": "e63a1465-73e4-466d-9f72-d84afba9ca54",
   "metadata": {},
   "outputs": [],
   "source": [
    "import litdb  # noqa: F401"
   ]
  },
  {
   "cell_type": "markdown",
   "id": "50d07442-01a8-424f-995e-5b520174f8e2",
   "metadata": {},
   "source": [
    "Most of these commands should work. I have not tested them all though."
   ]
  },
  {
   "cell_type": "code",
   "execution_count": 3,
   "id": "e056ed36-259b-4cea-8183-09714b5fc931",
   "metadata": {},
   "outputs": [
    {
     "name": "stdout",
     "output_type": "stream",
     "text": [
      "Usage: ipykernel_launcher.py [OPTIONS] COMMAND [ARGS]...\n",
      "\n",
      "  Group command for litdb.\n",
      "\n",
      "Options:\n",
      "  --help  Show this message and exit.\n",
      "\n",
      "Commands:\n",
      "  about              Summary statistics of your db.\n",
      "  add                Add WIDS to the db.\n",
      "  add-filter         Add an OpenAlex FILTER.\n",
      "  add-tag            Add tags to sources.\n",
      "  audio              Record audio, convert it to text, and do a vector...\n",
      "  author-search      Search OpenAlex for name.\n",
      "  bibtex             Generate bibtex entries for sources.\n",
      "  citation           Generate citation strings for sources.\n",
      "  citing             Create a watch for articles that cite doi.\n",
      "  coa                Generate Table 4 of Collaborators and Other...\n",
      "  crossref           Add entries to litdb from a crossref query.\n",
      "  delete-tag         Delete each tag.\n",
      "  follow             Add a filter to follow orcid.\n",
      "  fulltext           Perform a fulltext search on litdb.\n",
      "  gpt                Run an ollama query with PROMPT.\n",
      "  hybrid-search      Perform a hybrid vector and full text search.\n",
      "  index              Index the directories in SOURCES.\n",
      "  init               Initialize a litdb directory in the current working...\n",
      "  list-filters       List the filters.\n",
      "  list-tags          Print defined tags.\n",
      "  open               Open source.\n",
      "  openalex           Run an openalex query on FILTER.\n",
      "  reindex            Reindex saved directories.\n",
      "  related            Create a watch for articles that are related to doi.\n",
      "  review             Review new entries added SINCE.\n",
      "  rm-filter          Remove an OpenAlex FILTER.\n",
      "  rm-tag             Remove tags from sources.\n",
      "  screenshot         Do vector search from text in a screenshot.\n",
      "  show               Show the source.\n",
      "  show-tag           Show entries with tags.\n",
      "  similar            Find N sources similar to SOURCE by vector similarity.\n",
      "  sql                Run the SQL command on the db.\n",
      "  suggest-reviewers  Suggest reviewers for QUERY.\n",
      "  unpaywall          Use unpaywall to find PDFs for doi.\n",
      "  update-embeddings  Update all the embeddings in your db.\n",
      "  update-filters     Update litdb using a filter with works from a...\n",
      "  vsearch            Do a vector search on QUERY.\n",
      "  watch              Create a watch on query.\n",
      "  web                Open a web search for QUERY.\n"
     ]
    }
   ],
   "source": [
    "%litdb --help"
   ]
  },
  {
   "cell_type": "markdown",
   "id": "c6b45c54-8d9c-471a-97c2-71282514b0b9",
   "metadata": {},
   "source": [
    "We want to make a new litdb here."
   ]
  },
  {
   "cell_type": "code",
   "execution_count": 4,
   "id": "ec127192-9803-4df5-a8fd-24c9165f2abe",
   "metadata": {},
   "outputs": [
    {
     "name": "stdin",
     "output_type": "stream",
     "text": [
      "Email address:  jkitchin@cmu.edu\n",
      "OpenAlex API key (Enter if None):  \n"
     ]
    },
    {
     "name": "stdout",
     "output_type": "stream",
     "text": [
      "Initialized in /Users/jkitchin/Dropbox/emacs/projects/projects/litdb\n"
     ]
    }
   ],
   "source": [
    "%litdb init"
   ]
  },
  {
   "cell_type": "code",
   "execution_count": 5,
   "id": "b9d7e678-f0ba-490d-b1af-c660c1dce7c8",
   "metadata": {},
   "outputs": [
    {
     "data": {
      "text/html": [
       "<pre style=\"white-space:pre;overflow-x:auto;line-height:normal;font-family:Menlo,'DejaVu Sans Mono',consolas,'Courier New',monospace\">Your database is located at <span style=\"color: #800080; text-decoration-color: #800080\">/Users/jkitchin/Dropbox/emacs/projects/projects/litdb/</span><span style=\"color: #ff00ff; text-decoration-color: #ff00ff\">litdb.libsql</span>\n",
       "</pre>\n"
      ],
      "text/plain": [
       "Your database is located at \u001b[35m/Users/jkitchin/Dropbox/emacs/projects/projects/litdb/\u001b[0m\u001b[95mlitdb.libsql\u001b[0m\n"
      ]
     },
     "metadata": {},
     "output_type": "display_data"
    },
    {
     "data": {
      "text/html": [
       "<pre style=\"white-space:pre;overflow-x:auto;line-height:normal;font-family:Menlo,'DejaVu Sans Mono',consolas,'Courier New',monospace\">Database size: <span style=\"color: #008080; text-decoration-color: #008080; font-weight: bold\">0.00</span> GB\n",
       "</pre>\n"
      ],
      "text/plain": [
       "Database size: \u001b[1;36m0.00\u001b[0m GB\n"
      ]
     },
     "metadata": {},
     "output_type": "display_data"
    },
    {
     "data": {
      "text/html": [
       "<pre style=\"white-space:pre;overflow-x:auto;line-height:normal;font-family:Menlo,'DejaVu Sans Mono',consolas,'Courier New',monospace\">You have <span style=\"color: #008080; text-decoration-color: #008080; font-weight: bold\">0</span> sources\n",
       "</pre>\n"
      ],
      "text/plain": [
       "You have \u001b[1;36m0\u001b[0m sources\n"
      ]
     },
     "metadata": {},
     "output_type": "display_data"
    }
   ],
   "source": [
    "%litdb about"
   ]
  },
  {
   "cell_type": "code",
   "execution_count": 6,
   "id": "17999bfa-0c1b-4581-8231-912bfcbe9fcb",
   "metadata": {},
   "outputs": [
    {
     "data": {
      "text/html": [
       "<pre style=\"white-space:pre;overflow-x:auto;line-height:normal;font-family:Menlo,'DejaVu Sans Mono',consolas,'Courier New',monospace\">- John R. Kitchin\n",
       "  Carnegie Mellon University, USA <span style=\"color: #0000ff; text-decoration-color: #0000ff; text-decoration: underline\">https://orcid.org/0000-0003-2625-9232</span>\n",
       "\n",
       "\n",
       "</pre>\n"
      ],
      "text/plain": [
       "- John R. Kitchin\n",
       "  Carnegie Mellon University, USA \u001b[4;94mhttps://orcid.org/0000-0003-2625-9232\u001b[0m\n",
       "\n",
       "\n"
      ]
     },
     "metadata": {},
     "output_type": "display_data"
    }
   ],
   "source": [
    "%litdb author-search john r kitchin"
   ]
  },
  {
   "cell_type": "code",
   "execution_count": 7,
   "id": "e01040c7-e265-4c01-936f-d5e165e0312c",
   "metadata": {},
   "outputs": [
    {
     "name": "stderr",
     "output_type": "stream",
     "text": [
      "100%|█████████████████████████████████████████| 200/200 [04:47<00:00,  1.44s/it]\n",
      "100%|███████████████████████████████████████████| 24/24 [00:32<00:00,  1.35s/it]\n",
      "0it [00:00, ?it/s]\n"
     ]
    },
    {
     "data": {
      "text/html": [
       "<pre style=\"white-space:pre;overflow-x:auto;line-height:normal;font-family:Menlo,'DejaVu Sans Mono',consolas,'Courier New',monospace\">Following John R. Kitchin: <span style=\"color: #0000ff; text-decoration-color: #0000ff; text-decoration: underline\">https://orcid.org/0000-0003-2625-9232</span>\n",
       "</pre>\n"
      ],
      "text/plain": [
       "Following John R. Kitchin: \u001b[4;94mhttps://orcid.org/0000-0003-2625-9232\u001b[0m\n"
      ]
     },
     "metadata": {},
     "output_type": "display_data"
    }
   ],
   "source": [
    "%litdb follow https://orcid.org/0000-0003-2625-9232"
   ]
  },
  {
   "cell_type": "code",
   "execution_count": 8,
   "id": "36b64c45-002e-4dbe-943b-3f1e5e95d53e",
   "metadata": {},
   "outputs": [
    {
     "data": {
      "text/html": [
       "<pre style=\"white-space:pre;overflow-x:auto;line-height:normal;font-family:Menlo,'DejaVu Sans Mono',consolas,'Courier New',monospace\">Your database is located at <span style=\"color: #800080; text-decoration-color: #800080\">/Users/jkitchin/Dropbox/emacs/projects/projects/litdb/</span><span style=\"color: #ff00ff; text-decoration-color: #ff00ff\">litdb.libsql</span>\n",
       "</pre>\n"
      ],
      "text/plain": [
       "Your database is located at \u001b[35m/Users/jkitchin/Dropbox/emacs/projects/projects/litdb/\u001b[0m\u001b[95mlitdb.libsql\u001b[0m\n"
      ]
     },
     "metadata": {},
     "output_type": "display_data"
    },
    {
     "data": {
      "text/html": [
       "<pre style=\"white-space:pre;overflow-x:auto;line-height:normal;font-family:Menlo,'DejaVu Sans Mono',consolas,'Courier New',monospace\">Database size: <span style=\"color: #008080; text-decoration-color: #008080; font-weight: bold\">0.02</span> GB\n",
       "</pre>\n"
      ],
      "text/plain": [
       "Database size: \u001b[1;36m0.02\u001b[0m GB\n"
      ]
     },
     "metadata": {},
     "output_type": "display_data"
    },
    {
     "data": {
      "text/html": [
       "<pre style=\"white-space:pre;overflow-x:auto;line-height:normal;font-family:Menlo,'DejaVu Sans Mono',consolas,'Courier New',monospace\">You have <span style=\"color: #008080; text-decoration-color: #008080; font-weight: bold\">224</span> sources\n",
       "</pre>\n"
      ],
      "text/plain": [
       "You have \u001b[1;36m224\u001b[0m sources\n"
      ]
     },
     "metadata": {},
     "output_type": "display_data"
    }
   ],
   "source": [
    "%litdb about"
   ]
  },
  {
   "cell_type": "code",
   "execution_count": 9,
   "id": "adec735f-f105-4b89-b7e8-7ff88a1a50d8",
   "metadata": {},
   "outputs": [
    {
     "data": {
      "text/html": [
       "<pre style=\"white-space:pre;overflow-x:auto;line-height:normal;font-family:Menlo,'DejaVu Sans Mono',consolas,'Courier New',monospace\"> <span style=\"color: #008080; text-decoration-color: #008080; font-weight: bold\">1</span>. <span style=\"font-weight: bold\">(</span><span style=\"color: #008080; text-decoration-color: #008080; font-weight: bold\">0.432</span><span style=\"font-weight: bold\">)</span> Investigating the Reactivity of Single Atom Alloys Using Density Functional Theory, Hari Thirumalai, \n",
       "John R. Kitchin, Topics in Catalysis <span style=\"font-weight: bold\">(</span><span style=\"color: #008080; text-decoration-color: #008080; font-weight: bold\">2018</span><span style=\"font-weight: bold\">)</span> <span style=\"color: #0000ff; text-decoration-color: #0000ff; text-decoration: underline\">https://doi.org/10.1007/s11244-018-0899-0</span>\n",
       "\n",
       "No abstract\n",
       "\n",
       "</pre>\n"
      ],
      "text/plain": [
       " \u001b[1;36m1\u001b[0m. \u001b[1m(\u001b[0m\u001b[1;36m0.432\u001b[0m\u001b[1m)\u001b[0m Investigating the Reactivity of Single Atom Alloys Using Density Functional Theory, Hari Thirumalai, \n",
       "John R. Kitchin, Topics in Catalysis \u001b[1m(\u001b[0m\u001b[1;36m2018\u001b[0m\u001b[1m)\u001b[0m \u001b[4;94mhttps://doi.org/10.1007/s11244-018-0899-0\u001b[0m\n",
       "\n",
       "No abstract\n",
       "\n"
      ]
     },
     "metadata": {},
     "output_type": "display_data"
    },
    {
     "data": {
      "text/html": [
       "<pre style=\"white-space:pre;overflow-x:auto;line-height:normal;font-family:Menlo,'DejaVu Sans Mono',consolas,'Courier New',monospace\"> <span style=\"color: #008080; text-decoration-color: #008080; font-weight: bold\">2</span>. <span style=\"font-weight: bold\">(</span><span style=\"color: #008080; text-decoration-color: #008080; font-weight: bold\">0.527</span><span style=\"font-weight: bold\">)</span> Alloy surface segregation in reactive environments via density functional theory and atomistic \n",
       "thermodyanamics, John R. Kitchin, Karsten Reuter, Matthias Scheffler, Bulletin of the American Physical Society \n",
       "<span style=\"font-weight: bold\">(</span><span style=\"color: #008080; text-decoration-color: #008080; font-weight: bold\">2005</span><span style=\"font-weight: bold\">)</span> <span style=\"color: #0000ff; text-decoration-color: #0000ff; text-decoration: underline\">https://openalex.org/W1931953664</span>\n",
       "\n",
       "No abstract\n",
       "\n",
       "</pre>\n"
      ],
      "text/plain": [
       " \u001b[1;36m2\u001b[0m. \u001b[1m(\u001b[0m\u001b[1;36m0.527\u001b[0m\u001b[1m)\u001b[0m Alloy surface segregation in reactive environments via density functional theory and atomistic \n",
       "thermodyanamics, John R. Kitchin, Karsten Reuter, Matthias Scheffler, Bulletin of the American Physical Society \n",
       "\u001b[1m(\u001b[0m\u001b[1;36m2005\u001b[0m\u001b[1m)\u001b[0m \u001b[4;94mhttps://openalex.org/W1931953664\u001b[0m\n",
       "\n",
       "No abstract\n",
       "\n"
      ]
     },
     "metadata": {},
     "output_type": "display_data"
    },
    {
     "data": {
      "text/html": [
       "<pre style=\"white-space:pre;overflow-x:auto;line-height:normal;font-family:Menlo,'DejaVu Sans Mono',consolas,'Courier New',monospace\"> <span style=\"color: #008080; text-decoration-color: #008080; font-weight: bold\">3</span>. <span style=\"font-weight: bold\">(</span><span style=\"color: #008080; text-decoration-color: #008080; font-weight: bold\">0.548</span><span style=\"font-weight: bold\">)</span> SingleNN: Modified Behler–Parrinello Neural Network with Shared Weights for Atomistic Simulations with \n",
       "Transferability, Mingjie Liu, John R. Kitchin, The Journal of Physical Chemistry C <span style=\"font-weight: bold\">(</span><span style=\"color: #008080; text-decoration-color: #008080; font-weight: bold\">2020</span><span style=\"font-weight: bold\">)</span> \n",
       "<span style=\"color: #0000ff; text-decoration-color: #0000ff; text-decoration: underline\">https://doi.org/10.1021/acs.jpcc.0c04225</span>\n",
       "\n",
       "In this article, we introduce the SingleNN, which is a modified version of the Behler–Parrinello Neural Network \n",
       "<span style=\"font-weight: bold\">(</span>BPNN<span style=\"font-weight: bold\">)</span> where the neural networks for the prediction of atomic energy for different elements are combined into a \n",
       "single network with shared weights. Using a data set containing Cu, Ge, Li, Mo, Ni, and Si, we demonstrate that \n",
       "SingleNN could achieve an accuracy that is on a par with BPNN for energy and force predictions. Furthermore, we \n",
       "demonstrate that SingleNN could learn a common transformation for the fingerprints of atoms to a latent space in \n",
       "which the atomic energies of the atoms are nearly linear. Using the common transformation, we could fit the data \n",
       "with new elements by changing only weights in the output layer in the neural network. In this way, with a moderate \n",
       "compromise in accuracy, we can speed up the training process significantly and potentially reduce the amount of \n",
       "training data needed.\n",
       "\n",
       "</pre>\n"
      ],
      "text/plain": [
       " \u001b[1;36m3\u001b[0m. \u001b[1m(\u001b[0m\u001b[1;36m0.548\u001b[0m\u001b[1m)\u001b[0m SingleNN: Modified Behler–Parrinello Neural Network with Shared Weights for Atomistic Simulations with \n",
       "Transferability, Mingjie Liu, John R. Kitchin, The Journal of Physical Chemistry C \u001b[1m(\u001b[0m\u001b[1;36m2020\u001b[0m\u001b[1m)\u001b[0m \n",
       "\u001b[4;94mhttps://doi.org/10.1021/acs.jpcc.0c04225\u001b[0m\n",
       "\n",
       "In this article, we introduce the SingleNN, which is a modified version of the Behler–Parrinello Neural Network \n",
       "\u001b[1m(\u001b[0mBPNN\u001b[1m)\u001b[0m where the neural networks for the prediction of atomic energy for different elements are combined into a \n",
       "single network with shared weights. Using a data set containing Cu, Ge, Li, Mo, Ni, and Si, we demonstrate that \n",
       "SingleNN could achieve an accuracy that is on a par with BPNN for energy and force predictions. Furthermore, we \n",
       "demonstrate that SingleNN could learn a common transformation for the fingerprints of atoms to a latent space in \n",
       "which the atomic energies of the atoms are nearly linear. Using the common transformation, we could fit the data \n",
       "with new elements by changing only weights in the output layer in the neural network. In this way, with a moderate \n",
       "compromise in accuracy, we can speed up the training process significantly and potentially reduce the amount of \n",
       "training data needed.\n",
       "\n"
      ]
     },
     "metadata": {},
     "output_type": "display_data"
    }
   ],
   "source": [
    "%litdb vsearch single atom alloy"
   ]
  },
  {
   "cell_type": "code",
   "execution_count": 10,
   "id": "d160ca4d-8ec9-4417-8c94-f432a2c5f2ca",
   "metadata": {},
   "outputs": [
    {
     "data": {
      "text/html": [
       "<pre style=\"white-space:pre;overflow-x:auto;line-height:normal;font-family:Menlo,'DejaVu Sans Mono',consolas,'Courier New',monospace\"> <span style=\"color: #008080; text-decoration-color: #008080; font-weight: bold\">1</span>. <span style=\"font-weight: bold\">(</span><span style=\"color: #008080; text-decoration-color: #008080; font-weight: bold\">0.432</span><span style=\"font-weight: bold\">)</span> Investigating the Reactivity of Single Atom Alloys Using Density Functional Theory, Hari Thirumalai, \n",
       "John R. Kitchin, Topics in Catalysis <span style=\"font-weight: bold\">(</span><span style=\"color: #008080; text-decoration-color: #008080; font-weight: bold\">2018</span><span style=\"font-weight: bold\">)</span> <span style=\"color: #0000ff; text-decoration-color: #0000ff; text-decoration: underline\">https://doi.org/10.1007/s11244-018-0899-0</span>\n",
       "\n",
       "No abstract\n",
       "\n",
       "</pre>\n"
      ],
      "text/plain": [
       " \u001b[1;36m1\u001b[0m. \u001b[1m(\u001b[0m\u001b[1;36m0.432\u001b[0m\u001b[1m)\u001b[0m Investigating the Reactivity of Single Atom Alloys Using Density Functional Theory, Hari Thirumalai, \n",
       "John R. Kitchin, Topics in Catalysis \u001b[1m(\u001b[0m\u001b[1;36m2018\u001b[0m\u001b[1m)\u001b[0m \u001b[4;94mhttps://doi.org/10.1007/s11244-018-0899-0\u001b[0m\n",
       "\n",
       "No abstract\n",
       "\n"
      ]
     },
     "metadata": {},
     "output_type": "display_data"
    },
    {
     "data": {
      "text/html": [
       "<pre style=\"white-space:pre;overflow-x:auto;line-height:normal;font-family:Menlo,'DejaVu Sans Mono',consolas,'Courier New',monospace\"> <span style=\"color: #008080; text-decoration-color: #008080; font-weight: bold\">2</span>. <span style=\"font-weight: bold\">(</span><span style=\"color: #008080; text-decoration-color: #008080; font-weight: bold\">0.527</span><span style=\"font-weight: bold\">)</span> Alloy surface segregation in reactive environments via density functional theory and atomistic \n",
       "thermodyanamics, John R. Kitchin, Karsten Reuter, Matthias Scheffler, Bulletin of the American Physical Society \n",
       "<span style=\"font-weight: bold\">(</span><span style=\"color: #008080; text-decoration-color: #008080; font-weight: bold\">2005</span><span style=\"font-weight: bold\">)</span> <span style=\"color: #0000ff; text-decoration-color: #0000ff; text-decoration: underline\">https://openalex.org/W1931953664</span>\n",
       "\n",
       "No abstract\n",
       "\n",
       "</pre>\n"
      ],
      "text/plain": [
       " \u001b[1;36m2\u001b[0m. \u001b[1m(\u001b[0m\u001b[1;36m0.527\u001b[0m\u001b[1m)\u001b[0m Alloy surface segregation in reactive environments via density functional theory and atomistic \n",
       "thermodyanamics, John R. Kitchin, Karsten Reuter, Matthias Scheffler, Bulletin of the American Physical Society \n",
       "\u001b[1m(\u001b[0m\u001b[1;36m2005\u001b[0m\u001b[1m)\u001b[0m \u001b[4;94mhttps://openalex.org/W1931953664\u001b[0m\n",
       "\n",
       "No abstract\n",
       "\n"
      ]
     },
     "metadata": {},
     "output_type": "display_data"
    },
    {
     "data": {
      "text/html": [
       "<pre style=\"white-space:pre;overflow-x:auto;line-height:normal;font-family:Menlo,'DejaVu Sans Mono',consolas,'Courier New',monospace\"> <span style=\"color: #008080; text-decoration-color: #008080; font-weight: bold\">3</span>. <span style=\"font-weight: bold\">(</span><span style=\"color: #008080; text-decoration-color: #008080; font-weight: bold\">0.548</span><span style=\"font-weight: bold\">)</span> SingleNN: Modified Behler–Parrinello Neural Network with Shared Weights for Atomistic Simulations with \n",
       "Transferability, Mingjie Liu, John R. Kitchin, The Journal of Physical Chemistry C <span style=\"font-weight: bold\">(</span><span style=\"color: #008080; text-decoration-color: #008080; font-weight: bold\">2020</span><span style=\"font-weight: bold\">)</span> \n",
       "<span style=\"color: #0000ff; text-decoration-color: #0000ff; text-decoration: underline\">https://doi.org/10.1021/acs.jpcc.0c04225</span>\n",
       "\n",
       "In this article, we introduce the SingleNN, which is a modified version of the Behler–Parrinello Neural Network \n",
       "<span style=\"font-weight: bold\">(</span>BPNN<span style=\"font-weight: bold\">)</span> where the neural networks for the prediction of atomic energy for different elements are combined into a \n",
       "single network with shared weights. Using a data set containing Cu, Ge, Li, Mo, Ni, and Si, we demonstrate that \n",
       "SingleNN could achieve an accuracy that is on a par with BPNN for energy and force predictions. Furthermore, we \n",
       "demonstrate that SingleNN could learn a common transformation for the fingerprints of atoms to a latent space in \n",
       "which the atomic energies of the atoms are nearly linear. Using the common transformation, we could fit the data \n",
       "with new elements by changing only weights in the output layer in the neural network. In this way, with a moderate \n",
       "compromise in accuracy, we can speed up the training process significantly and potentially reduce the amount of \n",
       "training data needed.\n",
       "\n",
       "</pre>\n"
      ],
      "text/plain": [
       " \u001b[1;36m3\u001b[0m. \u001b[1m(\u001b[0m\u001b[1;36m0.548\u001b[0m\u001b[1m)\u001b[0m SingleNN: Modified Behler–Parrinello Neural Network with Shared Weights for Atomistic Simulations with \n",
       "Transferability, Mingjie Liu, John R. Kitchin, The Journal of Physical Chemistry C \u001b[1m(\u001b[0m\u001b[1;36m2020\u001b[0m\u001b[1m)\u001b[0m \n",
       "\u001b[4;94mhttps://doi.org/10.1021/acs.jpcc.0c04225\u001b[0m\n",
       "\n",
       "In this article, we introduce the SingleNN, which is a modified version of the Behler–Parrinello Neural Network \n",
       "\u001b[1m(\u001b[0mBPNN\u001b[1m)\u001b[0m where the neural networks for the prediction of atomic energy for different elements are combined into a \n",
       "single network with shared weights. Using a data set containing Cu, Ge, Li, Mo, Ni, and Si, we demonstrate that \n",
       "SingleNN could achieve an accuracy that is on a par with BPNN for energy and force predictions. Furthermore, we \n",
       "demonstrate that SingleNN could learn a common transformation for the fingerprints of atoms to a latent space in \n",
       "which the atomic energies of the atoms are nearly linear. Using the common transformation, we could fit the data \n",
       "with new elements by changing only weights in the output layer in the neural network. In this way, with a moderate \n",
       "compromise in accuracy, we can speed up the training process significantly and potentially reduce the amount of \n",
       "training data needed.\n",
       "\n"
      ]
     },
     "metadata": {},
     "output_type": "display_data"
    }
   ],
   "source": [
    "%%litdb vsearch \n",
    "single atom alloy"
   ]
  },
  {
   "cell_type": "code",
   "execution_count": 11,
   "id": "0bc160dd-99f7-434b-828f-5138471a4aba",
   "metadata": {},
   "outputs": [
    {
     "data": {
      "text/html": [
       "<pre style=\"white-space:pre;overflow-x:auto;line-height:normal;font-family:Menlo,'DejaVu Sans Mono',consolas,'Courier New',monospace\"> <span style=\"color: #008080; text-decoration-color: #008080; font-weight: bold\">1</span>. Thirumalai, H., &amp; Kitchin, J. R. <span style=\"font-weight: bold\">(</span><span style=\"color: #008080; text-decoration-color: #008080; font-weight: bold\">2018</span>, January <span style=\"color: #008080; text-decoration-color: #008080; font-weight: bold\">25</span><span style=\"font-weight: bold\">)</span>. Investigating the Reactivity of Single Atom Alloys Using \n",
       "Density Functional Theory. <span style=\"font-weight: bold\">&lt;</span><span style=\"color: #ff00ff; text-decoration-color: #ff00ff; font-weight: bold\">i</span><span style=\"color: #000000; text-decoration-color: #000000\">&gt;Topics in Catalysis&lt;</span><span style=\"color: #800080; text-decoration-color: #800080\">/</span><span style=\"color: #ff00ff; text-decoration-color: #ff00ff\">i</span><span style=\"font-weight: bold\">&gt;</span>. Springer Science and Business Media LLC. \n",
       "<span style=\"color: #0000ff; text-decoration-color: #0000ff; text-decoration: underline\">http://doi.org/10.1007/s11244-018-0899-0</span>\n",
       "</pre>\n"
      ],
      "text/plain": [
       " \u001b[1;36m1\u001b[0m. Thirumalai, H., & Kitchin, J. R. \u001b[1m(\u001b[0m\u001b[1;36m2018\u001b[0m, January \u001b[1;36m25\u001b[0m\u001b[1m)\u001b[0m. Investigating the Reactivity of Single Atom Alloys Using \n",
       "Density Functional Theory. \u001b[1m<\u001b[0m\u001b[1;95mi\u001b[0m\u001b[39m>Topics in Catalysis<\u001b[0m\u001b[35m/\u001b[0m\u001b[95mi\u001b[0m\u001b[1m>\u001b[0m. Springer Science and Business Media LLC. \n",
       "\u001b[4;94mhttp://doi.org/10.1007/s11244-018-0899-0\u001b[0m\n"
      ]
     },
     "metadata": {},
     "output_type": "display_data"
    }
   ],
   "source": [
    "%litdb citation https://doi.org/10.1007/s11244-018-0899-0"
   ]
  },
  {
   "cell_type": "code",
   "execution_count": 12,
   "id": "83951038-e76d-4f4f-8cd8-2c83f532c7a5",
   "metadata": {},
   "outputs": [
    {
     "data": {
      "text/html": [
       "<pre style=\"white-space:pre;overflow-x:auto;line-height:normal;font-family:Menlo,'DejaVu Sans Mono',consolas,'Courier New',monospace\">@article<span style=\"font-weight: bold\">{</span><span style=\"color: #0000ff; text-decoration-color: #0000ff; text-decoration: underline\">https://doi.org/10.1007/s11244-018-0899-0,</span>\n",
       " author = <span style=\"font-weight: bold\">{</span>Hari Thirumalai and John R. Kitchin<span style=\"font-weight: bold\">}</span>,\n",
       " biburl = <span style=\"font-weight: bold\">{</span><span style=\"color: #0000ff; text-decoration-color: #0000ff; text-decoration: underline\">https://doi.org/10.1007/s11244-018-0899-0.bib</span><span style=\"font-weight: bold\">}</span>,\n",
       " doi = <span style=\"font-weight: bold\">{</span><span style=\"color: #008080; text-decoration-color: #008080; font-weight: bold\">10.1007</span>/s11244-<span style=\"color: #008080; text-decoration-color: #008080; font-weight: bold\">018</span>-<span style=\"color: #008080; text-decoration-color: #008080; font-weight: bold\">0899</span>-<span style=\"color: #008080; text-decoration-color: #008080; font-weight: bold\">0</span><span style=\"font-weight: bold\">}</span>,\n",
       " number = <span style=\"font-weight: bold\">{</span><span style=\"color: #008080; text-decoration-color: #008080; font-weight: bold\">5</span>-<span style=\"color: #008080; text-decoration-color: #008080; font-weight: bold\">6</span><span style=\"font-weight: bold\">}</span>,\n",
       " pages = <span style=\"font-weight: bold\">{</span><span style=\"color: #008080; text-decoration-color: #008080; font-weight: bold\">462</span>-<span style=\"color: #008080; text-decoration-color: #008080; font-weight: bold\">-474</span><span style=\"font-weight: bold\">}</span>,\n",
       " title = <span style=\"font-weight: bold\">{</span>Investigating the Reactivity of Single Atom Alloys Using Density Functional Theory<span style=\"font-weight: bold\">}</span>,\n",
       " volume = <span style=\"font-weight: bold\">{</span><span style=\"color: #008080; text-decoration-color: #008080; font-weight: bold\">61</span><span style=\"font-weight: bold\">}</span>,\n",
       " year = <span style=\"font-weight: bold\">{</span><span style=\"color: #008080; text-decoration-color: #008080; font-weight: bold\">2018</span><span style=\"font-weight: bold\">}</span>\n",
       "<span style=\"font-weight: bold\">}</span>\n",
       "\n",
       "</pre>\n"
      ],
      "text/plain": [
       "@article\u001b[1m{\u001b[0m\u001b[4;94mhttps://doi.org/10.1007/s11244-018-0899-0,\u001b[0m\n",
       " author = \u001b[1m{\u001b[0mHari Thirumalai and John R. Kitchin\u001b[1m}\u001b[0m,\n",
       " biburl = \u001b[1m{\u001b[0m\u001b[4;94mhttps://doi.org/10.1007/s11244-018-0899-0.bib\u001b[0m\u001b[1m}\u001b[0m,\n",
       " doi = \u001b[1m{\u001b[0m\u001b[1;36m10.1007\u001b[0m/s11244-\u001b[1;36m018\u001b[0m-\u001b[1;36m0899\u001b[0m-\u001b[1;36m0\u001b[0m\u001b[1m}\u001b[0m,\n",
       " number = \u001b[1m{\u001b[0m\u001b[1;36m5\u001b[0m-\u001b[1;36m6\u001b[0m\u001b[1m}\u001b[0m,\n",
       " pages = \u001b[1m{\u001b[0m\u001b[1;36m462\u001b[0m-\u001b[1;36m-474\u001b[0m\u001b[1m}\u001b[0m,\n",
       " title = \u001b[1m{\u001b[0mInvestigating the Reactivity of Single Atom Alloys Using Density Functional Theory\u001b[1m}\u001b[0m,\n",
       " volume = \u001b[1m{\u001b[0m\u001b[1;36m61\u001b[0m\u001b[1m}\u001b[0m,\n",
       " year = \u001b[1m{\u001b[0m\u001b[1;36m2018\u001b[0m\u001b[1m}\u001b[0m\n",
       "\u001b[1m}\u001b[0m\n",
       "\n"
      ]
     },
     "metadata": {},
     "output_type": "display_data"
    }
   ],
   "source": [
    "%litdb bibtex https://doi.org/10.1007/s11244-018-0899-0"
   ]
  },
  {
   "cell_type": "code",
   "execution_count": 13,
   "id": "273bdcb6-b8db-4c69-b64a-0b906f5c37ca",
   "metadata": {},
   "outputs": [
    {
     "data": {
      "text/html": [
       "<pre style=\"white-space:pre;overflow-x:auto;line-height:normal;font-family:Menlo,'DejaVu Sans Mono',consolas,'Courier New',monospace\"><span style=\"color: #0000ff; text-decoration-color: #0000ff; text-decoration: underline\">https://doi.org/10.1002/aic.15294</span> <span style=\"font-weight: bold\">(</span><span style=\"color: #008080; text-decoration-color: #008080; font-weight: bold\">-0.0</span><span style=\"font-weight: bold\">)</span>\n",
       "structure spread libraries John R. Kitchin, Corresponding Author John R. Kitchin jkitchin@andrew.cmu.edu Dept\n",
       "</pre>\n"
      ],
      "text/plain": [
       "\u001b[4;94mhttps://doi.org/10.1002/aic.15294\u001b[0m \u001b[1m(\u001b[0m\u001b[1;36m-0.0\u001b[0m\u001b[1m)\u001b[0m\n",
       "structure spread libraries John R. Kitchin, Corresponding Author John R. Kitchin jkitchin@andrew.cmu.edu Dept\n"
      ]
     },
     "metadata": {},
     "output_type": "display_data"
    },
    {
     "data": {
      "text/html": [
       "<pre style=\"white-space:pre;overflow-x:auto;line-height:normal;font-family:Menlo,'DejaVu Sans Mono',consolas,'Courier New',monospace\"><span style=\"color: #0000ff; text-decoration-color: #0000ff; text-decoration: underline\">https://doi.org/10.5281/zenodo.7600475</span> <span style=\"font-weight: bold\">(</span><span style=\"color: #008080; text-decoration-color: #008080; font-weight: bold\">-0.0</span><span style=\"font-weight: bold\">)</span>\n",
       "Yuri Sanspeur, Javier Heras‐Domingo, John R. Kitchin, Zachary W. Ulissi, Zenodo <span style=\"font-weight: bold\">(</span>CERN European Organization for\n",
       "</pre>\n"
      ],
      "text/plain": [
       "\u001b[4;94mhttps://doi.org/10.5281/zenodo.7600475\u001b[0m \u001b[1m(\u001b[0m\u001b[1;36m-0.0\u001b[0m\u001b[1m)\u001b[0m\n",
       "Yuri Sanspeur, Javier Heras‐Domingo, John R. Kitchin, Zachary W. Ulissi, Zenodo \u001b[1m(\u001b[0mCERN European Organization for\n"
      ]
     },
     "metadata": {},
     "output_type": "display_data"
    }
   ],
   "source": [
    "%litdb fulltext kitchin -n 2"
   ]
  },
  {
   "cell_type": "code",
   "execution_count": 14,
   "id": "137b08d4-a2cc-41a9-89e0-645d91ace0a6",
   "metadata": {},
   "outputs": [
    {
     "data": {
      "text/html": [
       "<pre style=\"white-space:pre;overflow-x:auto;line-height:normal;font-family:Menlo,'DejaVu Sans Mono',consolas,'Courier New',monospace\"><span style=\"color: #0000ff; text-decoration-color: #0000ff; text-decoration: underline\">https://doi.org/10.1002/aic.15294</span> <span style=\"font-weight: bold\">(</span><span style=\"color: #008080; text-decoration-color: #008080; font-weight: bold\">-0.0</span><span style=\"font-weight: bold\">)</span>\n",
       "structure spread libraries John R. Kitchin, Corresponding Author John R. Kitchin jkitchin@andrew.cmu.edu Dept\n",
       "</pre>\n"
      ],
      "text/plain": [
       "\u001b[4;94mhttps://doi.org/10.1002/aic.15294\u001b[0m \u001b[1m(\u001b[0m\u001b[1;36m-0.0\u001b[0m\u001b[1m)\u001b[0m\n",
       "structure spread libraries John R. Kitchin, Corresponding Author John R. Kitchin jkitchin@andrew.cmu.edu Dept\n"
      ]
     },
     "metadata": {},
     "output_type": "display_data"
    },
    {
     "data": {
      "text/html": [
       "<pre style=\"white-space:pre;overflow-x:auto;line-height:normal;font-family:Menlo,'DejaVu Sans Mono',consolas,'Courier New',monospace\"><span style=\"color: #0000ff; text-decoration-color: #0000ff; text-decoration: underline\">https://doi.org/10.5281/zenodo.7600475</span> <span style=\"font-weight: bold\">(</span><span style=\"color: #008080; text-decoration-color: #008080; font-weight: bold\">-0.0</span><span style=\"font-weight: bold\">)</span>\n",
       "Yuri Sanspeur, Javier Heras‐Domingo, John R. Kitchin, Zachary W. Ulissi, Zenodo <span style=\"font-weight: bold\">(</span>CERN European Organization for\n",
       "</pre>\n"
      ],
      "text/plain": [
       "\u001b[4;94mhttps://doi.org/10.5281/zenodo.7600475\u001b[0m \u001b[1m(\u001b[0m\u001b[1;36m-0.0\u001b[0m\u001b[1m)\u001b[0m\n",
       "Yuri Sanspeur, Javier Heras‐Domingo, John R. Kitchin, Zachary W. Ulissi, Zenodo \u001b[1m(\u001b[0mCERN European Organization for\n"
      ]
     },
     "metadata": {},
     "output_type": "display_data"
    }
   ],
   "source": [
    "%%litdb fulltext -n 2\n",
    "kitchin"
   ]
  },
  {
   "cell_type": "code",
   "execution_count": 15,
   "id": "4a0548b3-3894-49a3-a290-92c74ba3d7dc",
   "metadata": {},
   "outputs": [
    {
     "data": {
      "text/html": [
       "<pre style=\"white-space:pre;overflow-x:auto;line-height:normal;font-family:Menlo,'DejaVu Sans Mono',consolas,'Courier New',monospace\">It took <span style=\"color: #008080; text-decoration-color: #008080; font-weight: bold\">0.7</span> sec to embed the prompt\n",
       "</pre>\n"
      ],
      "text/plain": [
       "It took \u001b[1;36m0.7\u001b[0m sec to embed the prompt\n"
      ]
     },
     "metadata": {},
     "output_type": "display_data"
    },
    {
     "data": {
      "text/html": [
       "<pre style=\"white-space:pre;overflow-x:auto;line-height:normal;font-family:Menlo,'DejaVu Sans Mono',consolas,'Courier New',monospace\">It took  <span style=\"color: #008080; text-decoration-color: #008080; font-weight: bold\">0.0</span> sec to get the top three docs\n",
       "</pre>\n"
      ],
      "text/plain": [
       "It took  \u001b[1;36m0.0\u001b[0m sec to get the top three docs\n"
      ]
     },
     "metadata": {},
     "output_type": "display_data"
    },
    {
     "data": {
      "text/html": [
       "<pre style=\"white-space:pre;overflow-x:auto;line-height:normal;font-family:Menlo,'DejaVu Sans Mono',consolas,'Courier New',monospace\">Generating text for <span style=\"color: #008000; text-decoration-color: #008000\">\"What factors determine the reactivity of a single atom alloy?\"</span> with llama2\n",
       "\n",
       "\n",
       "</pre>\n"
      ],
      "text/plain": [
       "Generating text for \u001b[32m\"What factors determine the reactivity of a single atom alloy?\"\u001b[0m with llama2\n",
       "\n",
       "\n"
      ]
     },
     "metadata": {},
     "output_type": "display_data"
    },
    {
     "data": {
      "text/html": [
       "<pre style=\"white-space:pre;overflow-x:auto;line-height:normal;font-family:Menlo,'DejaVu Sans Mono',consolas,'Courier New',monospace\">\n",
       "Based on the scientific literature provided, there are several factors that determine the reactivity of a single \n",
       "atom alloy. Here are some key findings:\n",
       "\n",
       "<span style=\"color: #008080; text-decoration-color: #008080; font-weight: bold\">1</span>. Surface composition: The composition of the surface of a single atom alloy can significantly affect its \n",
       "reactivity. For example, Hari Thirumalai and John R. Kitchin's study on Investigating the Reactivity of Single Atom\n",
       "Alloys Using Density Functional Theory found that the presence of certain atoms at the surface of the alloy can \n",
       "enhance or inhibit its reactivity <span style=\"font-weight: bold\">(</span><span style=\"color: #008080; text-decoration-color: #008080; font-weight: bold\">1</span><span style=\"font-weight: bold\">)</span>.\n",
       "<span style=\"color: #008080; text-decoration-color: #008080; font-weight: bold\">2</span>. Chemical potential: The chemical potential of the individual atoms in the alloy can also influence its \n",
       "reactivity. In their study on Alloy surface segregation in reactive environments via density functional theory and \n",
       "atomistic thermodyanamics, John R. Kitchin, Karsten Reuter, and Matthias Scheffler found that the chemical \n",
       "potential of the atoms at the surface of the alloy can affect its reactivity <span style=\"font-weight: bold\">(</span><span style=\"color: #008080; text-decoration-color: #008080; font-weight: bold\">2</span><span style=\"font-weight: bold\">)</span>.\n",
       "<span style=\"color: #008080; text-decoration-color: #008080; font-weight: bold\">3</span>. Electronic structure: The electronic structure of the single atom alloy can also play a role in determining its \n",
       "reactivity. For example, John R. Kitchin's PhDT thesis on Tuning the electronic and chemical properties of metals: \n",
       "Bimetallics and transition metal carbides found that the electronic structure of the bimetallic or transition metal\n",
       "carbide can affect its reactivity <span style=\"font-weight: bold\">(</span><span style=\"color: #008080; text-decoration-color: #008080; font-weight: bold\">3</span><span style=\"font-weight: bold\">)</span>.\n",
       "<span style=\"color: #008080; text-decoration-color: #008080; font-weight: bold\">4</span>. Atomic arrangement: The arrangement of the atoms in the single atom alloy can also impact its reactivity. For \n",
       "example, the authors of Investigating the Reactivity of Single Atom Alloys Using Density Functional Theory found \n",
       "that the arrangement of the atoms at the surface of the alloy can affect its reactivity <span style=\"font-weight: bold\">(</span><span style=\"color: #008080; text-decoration-color: #008080; font-weight: bold\">1</span><span style=\"font-weight: bold\">)</span>.\n",
       "<span style=\"color: #008080; text-decoration-color: #008080; font-weight: bold\">5</span>. Thermodynamic properties: The thermodynamic properties of the single atom alloy, such as its energy gap and \n",
       "ionization energy, can also influence its reactivity. For example, John R. Kitchin et al.'s study on Alloy surface \n",
       "segregation in reactive environments via density functional theory and atomistic thermodyanamics found that the \n",
       "ionization energy of the atoms at the surface of the alloy can affect its reactivity <span style=\"font-weight: bold\">(</span><span style=\"color: #008080; text-decoration-color: #008080; font-weight: bold\">2</span><span style=\"font-weight: bold\">)</span>.\n",
       "\n",
       "In summary, the reactivity of a single atom alloy is determined by a combination of factors, including the surface \n",
       "composition, chemical potential, electronic structure, atomic arrangement, and thermodynamic properties. \n",
       "Understanding these factors is essential for controlling the reactivity of single atom alloys in various \n",
       "applications.\n",
       "</pre>\n"
      ],
      "text/plain": [
       "\n",
       "Based on the scientific literature provided, there are several factors that determine the reactivity of a single \n",
       "atom alloy. Here are some key findings:\n",
       "\n",
       "\u001b[1;36m1\u001b[0m. Surface composition: The composition of the surface of a single atom alloy can significantly affect its \n",
       "reactivity. For example, Hari Thirumalai and John R. Kitchin's study on Investigating the Reactivity of Single Atom\n",
       "Alloys Using Density Functional Theory found that the presence of certain atoms at the surface of the alloy can \n",
       "enhance or inhibit its reactivity \u001b[1m(\u001b[0m\u001b[1;36m1\u001b[0m\u001b[1m)\u001b[0m.\n",
       "\u001b[1;36m2\u001b[0m. Chemical potential: The chemical potential of the individual atoms in the alloy can also influence its \n",
       "reactivity. In their study on Alloy surface segregation in reactive environments via density functional theory and \n",
       "atomistic thermodyanamics, John R. Kitchin, Karsten Reuter, and Matthias Scheffler found that the chemical \n",
       "potential of the atoms at the surface of the alloy can affect its reactivity \u001b[1m(\u001b[0m\u001b[1;36m2\u001b[0m\u001b[1m)\u001b[0m.\n",
       "\u001b[1;36m3\u001b[0m. Electronic structure: The electronic structure of the single atom alloy can also play a role in determining its \n",
       "reactivity. For example, John R. Kitchin's PhDT thesis on Tuning the electronic and chemical properties of metals: \n",
       "Bimetallics and transition metal carbides found that the electronic structure of the bimetallic or transition metal\n",
       "carbide can affect its reactivity \u001b[1m(\u001b[0m\u001b[1;36m3\u001b[0m\u001b[1m)\u001b[0m.\n",
       "\u001b[1;36m4\u001b[0m. Atomic arrangement: The arrangement of the atoms in the single atom alloy can also impact its reactivity. For \n",
       "example, the authors of Investigating the Reactivity of Single Atom Alloys Using Density Functional Theory found \n",
       "that the arrangement of the atoms at the surface of the alloy can affect its reactivity \u001b[1m(\u001b[0m\u001b[1;36m1\u001b[0m\u001b[1m)\u001b[0m.\n",
       "\u001b[1;36m5\u001b[0m. Thermodynamic properties: The thermodynamic properties of the single atom alloy, such as its energy gap and \n",
       "ionization energy, can also influence its reactivity. For example, John R. Kitchin et al.'s study on Alloy surface \n",
       "segregation in reactive environments via density functional theory and atomistic thermodyanamics found that the \n",
       "ionization energy of the atoms at the surface of the alloy can affect its reactivity \u001b[1m(\u001b[0m\u001b[1;36m2\u001b[0m\u001b[1m)\u001b[0m.\n",
       "\n",
       "In summary, the reactivity of a single atom alloy is determined by a combination of factors, including the surface \n",
       "composition, chemical potential, electronic structure, atomic arrangement, and thermodynamic properties. \n",
       "Understanding these factors is essential for controlling the reactivity of single atom alloys in various \n",
       "applications.\n"
      ]
     },
     "metadata": {},
     "output_type": "display_data"
    },
    {
     "data": {
      "text/html": [
       "<pre style=\"white-space:pre;overflow-x:auto;line-height:normal;font-family:Menlo,'DejaVu Sans Mono',consolas,'Courier New',monospace\">\n",
       "It took  <span style=\"color: #008080; text-decoration-color: #008080; font-weight: bold\">20.8</span> sec to generate the response.\n",
       "\n",
       "</pre>\n"
      ],
      "text/plain": [
       "\n",
       "It took  \u001b[1;36m20.8\u001b[0m sec to generate the response.\n",
       "\n"
      ]
     },
     "metadata": {},
     "output_type": "display_data"
    },
    {
     "data": {
      "text/html": [
       "<pre style=\"white-space:pre;overflow-x:auto;line-height:normal;font-family:Menlo,'DejaVu Sans Mono',consolas,'Courier New',monospace\">The text was generated using these references:\n",
       "\n",
       "</pre>\n"
      ],
      "text/plain": [
       "The text was generated using these references:\n",
       "\n"
      ]
     },
     "metadata": {},
     "output_type": "display_data"
    },
    {
     "data": {
      "text/html": [
       "<pre style=\"white-space:pre;overflow-x:auto;line-height:normal;font-family:Menlo,'DejaVu Sans Mono',consolas,'Courier New',monospace\"> <span style=\"color: #008080; text-decoration-color: #008080; font-weight: bold\">1</span>. Investigating the Reactivity of Single Atom Alloys Using Density Functional Theory, Hari Thirumalai, John R. \n",
       "Kitchin, Topics in Catalysis <span style=\"font-weight: bold\">(</span><span style=\"color: #008080; text-decoration-color: #008080; font-weight: bold\">2018</span><span style=\"font-weight: bold\">)</span> <span style=\"color: #0000ff; text-decoration-color: #0000ff; text-decoration: underline\">https://doi.org/10.1007/s11244-018-0899-0</span>\n",
       "\n",
       "No abstract\n",
       "\n",
       "</pre>\n"
      ],
      "text/plain": [
       " \u001b[1;36m1\u001b[0m. Investigating the Reactivity of Single Atom Alloys Using Density Functional Theory, Hari Thirumalai, John R. \n",
       "Kitchin, Topics in Catalysis \u001b[1m(\u001b[0m\u001b[1;36m2018\u001b[0m\u001b[1m)\u001b[0m \u001b[4;94mhttps://doi.org/10.1007/s11244-018-0899-0\u001b[0m\n",
       "\n",
       "No abstract\n",
       "\n"
      ]
     },
     "metadata": {},
     "output_type": "display_data"
    },
    {
     "data": {
      "text/html": [
       "<pre style=\"white-space:pre;overflow-x:auto;line-height:normal;font-family:Menlo,'DejaVu Sans Mono',consolas,'Courier New',monospace\"> <span style=\"color: #008080; text-decoration-color: #008080; font-weight: bold\">2</span>. Alloy surface segregation in reactive environments via density functional theory and atomistic thermodyanamics,\n",
       "John R. Kitchin, Karsten Reuter, Matthias Scheffler, Bulletin of the American Physical Society <span style=\"font-weight: bold\">(</span><span style=\"color: #008080; text-decoration-color: #008080; font-weight: bold\">2005</span><span style=\"font-weight: bold\">)</span> \n",
       "<span style=\"color: #0000ff; text-decoration-color: #0000ff; text-decoration: underline\">https://openalex.org/W1931953664</span>\n",
       "\n",
       "No abstract\n",
       "\n",
       "</pre>\n"
      ],
      "text/plain": [
       " \u001b[1;36m2\u001b[0m. Alloy surface segregation in reactive environments via density functional theory and atomistic thermodyanamics,\n",
       "John R. Kitchin, Karsten Reuter, Matthias Scheffler, Bulletin of the American Physical Society \u001b[1m(\u001b[0m\u001b[1;36m2005\u001b[0m\u001b[1m)\u001b[0m \n",
       "\u001b[4;94mhttps://openalex.org/W1931953664\u001b[0m\n",
       "\n",
       "No abstract\n",
       "\n"
      ]
     },
     "metadata": {},
     "output_type": "display_data"
    },
    {
     "data": {
      "text/html": [
       "<pre style=\"white-space:pre;overflow-x:auto;line-height:normal;font-family:Menlo,'DejaVu Sans Mono',consolas,'Courier New',monospace\"> <span style=\"color: #008080; text-decoration-color: #008080; font-weight: bold\">3</span>. Tuning the electronic and chemical properties of metals: Bimetallics and transition metal carbides, John R. \n",
       "Kitchin, PhDT <span style=\"font-weight: bold\">(</span><span style=\"color: #008080; text-decoration-color: #008080; font-weight: bold\">2004</span><span style=\"font-weight: bold\">)</span> <span style=\"color: #0000ff; text-decoration-color: #0000ff; text-decoration: underline\">https://openalex.org/W3040748958</span>\n",
       "\n",
       "No abstract\n",
       "\n",
       "</pre>\n"
      ],
      "text/plain": [
       " \u001b[1;36m3\u001b[0m. Tuning the electronic and chemical properties of metals: Bimetallics and transition metal carbides, John R. \n",
       "Kitchin, PhDT \u001b[1m(\u001b[0m\u001b[1;36m2004\u001b[0m\u001b[1m)\u001b[0m \u001b[4;94mhttps://openalex.org/W3040748958\u001b[0m\n",
       "\n",
       "No abstract\n",
       "\n"
      ]
     },
     "metadata": {},
     "output_type": "display_data"
    }
   ],
   "source": [
    "%litdb gpt \"What factors determine the reactivity of a single atom alloy?\""
   ]
  },
  {
   "cell_type": "code",
   "execution_count": 16,
   "id": "f429576e-d3fe-4e55-9c49-0a0d2b8a4be4",
   "metadata": {},
   "outputs": [
    {
     "data": {
      "text/html": [
       "<pre style=\"white-space:pre;overflow-x:auto;line-height:normal;font-family:Menlo,'DejaVu Sans Mono',consolas,'Courier New',monospace\"><span style=\"color: #008080; text-decoration-color: #008080; font-weight: bold\">1</span>. <span style=\"color: #0000ff; text-decoration-color: #0000ff; text-decoration: underline\">https://doi.org/10.1039/b608782p</span>\n",
       " Density functional theory studies of alloys in heterogeneous catalysis, John R. Kitchin, Spencer D. Miller, David \n",
       "S. Sholl, Chemical modelling <span style=\"font-weight: bold\">(</span><span style=\"color: #008080; text-decoration-color: #008080; font-weight: bold\">2009</span><span style=\"font-weight: bold\">)</span> <span style=\"color: #0000ff; text-decoration-color: #0000ff; text-decoration: underline\">https://doi.org/10.1039/b608782p</span>\n",
       "\n",
       "Heterogeneous catalysis is used broadly today in industry. Catalysts crack crude oils into the fuels we use daily. \n",
       "They are used in catalytic converters to minimize dangerous gas emissions from internal combustion engines. Many \n",
       "chemicals are made in large quantities using heterogeneous catalysts. Et<span style=\"color: #808000; text-decoration-color: #808000\">...</span>\n",
       "\n",
       "</pre>\n"
      ],
      "text/plain": [
       "\u001b[1;36m1\u001b[0m. \u001b[4;94mhttps://doi.org/10.1039/b608782p\u001b[0m\n",
       " Density functional theory studies of alloys in heterogeneous catalysis, John R. Kitchin, Spencer D. Miller, David \n",
       "S. Sholl, Chemical modelling \u001b[1m(\u001b[0m\u001b[1;36m2009\u001b[0m\u001b[1m)\u001b[0m \u001b[4;94mhttps://doi.org/10.1039/b608782p\u001b[0m\n",
       "\n",
       "Heterogeneous catalysis is used broadly today in industry. Catalysts crack crude oils into the fuels we use daily. \n",
       "They are used in catalytic converters to minimize dangerous gas emissions from internal combustion engines. Many \n",
       "chemicals are made in large quantities using heterogeneous catalysts. Et\u001b[33m...\u001b[0m\n",
       "\n"
      ]
     },
     "metadata": {},
     "output_type": "display_data"
    },
    {
     "data": {
      "text/html": [
       "<pre style=\"white-space:pre;overflow-x:auto;line-height:normal;font-family:Menlo,'DejaVu Sans Mono',consolas,'Courier New',monospace\"><span style=\"color: #008080; text-decoration-color: #008080; font-weight: bold\">2</span>. <span style=\"color: #0000ff; text-decoration-color: #0000ff; text-decoration: underline\">https://openalex.org/W1931953664</span>\n",
       " Alloy surface segregation in reactive environments via density functional theory and atomistic thermodyanamics, \n",
       "John R. Kitchin, Karsten Reuter, Matthias Scheffler, Bulletin of the American Physical Society <span style=\"font-weight: bold\">(</span><span style=\"color: #008080; text-decoration-color: #008080; font-weight: bold\">2005</span><span style=\"font-weight: bold\">)</span> \n",
       "<span style=\"color: #0000ff; text-decoration-color: #0000ff; text-decoration: underline\">https://openalex.org/W1931953664</span>\n",
       "\n",
       "No abstract\n",
       "\n",
       "</pre>\n"
      ],
      "text/plain": [
       "\u001b[1;36m2\u001b[0m. \u001b[4;94mhttps://openalex.org/W1931953664\u001b[0m\n",
       " Alloy surface segregation in reactive environments via density functional theory and atomistic thermodyanamics, \n",
       "John R. Kitchin, Karsten Reuter, Matthias Scheffler, Bulletin of the American Physical Society \u001b[1m(\u001b[0m\u001b[1;36m2005\u001b[0m\u001b[1m)\u001b[0m \n",
       "\u001b[4;94mhttps://openalex.org/W1931953664\u001b[0m\n",
       "\n",
       "No abstract\n",
       "\n"
      ]
     },
     "metadata": {},
     "output_type": "display_data"
    },
    {
     "data": {
      "text/html": [
       "<pre style=\"white-space:pre;overflow-x:auto;line-height:normal;font-family:Menlo,'DejaVu Sans Mono',consolas,'Courier New',monospace\"><span style=\"color: #008080; text-decoration-color: #008080; font-weight: bold\">3</span>. <span style=\"color: #0000ff; text-decoration-color: #0000ff; text-decoration: underline\">https://doi.org/10.1016/j.cattod.2005.04.008</span>\n",
       " Trends in the chemical properties of early transition metal carbide surfaces: A density functional study, John R. \n",
       "Kitchin, Jens K. Nørskov, Mark A. Barteau, Jingguang G. Chen, Catalysis Today <span style=\"font-weight: bold\">(</span><span style=\"color: #008080; text-decoration-color: #008080; font-weight: bold\">2005</span><span style=\"font-weight: bold\">)</span> \n",
       "<span style=\"color: #0000ff; text-decoration-color: #0000ff; text-decoration: underline\">https://doi.org/10.1016/j.cattod.2005.04.008</span>\n",
       "\n",
       "No abstract\n",
       "\n",
       "</pre>\n"
      ],
      "text/plain": [
       "\u001b[1;36m3\u001b[0m. \u001b[4;94mhttps://doi.org/10.1016/j.cattod.2005.04.008\u001b[0m\n",
       " Trends in the chemical properties of early transition metal carbide surfaces: A density functional study, John R. \n",
       "Kitchin, Jens K. Nørskov, Mark A. Barteau, Jingguang G. Chen, Catalysis Today \u001b[1m(\u001b[0m\u001b[1;36m2005\u001b[0m\u001b[1m)\u001b[0m \n",
       "\u001b[4;94mhttps://doi.org/10.1016/j.cattod.2005.04.008\u001b[0m\n",
       "\n",
       "No abstract\n",
       "\n"
      ]
     },
     "metadata": {},
     "output_type": "display_data"
    }
   ],
   "source": [
    "%litdb similar https://doi.org/10.1007/s11244-018-0899-0"
   ]
  },
  {
   "cell_type": "code",
   "execution_count": 17,
   "id": "f9c7e4d4-a572-46ba-b921-d7f495df4d37",
   "metadata": {},
   "outputs": [
    {
     "data": {
      "text/html": [
       "<pre style=\"white-space:pre;overflow-x:auto;line-height:normal;font-family:Menlo,'DejaVu Sans Mono',consolas,'Courier New',monospace\"><span style=\"color: #008080; text-decoration-color: #008080; font-weight: bold\">0.226</span>: <span style=\"color: #0000ff; text-decoration-color: #0000ff; text-decoration: underline\">https://doi.org/10.1039/9781849734776-00083</span>\n",
       "</pre>\n"
      ],
      "text/plain": [
       "\u001b[1;36m0.226\u001b[0m: \u001b[4;94mhttps://doi.org/10.1039/9781849734776-00083\u001b[0m\n"
      ]
     },
     "metadata": {},
     "output_type": "display_data"
    },
    {
     "data": {
      "text/html": [
       "<pre style=\"white-space:pre;overflow-x:auto;line-height:normal;font-family:Menlo,'DejaVu Sans Mono',consolas,'Courier New',monospace\"><span style=\"color: #008080; text-decoration-color: #008080; font-weight: bold\">0.244</span>: <span style=\"color: #0000ff; text-decoration-color: #0000ff; text-decoration: underline\">https://doi.org/10.1002/chin.201301170</span>\n",
       "</pre>\n"
      ],
      "text/plain": [
       "\u001b[1;36m0.244\u001b[0m: \u001b[4;94mhttps://doi.org/10.1002/chin.201301170\u001b[0m\n"
      ]
     },
     "metadata": {},
     "output_type": "display_data"
    },
    {
     "data": {
      "text/html": [
       "<pre style=\"white-space:pre;overflow-x:auto;line-height:normal;font-family:Menlo,'DejaVu Sans Mono',consolas,'Courier New',monospace\"><span style=\"color: #008080; text-decoration-color: #008080; font-weight: bold\">0.262</span>: <span style=\"color: #0000ff; text-decoration-color: #0000ff; text-decoration: underline\">https://doi.org/10.1021/jp508805h</span>\n",
       "</pre>\n"
      ],
      "text/plain": [
       "\u001b[1;36m0.262\u001b[0m: \u001b[4;94mhttps://doi.org/10.1021/jp508805h\u001b[0m\n"
      ]
     },
     "metadata": {},
     "output_type": "display_data"
    },
    {
     "data": {
      "text/html": [
       "<pre style=\"white-space:pre;overflow-x:auto;line-height:normal;font-family:Menlo,'DejaVu Sans Mono',consolas,'Courier New',monospace\"><span style=\"color: #008080; text-decoration-color: #008080; font-weight: bold\">0.269</span>: <span style=\"color: #0000ff; text-decoration-color: #0000ff; text-decoration: underline\">https://doi.org/10.1063/1.3561287</span>\n",
       "</pre>\n"
      ],
      "text/plain": [
       "\u001b[1;36m0.269\u001b[0m: \u001b[4;94mhttps://doi.org/10.1063/1.3561287\u001b[0m\n"
      ]
     },
     "metadata": {},
     "output_type": "display_data"
    },
    {
     "data": {
      "text/html": [
       "<pre style=\"white-space:pre;overflow-x:auto;line-height:normal;font-family:Menlo,'DejaVu Sans Mono',consolas,'Courier New',monospace\"><span style=\"color: #008080; text-decoration-color: #008080; font-weight: bold\">0.271</span>: <span style=\"color: #0000ff; text-decoration-color: #0000ff; text-decoration: underline\">https://doi.org/10.1103/physrevb.82.045414</span>\n",
       "</pre>\n"
      ],
      "text/plain": [
       "\u001b[1;36m0.271\u001b[0m: \u001b[4;94mhttps://doi.org/10.1103/physrevb.82.045414\u001b[0m\n"
      ]
     },
     "metadata": {},
     "output_type": "display_data"
    },
    {
     "name": "stdin",
     "output_type": "stream",
     "text": [
      "Search for better matches? ([y]/n) n\n"
     ]
    },
    {
     "data": {
      "text/html": [
       "<pre style=\"white-space:pre;overflow-x:auto;line-height:normal;font-family:Menlo,'DejaVu Sans Mono',consolas,'Courier New',monospace\">\n",
       "</pre>\n"
      ],
      "text/plain": [
       "\n"
      ]
     },
     "metadata": {},
     "output_type": "display_data"
    },
    {
     "data": {
      "text/html": [
       "<pre style=\"white-space:pre;overflow-x:auto;line-height:normal;font-family:Menlo,'DejaVu Sans Mono',consolas,'Courier New',monospace\">\n",
       "</pre>\n"
      ],
      "text/plain": [
       "\n"
      ]
     },
     "metadata": {},
     "output_type": "display_data"
    },
    {
     "data": {
      "text/html": [
       "<pre style=\"white-space:pre;overflow-x:auto;line-height:normal;font-family:Menlo,'DejaVu Sans Mono',consolas,'Courier New',monospace\">\n",
       "</pre>\n"
      ],
      "text/plain": [
       "\n"
      ]
     },
     "metadata": {},
     "output_type": "display_data"
    },
    {
     "data": {
      "text/html": [
       "<pre style=\"white-space:pre;overflow-x:auto;line-height:normal;font-family:Menlo,'DejaVu Sans Mono',consolas,'Courier New',monospace\">\n",
       "</pre>\n"
      ],
      "text/plain": [
       "\n"
      ]
     },
     "metadata": {},
     "output_type": "display_data"
    },
    {
     "data": {
      "text/html": [
       "<pre style=\"white-space:pre;overflow-x:auto;line-height:normal;font-family:Menlo,'DejaVu Sans Mono',consolas,'Courier New',monospace\">\n",
       "</pre>\n"
      ],
      "text/plain": [
       "\n"
      ]
     },
     "metadata": {},
     "output_type": "display_data"
    },
    {
     "data": {
      "text/html": [
       "<table>\n",
       "<thead>\n",
       "<tr><th>name             </th><th style=\"text-align: right;\">  # papers</th><th style=\"text-align: right;\">  h-index</th><th>oaid                            </th><th>institution               </th></tr>\n",
       "</thead>\n",
       "<tbody>\n",
       "<tr><td>John R. Kitchin  </td><td style=\"text-align: right;\">         5</td><td style=\"text-align: right;\">       43</td><td>https://openalex.org/A5003442464</td><td>Carnegie Mellon University</td></tr>\n",
       "<tr><td>Zhongnan Xu      </td><td style=\"text-align: right;\">         1</td><td style=\"text-align: right;\">       17</td><td>https://openalex.org/A5088695316</td><td>Jinan University          </td></tr>\n",
       "<tr><td>Nilay İnoğlu     </td><td style=\"text-align: right;\">         2</td><td style=\"text-align: right;\">        9</td><td>https://openalex.org/A5021893887</td><td>Carnegie Mellon University</td></tr>\n",
       "<tr><td>Spencer D. Miller</td><td style=\"text-align: right;\">         3</td><td style=\"text-align: right;\">        6</td><td>https://openalex.org/A5045515862</td><td>Carnegie Mellon University</td></tr>\n",
       "<tr><td>Carmeline Dsilva </td><td style=\"text-align: right;\">         2</td><td style=\"text-align: right;\">        1</td><td>https://openalex.org/A5077095106</td><td>Carnegie Mellon University</td></tr>\n",
       "</tbody>\n",
       "</table>"
      ],
      "text/plain": [
       "<IPython.core.display.HTML object>"
      ]
     },
     "metadata": {},
     "output_type": "display_data"
    },
    {
     "data": {
      "text/html": [
       "<pre style=\"white-space:pre;overflow-x:auto;line-height:normal;font-family:Menlo,'DejaVu Sans Mono',consolas,'Courier New',monospace\"> <span style=\"color: #008080; text-decoration-color: #008080; font-weight: bold\">1</span>. Coverage dependent adsorption properties of atomic adsorbates on late transition metal surfaces, Spencer D. \n",
       "Miller, Carmeline Dsilva, John R. Kitchin, Catalysis <span style=\"font-weight: bold\">(</span><span style=\"color: #008080; text-decoration-color: #008080; font-weight: bold\">2012</span><span style=\"font-weight: bold\">)</span> <span style=\"color: #0000ff; text-decoration-color: #0000ff; text-decoration: underline\">https://doi.org/10.1039/9781849734776-00083</span>\n",
       "\n",
       "No abstract <span style=\"font-weight: bold\">(</span>source<span style=\"font-weight: bold\">)</span>\n",
       "\n",
       "\n",
       "</pre>\n"
      ],
      "text/plain": [
       " \u001b[1;36m1\u001b[0m. Coverage dependent adsorption properties of atomic adsorbates on late transition metal surfaces, Spencer D. \n",
       "Miller, Carmeline Dsilva, John R. Kitchin, Catalysis \u001b[1m(\u001b[0m\u001b[1;36m2012\u001b[0m\u001b[1m)\u001b[0m \u001b[4;94mhttps://doi.org/10.1039/9781849734776-00083\u001b[0m\n",
       "\n",
       "No abstract \u001b[1m(\u001b[0msource\u001b[1m)\u001b[0m\n",
       "\n",
       "\n"
      ]
     },
     "metadata": {},
     "output_type": "display_data"
    },
    {
     "data": {
      "text/html": [
       "<pre style=\"white-space:pre;overflow-x:auto;line-height:normal;font-family:Menlo,'DejaVu Sans Mono',consolas,'Courier New',monospace\"> <span style=\"color: #008080; text-decoration-color: #008080; font-weight: bold\">2</span>. ChemInform Abstract: Coverage Dependent Adsorption Properties of Atomic Adsorbates on Late Transition Metal \n",
       "Surfaces, Spencer D. Miller, Carmeline Dsilva, John R. Kitchin, ChemInform <span style=\"font-weight: bold\">(</span><span style=\"color: #008080; text-decoration-color: #008080; font-weight: bold\">2013</span><span style=\"font-weight: bold\">)</span> \n",
       "<span style=\"color: #0000ff; text-decoration-color: #0000ff; text-decoration: underline\">https://doi.org/10.1002/chin.201301170</span>\n",
       "\n",
       "Abstract Review: <span style=\"color: #008080; text-decoration-color: #008080; font-weight: bold\">124</span> refs. <span style=\"font-weight: bold\">(</span>source<span style=\"font-weight: bold\">)</span>\n",
       "\n",
       "\n",
       "</pre>\n"
      ],
      "text/plain": [
       " \u001b[1;36m2\u001b[0m. ChemInform Abstract: Coverage Dependent Adsorption Properties of Atomic Adsorbates on Late Transition Metal \n",
       "Surfaces, Spencer D. Miller, Carmeline Dsilva, John R. Kitchin, ChemInform \u001b[1m(\u001b[0m\u001b[1;36m2013\u001b[0m\u001b[1m)\u001b[0m \n",
       "\u001b[4;94mhttps://doi.org/10.1002/chin.201301170\u001b[0m\n",
       "\n",
       "Abstract Review: \u001b[1;36m124\u001b[0m refs. \u001b[1m(\u001b[0msource\u001b[1m)\u001b[0m\n",
       "\n",
       "\n"
      ]
     },
     "metadata": {},
     "output_type": "display_data"
    },
    {
     "data": {
      "text/html": [
       "<pre style=\"white-space:pre;overflow-x:auto;line-height:normal;font-family:Menlo,'DejaVu Sans Mono',consolas,'Courier New',monospace\"> <span style=\"color: #008080; text-decoration-color: #008080; font-weight: bold\">3</span>. Probing the Coverage Dependence of Site and Adsorbate Configurational Correlations on <span style=\"font-weight: bold\">(</span><span style=\"color: #008080; text-decoration-color: #008080; font-weight: bold\">111</span><span style=\"font-weight: bold\">)</span> Surfaces of Late \n",
       "Transition Metals, Zhongnan Xu, John R. Kitchin, The Journal of Physical Chemistry C <span style=\"font-weight: bold\">(</span><span style=\"color: #008080; text-decoration-color: #008080; font-weight: bold\">2014</span><span style=\"font-weight: bold\">)</span> \n",
       "<span style=\"color: #0000ff; text-decoration-color: #0000ff; text-decoration: underline\">https://doi.org/10.1021/jp508805h</span>\n",
       "\n",
       "Correlations between adsorption energies allow for the prediction of a large set of adsorption energies from a few \n",
       "quantum-chemical calculations, enabling quick evaluations of the catalytic activity of surfaces for multistep \n",
       "reactions. A critical question is whether these correlations—initially established at low coverage on geometrically\n",
       "similar surfaces—are useful at high coverage and in various geometric environments, which are the relevant \n",
       "industrial conditions of real catalysts. To answer this question, we use density functional theory to calculate \n",
       "almost <span style=\"color: #008080; text-decoration-color: #008080; font-weight: bold\">900</span> adsorption energies of several atomic adsorbates on late transition metal fcc <span style=\"font-weight: bold\">(</span><span style=\"color: #008080; text-decoration-color: #008080; font-weight: bold\">111</span><span style=\"font-weight: bold\">)</span> surfaces at a \n",
       "variety of coverages and configurations. We observe strict requirements of the geometric similarity between \n",
       "adsorption sites for the existence of correlations in adsorption energies. We also find that the introduction of \n",
       "higher coverages generally weakens and changes the correlations. We use our results to assess a simple model \n",
       "constructed from previously discovered scaling relationships and discuss their ramifications on catalyst discovery \n",
       "as well as strategies to incorporate this coverage dependence. <span style=\"font-weight: bold\">(</span>source<span style=\"font-weight: bold\">)</span>\n",
       "\n",
       "\n",
       "</pre>\n"
      ],
      "text/plain": [
       " \u001b[1;36m3\u001b[0m. Probing the Coverage Dependence of Site and Adsorbate Configurational Correlations on \u001b[1m(\u001b[0m\u001b[1;36m111\u001b[0m\u001b[1m)\u001b[0m Surfaces of Late \n",
       "Transition Metals, Zhongnan Xu, John R. Kitchin, The Journal of Physical Chemistry C \u001b[1m(\u001b[0m\u001b[1;36m2014\u001b[0m\u001b[1m)\u001b[0m \n",
       "\u001b[4;94mhttps://doi.org/10.1021/jp508805h\u001b[0m\n",
       "\n",
       "Correlations between adsorption energies allow for the prediction of a large set of adsorption energies from a few \n",
       "quantum-chemical calculations, enabling quick evaluations of the catalytic activity of surfaces for multistep \n",
       "reactions. A critical question is whether these correlations—initially established at low coverage on geometrically\n",
       "similar surfaces—are useful at high coverage and in various geometric environments, which are the relevant \n",
       "industrial conditions of real catalysts. To answer this question, we use density functional theory to calculate \n",
       "almost \u001b[1;36m900\u001b[0m adsorption energies of several atomic adsorbates on late transition metal fcc \u001b[1m(\u001b[0m\u001b[1;36m111\u001b[0m\u001b[1m)\u001b[0m surfaces at a \n",
       "variety of coverages and configurations. We observe strict requirements of the geometric similarity between \n",
       "adsorption sites for the existence of correlations in adsorption energies. We also find that the introduction of \n",
       "higher coverages generally weakens and changes the correlations. We use our results to assess a simple model \n",
       "constructed from previously discovered scaling relationships and discuss their ramifications on catalyst discovery \n",
       "as well as strategies to incorporate this coverage dependence. \u001b[1m(\u001b[0msource\u001b[1m)\u001b[0m\n",
       "\n",
       "\n"
      ]
     },
     "metadata": {},
     "output_type": "display_data"
    },
    {
     "data": {
      "text/html": [
       "<pre style=\"white-space:pre;overflow-x:auto;line-height:normal;font-family:Menlo,'DejaVu Sans Mono',consolas,'Courier New',monospace\"> <span style=\"color: #008080; text-decoration-color: #008080; font-weight: bold\">4</span>. Configurational correlations in the coverage dependent adsorption energies of oxygen atoms on late transition \n",
       "metal <span style=\"color: #800080; text-decoration-color: #800080; font-weight: bold\">fcc</span><span style=\"font-weight: bold\">(</span><span style=\"color: #008080; text-decoration-color: #008080; font-weight: bold\">111</span><span style=\"font-weight: bold\">)</span> surfaces, Spencer D. Miller, Nilay İnoğlu, John R. Kitchin, The Journal of Chemical Physics <span style=\"font-weight: bold\">(</span><span style=\"color: #008080; text-decoration-color: #008080; font-weight: bold\">2011</span><span style=\"font-weight: bold\">)</span> \n",
       "<span style=\"color: #0000ff; text-decoration-color: #0000ff; text-decoration: underline\">https://doi.org/10.1063/1.3561287</span>\n",
       "\n",
       "The coverage dependence of oxygen adsorption energies on the <span style=\"color: #800080; text-decoration-color: #800080; font-weight: bold\">fcc</span><span style=\"font-weight: bold\">(</span><span style=\"color: #008080; text-decoration-color: #008080; font-weight: bold\">111</span><span style=\"font-weight: bold\">)</span> surfaces of seven different transition metals\n",
       "<span style=\"font-weight: bold\">(</span>Rh, Ir, Pd, Pt, Cu, Au, and Ag<span style=\"font-weight: bold\">)</span> is demonstrated through density functional theory calculations on <span style=\"color: #008080; text-decoration-color: #008080; font-weight: bold\">20</span> \n",
       "configurations ranging from one to five adsorption sites and coverages up to <span style=\"color: #008080; text-decoration-color: #008080; font-weight: bold\">1</span> ML. Atom projected densities of \n",
       "states are used to demonstrate that the d-band mediated adsorption mechanism is responsible for the coverage \n",
       "dependence of the adsorption energies. This common bonding mechanism results in a linear correlation that relates \n",
       "the adsorption energies of each adsorbate configuration across different metal surfaces to each other. The slope of\n",
       "this correlation is shown to be related to the characteristics of the valence d-orbitals and band structure of the \n",
       "surface metal atoms. Additionally, it is shown that geometric similarity of the configurations is essential to \n",
       "observe the configurational correlations. <span style=\"font-weight: bold\">(</span>source<span style=\"font-weight: bold\">)</span>\n",
       "\n",
       "\n",
       "</pre>\n"
      ],
      "text/plain": [
       " \u001b[1;36m4\u001b[0m. Configurational correlations in the coverage dependent adsorption energies of oxygen atoms on late transition \n",
       "metal \u001b[1;35mfcc\u001b[0m\u001b[1m(\u001b[0m\u001b[1;36m111\u001b[0m\u001b[1m)\u001b[0m surfaces, Spencer D. Miller, Nilay İnoğlu, John R. Kitchin, The Journal of Chemical Physics \u001b[1m(\u001b[0m\u001b[1;36m2011\u001b[0m\u001b[1m)\u001b[0m \n",
       "\u001b[4;94mhttps://doi.org/10.1063/1.3561287\u001b[0m\n",
       "\n",
       "The coverage dependence of oxygen adsorption energies on the \u001b[1;35mfcc\u001b[0m\u001b[1m(\u001b[0m\u001b[1;36m111\u001b[0m\u001b[1m)\u001b[0m surfaces of seven different transition metals\n",
       "\u001b[1m(\u001b[0mRh, Ir, Pd, Pt, Cu, Au, and Ag\u001b[1m)\u001b[0m is demonstrated through density functional theory calculations on \u001b[1;36m20\u001b[0m \n",
       "configurations ranging from one to five adsorption sites and coverages up to \u001b[1;36m1\u001b[0m ML. Atom projected densities of \n",
       "states are used to demonstrate that the d-band mediated adsorption mechanism is responsible for the coverage \n",
       "dependence of the adsorption energies. This common bonding mechanism results in a linear correlation that relates \n",
       "the adsorption energies of each adsorbate configuration across different metal surfaces to each other. The slope of\n",
       "this correlation is shown to be related to the characteristics of the valence d-orbitals and band structure of the \n",
       "surface metal atoms. Additionally, it is shown that geometric similarity of the configurations is essential to \n",
       "observe the configurational correlations. \u001b[1m(\u001b[0msource\u001b[1m)\u001b[0m\n",
       "\n",
       "\n"
      ]
     },
     "metadata": {},
     "output_type": "display_data"
    },
    {
     "data": {
      "text/html": [
       "<pre style=\"white-space:pre;overflow-x:auto;line-height:normal;font-family:Menlo,'DejaVu Sans Mono',consolas,'Courier New',monospace\"> <span style=\"color: #008080; text-decoration-color: #008080; font-weight: bold\">5</span>. Simple model explaining and predicting coverage-dependent atomic adsorption energies on transition metal \n",
       "surfaces, Nilay İnoğlu, John R. Kitchin, Physical Review B <span style=\"font-weight: bold\">(</span><span style=\"color: #008080; text-decoration-color: #008080; font-weight: bold\">2010</span><span style=\"font-weight: bold\">)</span> <span style=\"color: #0000ff; text-decoration-color: #0000ff; text-decoration: underline\">https://doi.org/10.1103/physrevb.82.045414</span>\n",
       "\n",
       "The adsorption energies of simple atomic adsorbates are coverage dependent. We use density-functional theory to \n",
       "show that the coverage dependence is due to an adsorbate-induced modification of the surface $d$-band structure. We\n",
       "developed a simple model for predicting the $d$-band widths of clean and adsorbate-covered metallic surfaces using \n",
       "a tight-binding formalism. The new model can be used in conjunction with the $d$-band adsorption model to estimate \n",
       "adsorption energies as a function of coverage. <span style=\"font-weight: bold\">(</span>source<span style=\"font-weight: bold\">)</span>\n",
       "\n",
       "\n",
       "</pre>\n"
      ],
      "text/plain": [
       " \u001b[1;36m5\u001b[0m. Simple model explaining and predicting coverage-dependent atomic adsorption energies on transition metal \n",
       "surfaces, Nilay İnoğlu, John R. Kitchin, Physical Review B \u001b[1m(\u001b[0m\u001b[1;36m2010\u001b[0m\u001b[1m)\u001b[0m \u001b[4;94mhttps://doi.org/10.1103/physrevb.82.045414\u001b[0m\n",
       "\n",
       "The adsorption energies of simple atomic adsorbates are coverage dependent. We use density-functional theory to \n",
       "show that the coverage dependence is due to an adsorbate-induced modification of the surface $d$-band structure. We\n",
       "developed a simple model for predicting the $d$-band widths of clean and adsorbate-covered metallic surfaces using \n",
       "a tight-binding formalism. The new model can be used in conjunction with the $d$-band adsorption model to estimate \n",
       "adsorption energies as a function of coverage. \u001b[1m(\u001b[0msource\u001b[1m)\u001b[0m\n",
       "\n",
       "\n"
      ]
     },
     "metadata": {},
     "output_type": "display_data"
    }
   ],
   "source": [
    "%litdb suggest-reviewers \"coverage dependent adsorption energies on transition metals\""
   ]
  },
  {
   "cell_type": "code",
   "execution_count": 18,
   "id": "1d343877-b214-4416-a012-68708e7f66b4",
   "metadata": {},
   "outputs": [
    {
     "data": {
      "text/html": [
       "<pre style=\"white-space:pre;overflow-x:auto;line-height:normal;font-family:Menlo,'DejaVu Sans Mono',consolas,'Courier New',monospace\">Generalization of graph-based active learning relaxation strategies across materials, Machine Learning: Science and\n",
       "Technology\n",
       "</pre>\n"
      ],
      "text/plain": [
       "Generalization of graph-based active learning relaxation strategies across materials, Machine Learning: Science and\n",
       "Technology\n"
      ]
     },
     "metadata": {},
     "output_type": "display_data"
    },
    {
     "data": {
      "text/html": [
       "<pre style=\"white-space:pre;overflow-x:auto;line-height:normal;font-family:Menlo,'DejaVu Sans Mono',consolas,'Courier New',monospace\">Is open access: <span style=\"color: #00ff00; text-decoration-color: #00ff00; font-style: italic\">True</span>\n",
       "</pre>\n"
      ],
      "text/plain": [
       "Is open access: \u001b[3;92mTrue\u001b[0m\n"
      ]
     },
     "metadata": {},
     "output_type": "display_data"
    },
    {
     "data": {
      "text/html": [
       "<pre style=\"white-space:pre;overflow-x:auto;line-height:normal;font-family:Menlo,'DejaVu Sans Mono',consolas,'Courier New',monospace\"><span style=\"color: #0000ff; text-decoration-color: #0000ff; text-decoration: underline\">https://iopscience.iop.org/article/10.1088/2632-2153/ad37f0/pdf</span>\n",
       "</pre>\n"
      ],
      "text/plain": [
       "\u001b[4;94mhttps://iopscience.iop.org/article/10.1088/2632-2153/ad37f0/pdf\u001b[0m\n"
      ]
     },
     "metadata": {},
     "output_type": "display_data"
    },
    {
     "data": {
      "text/html": [
       "<pre style=\"white-space:pre;overflow-x:auto;line-height:normal;font-family:Menlo,'DejaVu Sans Mono',consolas,'Courier New',monospace\"><span style=\"color: #0000ff; text-decoration-color: #0000ff; text-decoration: underline\">http://arxiv.org/pdf/2311.01987</span>\n",
       "</pre>\n"
      ],
      "text/plain": [
       "\u001b[4;94mhttp://arxiv.org/pdf/2311.01987\u001b[0m\n"
      ]
     },
     "metadata": {},
     "output_type": "display_data"
    }
   ],
   "source": [
    "%litdb unpaywall https://doi.org/10.1088/2632-2153/ad37f0"
   ]
  },
  {
   "cell_type": "code",
   "execution_count": 19,
   "id": "a6cbb03f-c9bc-4d16-8950-19f123e5bf22",
   "metadata": {},
   "outputs": [
    {
     "data": {
      "text/html": [
       "<pre style=\"white-space:pre;overflow-x:auto;line-height:normal;font-family:Menlo,'DejaVu Sans Mono',consolas,'Courier New',monospace\">Thermal Transport and Thermal Diffusivity by Laser Flash Technique: A Review, R. Sundar, C. Sudha, International \n",
       "Journal of Thermophysics <span style=\"font-weight: bold\">(</span><span style=\"color: #008080; text-decoration-color: #008080; font-weight: bold\">2024</span><span style=\"font-weight: bold\">)</span> <span style=\"color: #0000ff; text-decoration-color: #0000ff; text-decoration: underline\">https://doi.org/10.1007/s10765-024-03479-0</span>\n",
       "\n",
       "Abstract Thermophysical properties encompassing specific heat, thermal conductivity, thermal diffusivity and \n",
       "thermal expansion and their temperature dependence is most sought after during selection of materials for various \n",
       "engineering applications. In this review a broad perspective on the thermal transport in metals and alloys, thermal\n",
       "energy carriers and factors affecting their mean free path is presented. Following the discussion on thermal \n",
       "transport, various techniques available for measuring thermal diffusivity, their principle of detection, merits and\n",
       "demerits are deliberated with an emphasis on laser flash analyzer. Theory of laser flash analysis, possible causes \n",
       "for deviation in the theoretical assumptions that affect the accuracy of measured diffusivity and ways and means of\n",
       "improving the same is dwelt upon. Finally, few typical case studies on thermal diffusivity measurements covering \n",
       "broad spectrum of materials differing in chemistry, degree of deformation, and heat treatment conditions are \n",
       "presented to demonstrate the sensitivity of thermal diffusivity to microstructural changes in materials.\n",
       "</pre>\n"
      ],
      "text/plain": [
       "Thermal Transport and Thermal Diffusivity by Laser Flash Technique: A Review, R. Sundar, C. Sudha, International \n",
       "Journal of Thermophysics \u001b[1m(\u001b[0m\u001b[1;36m2024\u001b[0m\u001b[1m)\u001b[0m \u001b[4;94mhttps://doi.org/10.1007/s10765-024-03479-0\u001b[0m\n",
       "\n",
       "Abstract Thermophysical properties encompassing specific heat, thermal conductivity, thermal diffusivity and \n",
       "thermal expansion and their temperature dependence is most sought after during selection of materials for various \n",
       "engineering applications. In this review a broad perspective on the thermal transport in metals and alloys, thermal\n",
       "energy carriers and factors affecting their mean free path is presented. Following the discussion on thermal \n",
       "transport, various techniques available for measuring thermal diffusivity, their principle of detection, merits and\n",
       "demerits are deliberated with an emphasis on laser flash analyzer. Theory of laser flash analysis, possible causes \n",
       "for deviation in the theoretical assumptions that affect the accuracy of measured diffusivity and ways and means of\n",
       "improving the same is dwelt upon. Finally, few typical case studies on thermal diffusivity measurements covering \n",
       "broad spectrum of materials differing in chemistry, degree of deformation, and heat treatment conditions are \n",
       "presented to demonstrate the sensitivity of thermal diffusivity to microstructural changes in materials.\n"
      ]
     },
     "metadata": {},
     "output_type": "display_data"
    },
    {
     "name": "stdout",
     "output_type": "stream",
     "text": [
      "\n"
     ]
    },
    {
     "data": {
      "text/html": [
       "<pre style=\"white-space:pre;overflow-x:auto;line-height:normal;font-family:Menlo,'DejaVu Sans Mono',consolas,'Courier New',monospace\">Ferrotoroidicity in Cs2FeCl5·D2O, J. Alberto Rodríguez Velamazán, Óscar Fabelo, N. Qureshi, Scientific Reports \n",
       "<span style=\"font-weight: bold\">(</span><span style=\"color: #008080; text-decoration-color: #008080; font-weight: bold\">2024</span><span style=\"font-weight: bold\">)</span> <span style=\"color: #0000ff; text-decoration-color: #0000ff; text-decoration: underline\">https://doi.org/10.1038/s41598-024-82505-5</span>\n",
       "\n",
       "No abstract\n",
       "</pre>\n"
      ],
      "text/plain": [
       "Ferrotoroidicity in Cs2FeCl5·D2O, J. Alberto Rodríguez Velamazán, Óscar Fabelo, N. Qureshi, Scientific Reports \n",
       "\u001b[1m(\u001b[0m\u001b[1;36m2024\u001b[0m\u001b[1m)\u001b[0m \u001b[4;94mhttps://doi.org/10.1038/s41598-024-82505-5\u001b[0m\n",
       "\n",
       "No abstract\n"
      ]
     },
     "metadata": {},
     "output_type": "display_data"
    },
    {
     "name": "stdout",
     "output_type": "stream",
     "text": [
      "\n"
     ]
    },
    {
     "data": {
      "text/html": [
       "<pre style=\"white-space:pre;overflow-x:auto;line-height:normal;font-family:Menlo,'DejaVu Sans Mono',consolas,'Courier New',monospace\">Dual-fluorescent starch biopolymer films containing <span style=\"color: #008080; text-decoration-color: #008080; font-weight: bold\">5</span>-<span style=\"font-weight: bold\">(</span><span style=\"color: #008080; text-decoration-color: #008080; font-weight: bold\">4</span>-nitrophenyl<span style=\"font-weight: bold\">)</span><span style=\"color: #008080; text-decoration-color: #008080; font-weight: bold\">-1</span>,<span style=\"color: #008080; text-decoration-color: #008080; font-weight: bold\">3</span>,<span style=\"color: #008080; text-decoration-color: #008080; font-weight: bold\">4</span>-thiadiazol-<span style=\"color: #008080; text-decoration-color: #008080; font-weight: bold\">2</span>-amine powder as a \n",
       "functional nanofiller, Anita Kwaśniewska, Katarzyna Orzechowska, Klaudia Rząd, Luca Ceresa, Małgorzata Figiel, Anna\n",
       "A. Hoser, Maciej J. Nowak, Dariusz Karcz, Bożena Gładyszewska, G. Gładyszewski, Monika Srebro‐Hooper, Arkadiusz \n",
       "Matwijczuk, Scientific Reports <span style=\"font-weight: bold\">(</span><span style=\"color: #008080; text-decoration-color: #008080; font-weight: bold\">2024</span><span style=\"font-weight: bold\">)</span> <span style=\"color: #0000ff; text-decoration-color: #0000ff; text-decoration: underline\">https://doi.org/10.1038/s41598-024-82853-2</span>\n",
       "\n",
       "Physical and photophysical properties of starch-based biopolymer films containing \n",
       "<span style=\"color: #008080; text-decoration-color: #008080; font-weight: bold\">5</span>-<span style=\"font-weight: bold\">(</span><span style=\"color: #008080; text-decoration-color: #008080; font-weight: bold\">4</span>-nitrophenyl<span style=\"font-weight: bold\">)</span><span style=\"color: #008080; text-decoration-color: #008080; font-weight: bold\">-1</span>,<span style=\"color: #008080; text-decoration-color: #008080; font-weight: bold\">3</span>,<span style=\"color: #008080; text-decoration-color: #008080; font-weight: bold\">4</span>-thiadiazol-<span style=\"color: #008080; text-decoration-color: #008080; font-weight: bold\">2</span>-amine <span style=\"font-weight: bold\">(</span>NTA<span style=\"font-weight: bold\">)</span> powder as a nanofiller were examined using atomic force microscopy\n",
       "<span style=\"font-weight: bold\">(</span>AFM<span style=\"font-weight: bold\">)</span>, Fourier-transform infrared spectroscopy <span style=\"font-weight: bold\">(</span>FTIR<span style=\"font-weight: bold\">)</span>, stationary UV-Vis and fluorescence spectroscopy as well as \n",
       "resonance light scattering <span style=\"font-weight: bold\">(</span>RLS<span style=\"font-weight: bold\">)</span> and time-resolved measurements, and where possible, analyzed with reference to \n",
       "pristine NTA solutions. AFM studies revealed that the addition of NTA into the starch biopolymer did not \n",
       "significantly affect surface roughness, with all examined films displaying similar Sq values ranging from <span style=\"color: #008080; text-decoration-color: #008080; font-weight: bold\">70.7</span> nm \n",
       "to <span style=\"color: #008080; text-decoration-color: #008080; font-weight: bold\">79.7</span> nm. Similarly, Young's modulus measurements showed no significant changes after incorporating the \n",
       "<span style=\"color: #008080; text-decoration-color: #008080; font-weight: bold\">1</span>,<span style=\"color: #008080; text-decoration-color: #008080; font-weight: bold\">3</span>,<span style=\"color: #008080; text-decoration-color: #008080; font-weight: bold\">4</span>-thiadiazole. Adhesion force and water contact angle assessments demonstrated that the films maintained high \n",
       "hydrophilicity <span style=\"font-weight: bold\">(</span>water wetting<span style=\"font-weight: bold\">)</span> across all examined films. Color analysis corroborated the anticipated trend, \n",
       "showing that increasing additive content resulted in decreased lightness and increased yellowness. Interestingly, \n",
       "however, while in polar isopropanol solvent at low concentration, NTA shows a typical single-band emission, \n",
       "centered at <span style=\"color: #008080; text-decoration-color: #008080; font-weight: bold\">410</span> nm and a slight enhancement of the band on the long-wavelength side around <span style=\"color: #008080; text-decoration-color: #008080; font-weight: bold\">530</span> nm, its \n",
       "incorporation into the biopolymer matrices results in the appearance of dual fluorescence signal with maxima at <span style=\"color: #008080; text-decoration-color: #008080; font-weight: bold\">430</span>\n",
       "and <span style=\"color: #008080; text-decoration-color: #008080; font-weight: bold\">530</span> nm. Concentration-dependence emission experiments, demonstrating that with even a slight increase of the \n",
       "amount of NTA in solution, an additional, weak long-wavelength emission band emerged within the spectral range \n",
       "corresponding to the intensive band in the biopolymer film, along with results of the performed quantum-chemical \n",
       "studies, including both the monomeric and aggregated <span style=\"font-weight: bold\">(</span>dimer and trimer<span style=\"font-weight: bold\">)</span> models, conclusively unveil that the dual \n",
       "fluorescence observed in starch/NTA films is due to molecular aggregation effects resulting in aggregation-induced \n",
       "emission. This study underscores the potential of NTA as an additive in biobased polymer films, furnishing them \n",
       "with new photophysical features without substantially altering their surface properties and thus enabling their \n",
       "extended applications.\n",
       "</pre>\n"
      ],
      "text/plain": [
       "Dual-fluorescent starch biopolymer films containing \u001b[1;36m5\u001b[0m-\u001b[1m(\u001b[0m\u001b[1;36m4\u001b[0m-nitrophenyl\u001b[1m)\u001b[0m\u001b[1;36m-1\u001b[0m,\u001b[1;36m3\u001b[0m,\u001b[1;36m4\u001b[0m-thiadiazol-\u001b[1;36m2\u001b[0m-amine powder as a \n",
       "functional nanofiller, Anita Kwaśniewska, Katarzyna Orzechowska, Klaudia Rząd, Luca Ceresa, Małgorzata Figiel, Anna\n",
       "A. Hoser, Maciej J. Nowak, Dariusz Karcz, Bożena Gładyszewska, G. Gładyszewski, Monika Srebro‐Hooper, Arkadiusz \n",
       "Matwijczuk, Scientific Reports \u001b[1m(\u001b[0m\u001b[1;36m2024\u001b[0m\u001b[1m)\u001b[0m \u001b[4;94mhttps://doi.org/10.1038/s41598-024-82853-2\u001b[0m\n",
       "\n",
       "Physical and photophysical properties of starch-based biopolymer films containing \n",
       "\u001b[1;36m5\u001b[0m-\u001b[1m(\u001b[0m\u001b[1;36m4\u001b[0m-nitrophenyl\u001b[1m)\u001b[0m\u001b[1;36m-1\u001b[0m,\u001b[1;36m3\u001b[0m,\u001b[1;36m4\u001b[0m-thiadiazol-\u001b[1;36m2\u001b[0m-amine \u001b[1m(\u001b[0mNTA\u001b[1m)\u001b[0m powder as a nanofiller were examined using atomic force microscopy\n",
       "\u001b[1m(\u001b[0mAFM\u001b[1m)\u001b[0m, Fourier-transform infrared spectroscopy \u001b[1m(\u001b[0mFTIR\u001b[1m)\u001b[0m, stationary UV-Vis and fluorescence spectroscopy as well as \n",
       "resonance light scattering \u001b[1m(\u001b[0mRLS\u001b[1m)\u001b[0m and time-resolved measurements, and where possible, analyzed with reference to \n",
       "pristine NTA solutions. AFM studies revealed that the addition of NTA into the starch biopolymer did not \n",
       "significantly affect surface roughness, with all examined films displaying similar Sq values ranging from \u001b[1;36m70.7\u001b[0m nm \n",
       "to \u001b[1;36m79.7\u001b[0m nm. Similarly, Young's modulus measurements showed no significant changes after incorporating the \n",
       "\u001b[1;36m1\u001b[0m,\u001b[1;36m3\u001b[0m,\u001b[1;36m4\u001b[0m-thiadiazole. Adhesion force and water contact angle assessments demonstrated that the films maintained high \n",
       "hydrophilicity \u001b[1m(\u001b[0mwater wetting\u001b[1m)\u001b[0m across all examined films. Color analysis corroborated the anticipated trend, \n",
       "showing that increasing additive content resulted in decreased lightness and increased yellowness. Interestingly, \n",
       "however, while in polar isopropanol solvent at low concentration, NTA shows a typical single-band emission, \n",
       "centered at \u001b[1;36m410\u001b[0m nm and a slight enhancement of the band on the long-wavelength side around \u001b[1;36m530\u001b[0m nm, its \n",
       "incorporation into the biopolymer matrices results in the appearance of dual fluorescence signal with maxima at \u001b[1;36m430\u001b[0m\n",
       "and \u001b[1;36m530\u001b[0m nm. Concentration-dependence emission experiments, demonstrating that with even a slight increase of the \n",
       "amount of NTA in solution, an additional, weak long-wavelength emission band emerged within the spectral range \n",
       "corresponding to the intensive band in the biopolymer film, along with results of the performed quantum-chemical \n",
       "studies, including both the monomeric and aggregated \u001b[1m(\u001b[0mdimer and trimer\u001b[1m)\u001b[0m models, conclusively unveil that the dual \n",
       "fluorescence observed in starch/NTA films is due to molecular aggregation effects resulting in aggregation-induced \n",
       "emission. This study underscores the potential of NTA as an additive in biobased polymer films, furnishing them \n",
       "with new photophysical features without substantially altering their surface properties and thus enabling their \n",
       "extended applications.\n"
      ]
     },
     "metadata": {},
     "output_type": "display_data"
    },
    {
     "name": "stdout",
     "output_type": "stream",
     "text": [
      "\n"
     ]
    },
    {
     "data": {
      "text/html": [
       "<pre style=\"white-space:pre;overflow-x:auto;line-height:normal;font-family:Menlo,'DejaVu Sans Mono',consolas,'Courier New',monospace\">Neutral 4π-electron tetrasilacyclobutadiene contains unusual features of a Möbius-type aromatic ring, Mohd Nazish, \n",
       "Tim Patten, Yuqing Huang, Saroj Kumar Kushvaha, Lili Zhao, Anna Krawczuk, Gernot Frenking, Herbert W. Roesky, \n",
       "Communications Chemistry <span style=\"font-weight: bold\">(</span><span style=\"color: #008080; text-decoration-color: #008080; font-weight: bold\">2024</span><span style=\"font-weight: bold\">)</span> <span style=\"color: #0000ff; text-decoration-color: #0000ff; text-decoration: underline\">https://doi.org/10.1038/s42004-024-01396-9</span>\n",
       "\n",
       "The search for stable compounds containing an antiaromatic cyclic 4π system is a challenge for inventive chemists \n",
       "that can look back on a long history. Here we report the isolation and characterization of the novel 4π-electron \n",
       "tetrasilacyclobutadiene, an analogue of a 4π neutral cyclobutadiene that exhibits surprising features of a \n",
       "Möbius-type aromatic ring. Reduction of RSiCl3 <span style=\"font-weight: bold\">(</span>R = <span style=\"font-weight: bold\">(</span>iPr<span style=\"font-weight: bold\">)</span>2PC6H4<span style=\"font-weight: bold\">)</span> with KC8 in the presence of cycloalkyl \n",
       "amino-carbene <span style=\"font-weight: bold\">(</span>cAAC<span style=\"font-weight: bold\">)</span> led to the formation of corresponding silylene <span style=\"color: #008080; text-decoration-color: #008080; font-weight: bold\">1</span>. Compound <span style=\"color: #008080; text-decoration-color: #008080; font-weight: bold\">1</span> shows further reactivity when \n",
       "treated with RSiCl3 under reducing conditions resulting in the formation of unsymmetrical bis-silylene <span style=\"color: #008080; text-decoration-color: #008080; font-weight: bold\">2</span>, which was\n",
       "isolated as a dark red crystalline solid. Compound <span style=\"color: #008080; text-decoration-color: #008080; font-weight: bold\">3</span> was obtained when chlorosilylene was reduced with potassium \n",
       "graphite in the presence of <span style=\"color: #008080; text-decoration-color: #008080; font-weight: bold\">2</span>. Although <span style=\"color: #008080; text-decoration-color: #008080; font-weight: bold\">3</span> is, according to Hückel's rule an antiaromatic system it possesses \n",
       "significant aromatic character due to the unusual delocalization of the HOMO-<span style=\"color: #008080; text-decoration-color: #008080; font-weight: bold\">1</span> and the loss of degeneracy of the \n",
       "higher-lying π MOs. The aromatic character of <span style=\"color: #008080; text-decoration-color: #008080; font-weight: bold\">3</span> is indicated by the structural stability of the compound by the \n",
       "very similar Si-Si bond lengths and by the NICS values. There is an unusual π conjugation between the <span style=\"color: #008080; text-decoration-color: #008080; font-weight: bold\">4</span> π electrons\n",
       "in the nearly square-planar Si4 ring where the delocalization of the HOMO-<span style=\"color: #008080; text-decoration-color: #008080; font-weight: bold\">1</span> occurs at two opposite sides of the \n",
       "ring. The reversal of the π conjugation resembles the twisting of the π conjugation in Möbius aromatic systems and \n",
       "it contributes to the stability of the compound. Introducing main group elements into neutral and charged \n",
       "cyclobutadienes enables the fine-tuning of their stability and electronic structures by disrupting their aromatic \n",
       "and antiaromatic character. Here, the authors report the isolation and characterization of a 4π-electron \n",
       "tetrasilacyclobutadiene, an analogue of a 4π neutral cyclobutadiene that exhibits features of a Möbius-type \n",
       "aromatic ring.\n",
       "</pre>\n"
      ],
      "text/plain": [
       "Neutral 4π-electron tetrasilacyclobutadiene contains unusual features of a Möbius-type aromatic ring, Mohd Nazish, \n",
       "Tim Patten, Yuqing Huang, Saroj Kumar Kushvaha, Lili Zhao, Anna Krawczuk, Gernot Frenking, Herbert W. Roesky, \n",
       "Communications Chemistry \u001b[1m(\u001b[0m\u001b[1;36m2024\u001b[0m\u001b[1m)\u001b[0m \u001b[4;94mhttps://doi.org/10.1038/s42004-024-01396-9\u001b[0m\n",
       "\n",
       "The search for stable compounds containing an antiaromatic cyclic 4π system is a challenge for inventive chemists \n",
       "that can look back on a long history. Here we report the isolation and characterization of the novel 4π-electron \n",
       "tetrasilacyclobutadiene, an analogue of a 4π neutral cyclobutadiene that exhibits surprising features of a \n",
       "Möbius-type aromatic ring. Reduction of RSiCl3 \u001b[1m(\u001b[0mR = \u001b[1m(\u001b[0miPr\u001b[1m)\u001b[0m2PC6H4\u001b[1m)\u001b[0m with KC8 in the presence of cycloalkyl \n",
       "amino-carbene \u001b[1m(\u001b[0mcAAC\u001b[1m)\u001b[0m led to the formation of corresponding silylene \u001b[1;36m1\u001b[0m. Compound \u001b[1;36m1\u001b[0m shows further reactivity when \n",
       "treated with RSiCl3 under reducing conditions resulting in the formation of unsymmetrical bis-silylene \u001b[1;36m2\u001b[0m, which was\n",
       "isolated as a dark red crystalline solid. Compound \u001b[1;36m3\u001b[0m was obtained when chlorosilylene was reduced with potassium \n",
       "graphite in the presence of \u001b[1;36m2\u001b[0m. Although \u001b[1;36m3\u001b[0m is, according to Hückel's rule an antiaromatic system it possesses \n",
       "significant aromatic character due to the unusual delocalization of the HOMO-\u001b[1;36m1\u001b[0m and the loss of degeneracy of the \n",
       "higher-lying π MOs. The aromatic character of \u001b[1;36m3\u001b[0m is indicated by the structural stability of the compound by the \n",
       "very similar Si-Si bond lengths and by the NICS values. There is an unusual π conjugation between the \u001b[1;36m4\u001b[0m π electrons\n",
       "in the nearly square-planar Si4 ring where the delocalization of the HOMO-\u001b[1;36m1\u001b[0m occurs at two opposite sides of the \n",
       "ring. The reversal of the π conjugation resembles the twisting of the π conjugation in Möbius aromatic systems and \n",
       "it contributes to the stability of the compound. Introducing main group elements into neutral and charged \n",
       "cyclobutadienes enables the fine-tuning of their stability and electronic structures by disrupting their aromatic \n",
       "and antiaromatic character. Here, the authors report the isolation and characterization of a 4π-electron \n",
       "tetrasilacyclobutadiene, an analogue of a 4π neutral cyclobutadiene that exhibits features of a Möbius-type \n",
       "aromatic ring.\n"
      ]
     },
     "metadata": {},
     "output_type": "display_data"
    },
    {
     "name": "stdout",
     "output_type": "stream",
     "text": [
      "\n"
     ]
    },
    {
     "data": {
      "text/html": [
       "<pre style=\"white-space:pre;overflow-x:auto;line-height:normal;font-family:Menlo,'DejaVu Sans Mono',consolas,'Courier New',monospace\">Non-catalytic glycerol dehydrogenation to dihydroxyacetone using needle-in-tube dielectric barrier discharge \n",
       "plasma, Grittima Kongprawes, Doonyapong Wongsawaeng, Peter Hosemann, Kanokwan Ngaosuwan, Worapon Kiatkittipong, \n",
       "Suttichai Assabumrungrat, Scientific Reports <span style=\"font-weight: bold\">(</span><span style=\"color: #008080; text-decoration-color: #008080; font-weight: bold\">2024</span><span style=\"font-weight: bold\">)</span> <span style=\"color: #0000ff; text-decoration-color: #0000ff; text-decoration: underline\">https://doi.org/10.1038/s41598-024-82691-2</span>\n",
       "\n",
       "Glycerol, a by-product of biodiesel production, could be converted into various value-added products. This work \n",
       "focuses on its dehydrogenation to dihydroxyacetone <span style=\"font-weight: bold\">(</span>DHA<span style=\"font-weight: bold\">)</span>, which is mainly used in the cosmetics industry. While \n",
       "several methods have been employed for DHA production, some necessitate catalysts and involve harsh reaction \n",
       "conditions as well as long reaction times. A needle-in-tube type dielectric barrier discharge <span style=\"font-weight: bold\">(</span>DBD<span style=\"font-weight: bold\">)</span> plasma \n",
       "technique for catalyst-free and environmentally-friendly glycerol conversion into DHA via dehydrogenation process \n",
       "was investigated using <span style=\"color: #008080; text-decoration-color: #008080; font-weight: bold\">0.1</span> M glycerol dissolved in deionized <span style=\"font-weight: bold\">(</span>DI<span style=\"font-weight: bold\">)</span> water at ambient temperature and pressure. The \n",
       "optimal condition was <span style=\"color: #008080; text-decoration-color: #008080; font-weight: bold\">60</span> W input power, <span style=\"color: #008080; text-decoration-color: #008080; font-weight: bold\">5</span> mm gap distance between the end of the needle and the liquid surface, and\n",
       "<span style=\"color: #008080; text-decoration-color: #008080; font-weight: bold\">0.5</span> L/min He flow rate. The highest DHA yield of <span style=\"color: #008080; text-decoration-color: #008080; font-weight: bold\">29.3</span>% was obtained at <span style=\"color: #008080; text-decoration-color: #008080; font-weight: bold\">3</span> h with a DHA selectivity of <span style=\"color: #008080; text-decoration-color: #008080; font-weight: bold\">51.6</span>% and \n",
       "glycerol conversion of <span style=\"color: #008080; text-decoration-color: #008080; font-weight: bold\">56.9</span>%. Although the system allowed over <span style=\"color: #008080; text-decoration-color: #008080; font-weight: bold\">80</span>% of glycerol to transform after <span style=\"color: #008080; text-decoration-color: #008080; font-weight: bold\">5</span> h, the DHA \n",
       "yield decreased after <span style=\"color: #008080; text-decoration-color: #008080; font-weight: bold\">3</span> h because the DHA product could further react with the reactive species in the plasma. The \n",
       "catalyst-free DBD plasma technique offers a simple and environmentally conscious method for DHA production via the \n",
       "dehydrogenation of glycerol.\n",
       "</pre>\n"
      ],
      "text/plain": [
       "Non-catalytic glycerol dehydrogenation to dihydroxyacetone using needle-in-tube dielectric barrier discharge \n",
       "plasma, Grittima Kongprawes, Doonyapong Wongsawaeng, Peter Hosemann, Kanokwan Ngaosuwan, Worapon Kiatkittipong, \n",
       "Suttichai Assabumrungrat, Scientific Reports \u001b[1m(\u001b[0m\u001b[1;36m2024\u001b[0m\u001b[1m)\u001b[0m \u001b[4;94mhttps://doi.org/10.1038/s41598-024-82691-2\u001b[0m\n",
       "\n",
       "Glycerol, a by-product of biodiesel production, could be converted into various value-added products. This work \n",
       "focuses on its dehydrogenation to dihydroxyacetone \u001b[1m(\u001b[0mDHA\u001b[1m)\u001b[0m, which is mainly used in the cosmetics industry. While \n",
       "several methods have been employed for DHA production, some necessitate catalysts and involve harsh reaction \n",
       "conditions as well as long reaction times. A needle-in-tube type dielectric barrier discharge \u001b[1m(\u001b[0mDBD\u001b[1m)\u001b[0m plasma \n",
       "technique for catalyst-free and environmentally-friendly glycerol conversion into DHA via dehydrogenation process \n",
       "was investigated using \u001b[1;36m0.1\u001b[0m M glycerol dissolved in deionized \u001b[1m(\u001b[0mDI\u001b[1m)\u001b[0m water at ambient temperature and pressure. The \n",
       "optimal condition was \u001b[1;36m60\u001b[0m W input power, \u001b[1;36m5\u001b[0m mm gap distance between the end of the needle and the liquid surface, and\n",
       "\u001b[1;36m0.5\u001b[0m L/min He flow rate. The highest DHA yield of \u001b[1;36m29.3\u001b[0m% was obtained at \u001b[1;36m3\u001b[0m h with a DHA selectivity of \u001b[1;36m51.6\u001b[0m% and \n",
       "glycerol conversion of \u001b[1;36m56.9\u001b[0m%. Although the system allowed over \u001b[1;36m80\u001b[0m% of glycerol to transform after \u001b[1;36m5\u001b[0m h, the DHA \n",
       "yield decreased after \u001b[1;36m3\u001b[0m h because the DHA product could further react with the reactive species in the plasma. The \n",
       "catalyst-free DBD plasma technique offers a simple and environmentally conscious method for DHA production via the \n",
       "dehydrogenation of glycerol.\n"
      ]
     },
     "metadata": {},
     "output_type": "display_data"
    },
    {
     "name": "stdout",
     "output_type": "stream",
     "text": [
      "\n"
     ]
    },
    {
     "name": "stdin",
     "output_type": "stream",
     "text": [
      "Continue? (y/n) n\n"
     ]
    }
   ],
   "source": [
    "%litdb openalex single atom alloys"
   ]
  },
  {
   "cell_type": "code",
   "execution_count": 20,
   "id": "d81dc56e-0b85-462d-aef5-b397ed6fb269",
   "metadata": {},
   "outputs": [],
   "source": [
    "%litdb web --all single atom alloys"
   ]
  },
  {
   "cell_type": "code",
   "execution_count": 21,
   "id": "1b44d8f6-49a8-4760-a331-710c8ada6923",
   "metadata": {},
   "outputs": [
    {
     "data": {
      "text/html": [
       "<pre>0000-0003-2625-9232-2024-12-30.xlsx</pre><br><a href=\"data:text/plain;base64,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\" download=\"0000-0003-2625-9232-2024-12-30.xlsx\">Download COA</a>"
      ],
      "text/plain": [
       "<IPython.core.display.HTML object>"
      ]
     },
     "metadata": {},
     "output_type": "display_data"
    }
   ],
   "source": [
    "%litdb coa https://orcid.org/0000-0003-2625-9232"
   ]
  }
 ],
 "metadata": {
  "kernelspec": {
   "display_name": "Python 3 (ipykernel)",
   "language": "python",
   "name": "python3"
  },
  "language_info": {
   "codemirror_mode": {
    "name": "ipython",
    "version": 3
   },
   "file_extension": ".py",
   "mimetype": "text/x-python",
   "name": "python",
   "nbconvert_exporter": "python",
   "pygments_lexer": "ipython3",
   "version": "3.12.7"
  }
 },
 "nbformat": 4,
 "nbformat_minor": 5
}
